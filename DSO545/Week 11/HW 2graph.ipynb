{
 "cells": [
  {
   "cell_type": "code",
   "execution_count": 158,
   "metadata": {
    "ExecuteTime": {
     "end_time": "2020-11-09T10:58:42.813921Z",
     "start_time": "2020-11-09T10:58:42.642006Z"
    }
   },
   "outputs": [],
   "source": [
    "import pandas as pd\n",
    "import plotly.graph_objects as go\n",
    "import plotly.express as px"
   ]
  },
  {
   "cell_type": "code",
   "execution_count": 2,
   "metadata": {
    "ExecuteTime": {
     "end_time": "2020-11-09T06:54:54.036219Z",
     "start_time": "2020-11-09T06:54:54.009658Z"
    }
   },
   "outputs": [
    {
     "name": "stderr",
     "output_type": "stream",
     "text": [
      "<ipython-input-2-700d1ace86dc>:8: SettingWithCopyWarning: \n",
      "A value is trying to be set on a copy of a slice from a DataFrame.\n",
      "Try using .loc[row_indexer,col_indexer] = value instead\n",
      "\n",
      "See the caveats in the documentation: https://pandas.pydata.org/pandas-docs/stable/user_guide/indexing.html#returning-a-view-versus-a-copy\n",
      "  transportion_electricity['RE Share']=round(transportion_electricity['RE Share']*100)\n",
      "<ipython-input-2-700d1ace86dc>:9: SettingWithCopyWarning: \n",
      "A value is trying to be set on a copy of a slice from a DataFrame.\n",
      "Try using .loc[row_indexer,col_indexer] = value instead\n",
      "\n",
      "See the caveats in the documentation: https://pandas.pydata.org/pandas-docs/stable/user_guide/indexing.html#returning-a-view-versus-a-copy\n",
      "  industry_electricity['RE Share']=round(industry_electricity['RE Share']*100)\n",
      "<ipython-input-2-700d1ace86dc>:10: SettingWithCopyWarning: \n",
      "A value is trying to be set on a copy of a slice from a DataFrame.\n",
      "Try using .loc[row_indexer,col_indexer] = value instead\n",
      "\n",
      "See the caveats in the documentation: https://pandas.pydata.org/pandas-docs/stable/user_guide/indexing.html#returning-a-view-versus-a-copy\n",
      "  building_electricity['RE Share']=round(building_electricity['RE Share']*100)\n"
     ]
    }
   ],
   "source": [
    "data = pd.read_csv('World.csv')\n",
    "transportion_electricity = data[:8]\n",
    "transportion_other = data[8:16]\n",
    "industry_electricity = data[16:24]\n",
    "industry_other = data[24:32]\n",
    "building_electricity = data[32:40]\n",
    "building_other = data[40:48]\n",
    "transportion_electricity['RE Share']=round(transportion_electricity['RE Share']*100)\n",
    "industry_electricity['RE Share']=round(industry_electricity['RE Share']*100)\n",
    "building_electricity['RE Share']=round(building_electricity['RE Share']*100)"
   ]
  },
  {
   "cell_type": "code",
   "execution_count": 206,
   "metadata": {
    "ExecuteTime": {
     "end_time": "2020-11-09T11:38:46.568442Z",
     "start_time": "2020-11-09T11:38:46.524173Z"
    }
   },
   "outputs": [
    {
     "data": {
      "application/vnd.plotly.v1+json": {
       "config": {
        "plotlyServerURL": "https://plot.ly"
       },
       "data": [
        {
         "customdata": [
          2,
          2,
          6,
          18,
          37,
          45,
          48,
          50
         ],
         "hovertemplate": "%{customdata:}% electrification",
         "line": {
          "color": "lightblue",
          "width": 0.5
         },
         "marker": {
          "color": "white",
          "size": 7
         },
         "mode": "lines+markers+text",
         "name": "",
         "stackgroup": "one",
         "type": "scatter",
         "x": [
          2015,
          2020,
          2025,
          2030,
          2035,
          2040,
          2045,
          2050
         ],
         "y": [
          1503,
          1855,
          4930,
          11034,
          17582,
          19380,
          19142,
          18839
         ]
        },
        {
         "hoverinfo": "x+y",
         "line": {
          "color": "blue",
          "width": 0.5
         },
         "mode": "lines",
         "name": "5",
         "stackgroup": "one",
         "type": "scatter",
         "x": [
          2015,
          2020,
          2025,
          2030,
          2035,
          2040,
          2045,
          2050
         ],
         "y": [
          95682,
          98540,
          74292,
          48646,
          30531,
          24055,
          20974,
          18871
         ]
        },
        {
         "customdata": [
          27,
          28,
          33,
          40,
          47,
          51,
          54,
          58
         ],
         "hovertemplate": "%{customdata:}% electrification",
         "line": {
          "color": "lightgrey",
          "width": 0.5
         },
         "marker": {
          "color": "white",
          "size": 7
         },
         "mode": "lines+markers+text",
         "name": "",
         "stackgroup": "one",
         "type": "scatter",
         "x": [
          2015,
          2020,
          2025,
          2030,
          2035,
          2040,
          2045,
          2050
         ],
         "y": [
          30591,
          33856,
          38010,
          43105,
          47169,
          50266,
          53485,
          56877
         ]
        },
        {
         "hoverinfo": "x+y",
         "line": {
          "color": "grey",
          "width": 0.5
         },
         "mode": "lines",
         "name": "3",
         "stackgroup": "one",
         "type": "scatter",
         "x": [
          2015,
          2020,
          2025,
          2030,
          2035,
          2040,
          2045,
          2050
         ],
         "y": [
          82970,
          85661,
          75498,
          64083,
          53675,
          48983,
          44778,
          41695
         ]
        },
        {
         "customdata": [
          31,
          33,
          38,
          45,
          50,
          55,
          60,
          64
         ],
         "hovertemplate": "%{customdata:}% electrification",
         "line": {
          "color": "pink",
          "width": 0.5
         },
         "marker": {
          "color": "white",
          "size": 7
         },
         "mode": "lines+markers+text",
         "name": "",
         "stackgroup": "one",
         "type": "scatter",
         "x": [
          2015,
          2020,
          2025,
          2030,
          2035,
          2040,
          2045,
          2050
         ],
         "y": [
          40640,
          45183,
          49102,
          52520,
          57000,
          62762,
          68733,
          74438
         ]
        },
        {
         "hoverinfo": "x+y",
         "line": {
          "color": "red",
          "width": 0.5
         },
         "mode": "lines",
         "name": "1",
         "stackgroup": "one",
         "type": "scatter",
         "x": [
          2015,
          2020,
          2025,
          2030,
          2035,
          2040,
          2045,
          2050
         ],
         "y": [
          90503,
          90005,
          78634,
          64757,
          56742,
          51398,
          46601,
          42430
         ]
        }
       ],
       "layout": {
        "annotations": [
         {
          "font": {
           "color": "rgb(10,10,10)",
           "family": "Arial",
           "size": 25
          },
          "showarrow": false,
          "text": "Global Electrification to Achieve the 1.5°C Goal",
          "x": -0.09,
          "xanchor": "left",
          "xref": "paper",
          "y": 1,
          "yanchor": "bottom",
          "yref": "paper"
         },
         {
          "font": {
           "color": "white",
           "family": "Arial",
           "size": 17
          },
          "showarrow": false,
          "text": "Buildings/Other",
          "x": 0.01,
          "xanchor": "left",
          "xref": "paper",
          "y": 0.86,
          "yanchor": "bottom",
          "yref": "paper"
         },
         {
          "font": {
           "color": "white",
           "family": "Arial",
           "size": 17
          },
          "showarrow": false,
          "text": "Transportation",
          "x": 0.01,
          "xanchor": "left",
          "xref": "paper",
          "y": 0.2,
          "yanchor": "bottom",
          "yref": "paper"
         },
         {
          "font": {
           "color": "white",
           "family": "Arial",
           "size": 17
          },
          "showarrow": false,
          "text": "Industry",
          "x": 0.01,
          "xanchor": "left",
          "xref": "paper",
          "y": 0.51,
          "yanchor": "bottom",
          "yref": "paper"
         },
         {
          "font": {
           "color": "white",
           "family": "Arial",
           "size": 12
          },
          "showarrow": false,
          "text": "On-site energy",
          "x": 0.84,
          "xanchor": "left",
          "xref": "paper",
          "y": 0.6,
          "yanchor": "top",
          "yref": "paper"
         },
         {
          "font": {
           "color": "black",
           "family": "Arial",
           "size": 12
          },
          "showarrow": false,
          "text": "Electric power",
          "x": 0.84,
          "xanchor": "left",
          "xref": "paper",
          "y": 0.41,
          "yanchor": "top",
          "yref": "paper"
         },
         {
          "font": {
           "color": "black",
           "family": "Arial",
           "size": 12
          },
          "showarrow": false,
          "text": "On-site energy",
          "x": 0.84,
          "xanchor": "left",
          "xref": "paper",
          "y": 0.29,
          "yanchor": "top",
          "yref": "paper"
         },
         {
          "font": {
           "color": "black",
           "family": "Arial",
           "size": 12
          },
          "showarrow": false,
          "text": "Electric power",
          "x": 0.84,
          "xanchor": "left",
          "xref": "paper",
          "y": 0.14,
          "yanchor": "top",
          "yref": "paper"
         },
         {
          "font": {
           "color": "black",
           "family": "Arial",
           "size": 12
          },
          "showarrow": false,
          "text": "On-board fuels",
          "x": 0.84,
          "xanchor": "left",
          "xref": "paper",
          "y": 0.08,
          "yanchor": "top",
          "yref": "paper"
         },
         {
          "font": {
           "color": "black",
           "family": "Arial",
           "size": 12
          },
          "showarrow": false,
          "text": "Electric power",
          "x": 0.84,
          "xanchor": "left",
          "xref": "paper",
          "y": 0.03,
          "yanchor": "top",
          "yref": "paper"
         }
        ],
        "autosize": false,
        "height": 700,
        "plot_bgcolor": "white",
        "showlegend": false,
        "template": {
         "data": {
          "bar": [
           {
            "error_x": {
             "color": "#2a3f5f"
            },
            "error_y": {
             "color": "#2a3f5f"
            },
            "marker": {
             "line": {
              "color": "#E5ECF6",
              "width": 0.5
             }
            },
            "type": "bar"
           }
          ],
          "barpolar": [
           {
            "marker": {
             "line": {
              "color": "#E5ECF6",
              "width": 0.5
             }
            },
            "type": "barpolar"
           }
          ],
          "carpet": [
           {
            "aaxis": {
             "endlinecolor": "#2a3f5f",
             "gridcolor": "white",
             "linecolor": "white",
             "minorgridcolor": "white",
             "startlinecolor": "#2a3f5f"
            },
            "baxis": {
             "endlinecolor": "#2a3f5f",
             "gridcolor": "white",
             "linecolor": "white",
             "minorgridcolor": "white",
             "startlinecolor": "#2a3f5f"
            },
            "type": "carpet"
           }
          ],
          "choropleth": [
           {
            "colorbar": {
             "outlinewidth": 0,
             "ticks": ""
            },
            "type": "choropleth"
           }
          ],
          "contour": [
           {
            "colorbar": {
             "outlinewidth": 0,
             "ticks": ""
            },
            "colorscale": [
             [
              0,
              "#0d0887"
             ],
             [
              0.1111111111111111,
              "#46039f"
             ],
             [
              0.2222222222222222,
              "#7201a8"
             ],
             [
              0.3333333333333333,
              "#9c179e"
             ],
             [
              0.4444444444444444,
              "#bd3786"
             ],
             [
              0.5555555555555556,
              "#d8576b"
             ],
             [
              0.6666666666666666,
              "#ed7953"
             ],
             [
              0.7777777777777778,
              "#fb9f3a"
             ],
             [
              0.8888888888888888,
              "#fdca26"
             ],
             [
              1,
              "#f0f921"
             ]
            ],
            "type": "contour"
           }
          ],
          "contourcarpet": [
           {
            "colorbar": {
             "outlinewidth": 0,
             "ticks": ""
            },
            "type": "contourcarpet"
           }
          ],
          "heatmap": [
           {
            "colorbar": {
             "outlinewidth": 0,
             "ticks": ""
            },
            "colorscale": [
             [
              0,
              "#0d0887"
             ],
             [
              0.1111111111111111,
              "#46039f"
             ],
             [
              0.2222222222222222,
              "#7201a8"
             ],
             [
              0.3333333333333333,
              "#9c179e"
             ],
             [
              0.4444444444444444,
              "#bd3786"
             ],
             [
              0.5555555555555556,
              "#d8576b"
             ],
             [
              0.6666666666666666,
              "#ed7953"
             ],
             [
              0.7777777777777778,
              "#fb9f3a"
             ],
             [
              0.8888888888888888,
              "#fdca26"
             ],
             [
              1,
              "#f0f921"
             ]
            ],
            "type": "heatmap"
           }
          ],
          "heatmapgl": [
           {
            "colorbar": {
             "outlinewidth": 0,
             "ticks": ""
            },
            "colorscale": [
             [
              0,
              "#0d0887"
             ],
             [
              0.1111111111111111,
              "#46039f"
             ],
             [
              0.2222222222222222,
              "#7201a8"
             ],
             [
              0.3333333333333333,
              "#9c179e"
             ],
             [
              0.4444444444444444,
              "#bd3786"
             ],
             [
              0.5555555555555556,
              "#d8576b"
             ],
             [
              0.6666666666666666,
              "#ed7953"
             ],
             [
              0.7777777777777778,
              "#fb9f3a"
             ],
             [
              0.8888888888888888,
              "#fdca26"
             ],
             [
              1,
              "#f0f921"
             ]
            ],
            "type": "heatmapgl"
           }
          ],
          "histogram": [
           {
            "marker": {
             "colorbar": {
              "outlinewidth": 0,
              "ticks": ""
             }
            },
            "type": "histogram"
           }
          ],
          "histogram2d": [
           {
            "colorbar": {
             "outlinewidth": 0,
             "ticks": ""
            },
            "colorscale": [
             [
              0,
              "#0d0887"
             ],
             [
              0.1111111111111111,
              "#46039f"
             ],
             [
              0.2222222222222222,
              "#7201a8"
             ],
             [
              0.3333333333333333,
              "#9c179e"
             ],
             [
              0.4444444444444444,
              "#bd3786"
             ],
             [
              0.5555555555555556,
              "#d8576b"
             ],
             [
              0.6666666666666666,
              "#ed7953"
             ],
             [
              0.7777777777777778,
              "#fb9f3a"
             ],
             [
              0.8888888888888888,
              "#fdca26"
             ],
             [
              1,
              "#f0f921"
             ]
            ],
            "type": "histogram2d"
           }
          ],
          "histogram2dcontour": [
           {
            "colorbar": {
             "outlinewidth": 0,
             "ticks": ""
            },
            "colorscale": [
             [
              0,
              "#0d0887"
             ],
             [
              0.1111111111111111,
              "#46039f"
             ],
             [
              0.2222222222222222,
              "#7201a8"
             ],
             [
              0.3333333333333333,
              "#9c179e"
             ],
             [
              0.4444444444444444,
              "#bd3786"
             ],
             [
              0.5555555555555556,
              "#d8576b"
             ],
             [
              0.6666666666666666,
              "#ed7953"
             ],
             [
              0.7777777777777778,
              "#fb9f3a"
             ],
             [
              0.8888888888888888,
              "#fdca26"
             ],
             [
              1,
              "#f0f921"
             ]
            ],
            "type": "histogram2dcontour"
           }
          ],
          "mesh3d": [
           {
            "colorbar": {
             "outlinewidth": 0,
             "ticks": ""
            },
            "type": "mesh3d"
           }
          ],
          "parcoords": [
           {
            "line": {
             "colorbar": {
              "outlinewidth": 0,
              "ticks": ""
             }
            },
            "type": "parcoords"
           }
          ],
          "pie": [
           {
            "automargin": true,
            "type": "pie"
           }
          ],
          "scatter": [
           {
            "marker": {
             "colorbar": {
              "outlinewidth": 0,
              "ticks": ""
             }
            },
            "type": "scatter"
           }
          ],
          "scatter3d": [
           {
            "line": {
             "colorbar": {
              "outlinewidth": 0,
              "ticks": ""
             }
            },
            "marker": {
             "colorbar": {
              "outlinewidth": 0,
              "ticks": ""
             }
            },
            "type": "scatter3d"
           }
          ],
          "scattercarpet": [
           {
            "marker": {
             "colorbar": {
              "outlinewidth": 0,
              "ticks": ""
             }
            },
            "type": "scattercarpet"
           }
          ],
          "scattergeo": [
           {
            "marker": {
             "colorbar": {
              "outlinewidth": 0,
              "ticks": ""
             }
            },
            "type": "scattergeo"
           }
          ],
          "scattergl": [
           {
            "marker": {
             "colorbar": {
              "outlinewidth": 0,
              "ticks": ""
             }
            },
            "type": "scattergl"
           }
          ],
          "scattermapbox": [
           {
            "marker": {
             "colorbar": {
              "outlinewidth": 0,
              "ticks": ""
             }
            },
            "type": "scattermapbox"
           }
          ],
          "scatterpolar": [
           {
            "marker": {
             "colorbar": {
              "outlinewidth": 0,
              "ticks": ""
             }
            },
            "type": "scatterpolar"
           }
          ],
          "scatterpolargl": [
           {
            "marker": {
             "colorbar": {
              "outlinewidth": 0,
              "ticks": ""
             }
            },
            "type": "scatterpolargl"
           }
          ],
          "scatterternary": [
           {
            "marker": {
             "colorbar": {
              "outlinewidth": 0,
              "ticks": ""
             }
            },
            "type": "scatterternary"
           }
          ],
          "surface": [
           {
            "colorbar": {
             "outlinewidth": 0,
             "ticks": ""
            },
            "colorscale": [
             [
              0,
              "#0d0887"
             ],
             [
              0.1111111111111111,
              "#46039f"
             ],
             [
              0.2222222222222222,
              "#7201a8"
             ],
             [
              0.3333333333333333,
              "#9c179e"
             ],
             [
              0.4444444444444444,
              "#bd3786"
             ],
             [
              0.5555555555555556,
              "#d8576b"
             ],
             [
              0.6666666666666666,
              "#ed7953"
             ],
             [
              0.7777777777777778,
              "#fb9f3a"
             ],
             [
              0.8888888888888888,
              "#fdca26"
             ],
             [
              1,
              "#f0f921"
             ]
            ],
            "type": "surface"
           }
          ],
          "table": [
           {
            "cells": {
             "fill": {
              "color": "#EBF0F8"
             },
             "line": {
              "color": "white"
             }
            },
            "header": {
             "fill": {
              "color": "#C8D4E3"
             },
             "line": {
              "color": "white"
             }
            },
            "type": "table"
           }
          ]
         },
         "layout": {
          "annotationdefaults": {
           "arrowcolor": "#2a3f5f",
           "arrowhead": 0,
           "arrowwidth": 1
          },
          "coloraxis": {
           "colorbar": {
            "outlinewidth": 0,
            "ticks": ""
           }
          },
          "colorscale": {
           "diverging": [
            [
             0,
             "#8e0152"
            ],
            [
             0.1,
             "#c51b7d"
            ],
            [
             0.2,
             "#de77ae"
            ],
            [
             0.3,
             "#f1b6da"
            ],
            [
             0.4,
             "#fde0ef"
            ],
            [
             0.5,
             "#f7f7f7"
            ],
            [
             0.6,
             "#e6f5d0"
            ],
            [
             0.7,
             "#b8e186"
            ],
            [
             0.8,
             "#7fbc41"
            ],
            [
             0.9,
             "#4d9221"
            ],
            [
             1,
             "#276419"
            ]
           ],
           "sequential": [
            [
             0,
             "#0d0887"
            ],
            [
             0.1111111111111111,
             "#46039f"
            ],
            [
             0.2222222222222222,
             "#7201a8"
            ],
            [
             0.3333333333333333,
             "#9c179e"
            ],
            [
             0.4444444444444444,
             "#bd3786"
            ],
            [
             0.5555555555555556,
             "#d8576b"
            ],
            [
             0.6666666666666666,
             "#ed7953"
            ],
            [
             0.7777777777777778,
             "#fb9f3a"
            ],
            [
             0.8888888888888888,
             "#fdca26"
            ],
            [
             1,
             "#f0f921"
            ]
           ],
           "sequentialminus": [
            [
             0,
             "#0d0887"
            ],
            [
             0.1111111111111111,
             "#46039f"
            ],
            [
             0.2222222222222222,
             "#7201a8"
            ],
            [
             0.3333333333333333,
             "#9c179e"
            ],
            [
             0.4444444444444444,
             "#bd3786"
            ],
            [
             0.5555555555555556,
             "#d8576b"
            ],
            [
             0.6666666666666666,
             "#ed7953"
            ],
            [
             0.7777777777777778,
             "#fb9f3a"
            ],
            [
             0.8888888888888888,
             "#fdca26"
            ],
            [
             1,
             "#f0f921"
            ]
           ]
          },
          "colorway": [
           "#636efa",
           "#EF553B",
           "#00cc96",
           "#ab63fa",
           "#FFA15A",
           "#19d3f3",
           "#FF6692",
           "#B6E880",
           "#FF97FF",
           "#FECB52"
          ],
          "font": {
           "color": "#2a3f5f"
          },
          "geo": {
           "bgcolor": "white",
           "lakecolor": "white",
           "landcolor": "#E5ECF6",
           "showlakes": true,
           "showland": true,
           "subunitcolor": "white"
          },
          "hoverlabel": {
           "align": "left"
          },
          "hovermode": "closest",
          "mapbox": {
           "style": "light"
          },
          "paper_bgcolor": "white",
          "plot_bgcolor": "#E5ECF6",
          "polar": {
           "angularaxis": {
            "gridcolor": "white",
            "linecolor": "white",
            "ticks": ""
           },
           "bgcolor": "#E5ECF6",
           "radialaxis": {
            "gridcolor": "white",
            "linecolor": "white",
            "ticks": ""
           }
          },
          "scene": {
           "xaxis": {
            "backgroundcolor": "#E5ECF6",
            "gridcolor": "white",
            "gridwidth": 2,
            "linecolor": "white",
            "showbackground": true,
            "ticks": "",
            "zerolinecolor": "white"
           },
           "yaxis": {
            "backgroundcolor": "#E5ECF6",
            "gridcolor": "white",
            "gridwidth": 2,
            "linecolor": "white",
            "showbackground": true,
            "ticks": "",
            "zerolinecolor": "white"
           },
           "zaxis": {
            "backgroundcolor": "#E5ECF6",
            "gridcolor": "white",
            "gridwidth": 2,
            "linecolor": "white",
            "showbackground": true,
            "ticks": "",
            "zerolinecolor": "white"
           }
          },
          "shapedefaults": {
           "line": {
            "color": "#2a3f5f"
           }
          },
          "ternary": {
           "aaxis": {
            "gridcolor": "white",
            "linecolor": "white",
            "ticks": ""
           },
           "baxis": {
            "gridcolor": "white",
            "linecolor": "white",
            "ticks": ""
           },
           "bgcolor": "#E5ECF6",
           "caxis": {
            "gridcolor": "white",
            "linecolor": "white",
            "ticks": ""
           }
          },
          "title": {
           "x": 0.05
          },
          "xaxis": {
           "automargin": true,
           "gridcolor": "white",
           "linecolor": "white",
           "ticks": "",
           "title": {
            "standoff": 15
           },
           "zerolinecolor": "white",
           "zerolinewidth": 2
          },
          "yaxis": {
           "automargin": true,
           "gridcolor": "white",
           "linecolor": "white",
           "ticks": "",
           "title": {
            "standoff": 15
           },
           "zerolinecolor": "white",
           "zerolinewidth": 2
          }
         }
        },
        "width": 700,
        "xaxis": {
         "showgrid": false
        },
        "yaxis": {
         "showgrid": false,
         "tickformat": ",d",
         "tickvals": [
          50000,
          100000,
          150000,
          200000,
          250000,
          300000,
          350000
         ],
         "title": {
          "font": {
           "color": "rgb(10,10,10)",
           "family": "Arial",
           "size": 18
          },
          "text": "Final Energy Demand (PJ)"
         }
        }
       }
      },
      "text/html": [
       "<div>                            <div id=\"dc6dda61-99a3-42eb-9660-53fbff1be8ab\" class=\"plotly-graph-div\" style=\"height:700px; width:700px;\"></div>            <script type=\"text/javascript\">                require([\"plotly\"], function(Plotly) {                    window.PLOTLYENV=window.PLOTLYENV || {};                                    if (document.getElementById(\"dc6dda61-99a3-42eb-9660-53fbff1be8ab\")) {                    Plotly.newPlot(                        \"dc6dda61-99a3-42eb-9660-53fbff1be8ab\",                        [{\"customdata\": [2.0, 2.0, 6.0, 18.0, 37.0, 45.0, 48.0, 50.0], \"hovertemplate\": \"%{customdata:}% electrification\", \"line\": {\"color\": \"lightblue\", \"width\": 0.5}, \"marker\": {\"color\": \"white\", \"size\": 7}, \"mode\": \"lines+markers+text\", \"name\": \"\", \"stackgroup\": \"one\", \"type\": \"scatter\", \"x\": [2015, 2020, 2025, 2030, 2035, 2040, 2045, 2050], \"y\": [1503, 1855, 4930, 11034, 17582, 19380, 19142, 18839]}, {\"hoverinfo\": \"x+y\", \"line\": {\"color\": \"blue\", \"width\": 0.5}, \"mode\": \"lines\", \"name\": \"5\", \"stackgroup\": \"one\", \"type\": \"scatter\", \"x\": [2015, 2020, 2025, 2030, 2035, 2040, 2045, 2050], \"y\": [95682, 98540, 74292, 48646, 30531, 24055, 20974, 18871]}, {\"customdata\": [27.0, 28.0, 33.0, 40.0, 47.0, 51.0, 54.0, 58.0], \"hovertemplate\": \"%{customdata:}% electrification\", \"line\": {\"color\": \"lightgrey\", \"width\": 0.5}, \"marker\": {\"color\": \"white\", \"size\": 7}, \"mode\": \"lines+markers+text\", \"name\": \"\", \"stackgroup\": \"one\", \"type\": \"scatter\", \"x\": [2015, 2020, 2025, 2030, 2035, 2040, 2045, 2050], \"y\": [30591, 33856, 38010, 43105, 47169, 50266, 53485, 56877]}, {\"hoverinfo\": \"x+y\", \"line\": {\"color\": \"grey\", \"width\": 0.5}, \"mode\": \"lines\", \"name\": \"3\", \"stackgroup\": \"one\", \"type\": \"scatter\", \"x\": [2015, 2020, 2025, 2030, 2035, 2040, 2045, 2050], \"y\": [82970, 85661, 75498, 64083, 53675, 48983, 44778, 41695]}, {\"customdata\": [31.0, 33.0, 38.0, 45.0, 50.0, 55.0, 60.0, 64.0], \"hovertemplate\": \"%{customdata:}% electrification\", \"line\": {\"color\": \"pink\", \"width\": 0.5}, \"marker\": {\"color\": \"white\", \"size\": 7}, \"mode\": \"lines+markers+text\", \"name\": \"\", \"stackgroup\": \"one\", \"type\": \"scatter\", \"x\": [2015, 2020, 2025, 2030, 2035, 2040, 2045, 2050], \"y\": [40640, 45183, 49102, 52520, 57000, 62762, 68733, 74438]}, {\"hoverinfo\": \"x+y\", \"line\": {\"color\": \"red\", \"width\": 0.5}, \"mode\": \"lines\", \"name\": \"1\", \"stackgroup\": \"one\", \"type\": \"scatter\", \"x\": [2015, 2020, 2025, 2030, 2035, 2040, 2045, 2050], \"y\": [90503, 90005, 78634, 64757, 56742, 51398, 46601, 42430]}],                        {\"annotations\": [{\"font\": {\"color\": \"rgb(10,10,10)\", \"family\": \"Arial\", \"size\": 25}, \"showarrow\": false, \"text\": \"Global Electrification to Achieve the 1.5\\u00b0C Goal\", \"x\": -0.09, \"xanchor\": \"left\", \"xref\": \"paper\", \"y\": 1, \"yanchor\": \"bottom\", \"yref\": \"paper\"}, {\"font\": {\"color\": \"white\", \"family\": \"Arial\", \"size\": 17}, \"showarrow\": false, \"text\": \"Buildings/Other\", \"x\": 0.01, \"xanchor\": \"left\", \"xref\": \"paper\", \"y\": 0.86, \"yanchor\": \"bottom\", \"yref\": \"paper\"}, {\"font\": {\"color\": \"white\", \"family\": \"Arial\", \"size\": 17}, \"showarrow\": false, \"text\": \"Transportation\", \"x\": 0.01, \"xanchor\": \"left\", \"xref\": \"paper\", \"y\": 0.2, \"yanchor\": \"bottom\", \"yref\": \"paper\"}, {\"font\": {\"color\": \"white\", \"family\": \"Arial\", \"size\": 17}, \"showarrow\": false, \"text\": \"Industry\", \"x\": 0.01, \"xanchor\": \"left\", \"xref\": \"paper\", \"y\": 0.51, \"yanchor\": \"bottom\", \"yref\": \"paper\"}, {\"font\": {\"color\": \"white\", \"family\": \"Arial\", \"size\": 12}, \"showarrow\": false, \"text\": \"On-site energy\", \"x\": 0.84, \"xanchor\": \"left\", \"xref\": \"paper\", \"y\": 0.6, \"yanchor\": \"top\", \"yref\": \"paper\"}, {\"font\": {\"color\": \"black\", \"family\": \"Arial\", \"size\": 12}, \"showarrow\": false, \"text\": \"Electric power\", \"x\": 0.84, \"xanchor\": \"left\", \"xref\": \"paper\", \"y\": 0.41, \"yanchor\": \"top\", \"yref\": \"paper\"}, {\"font\": {\"color\": \"black\", \"family\": \"Arial\", \"size\": 12}, \"showarrow\": false, \"text\": \"On-site energy\", \"x\": 0.84, \"xanchor\": \"left\", \"xref\": \"paper\", \"y\": 0.29, \"yanchor\": \"top\", \"yref\": \"paper\"}, {\"font\": {\"color\": \"black\", \"family\": \"Arial\", \"size\": 12}, \"showarrow\": false, \"text\": \"Electric power\", \"x\": 0.84, \"xanchor\": \"left\", \"xref\": \"paper\", \"y\": 0.14, \"yanchor\": \"top\", \"yref\": \"paper\"}, {\"font\": {\"color\": \"black\", \"family\": \"Arial\", \"size\": 12}, \"showarrow\": false, \"text\": \"On-board fuels\", \"x\": 0.84, \"xanchor\": \"left\", \"xref\": \"paper\", \"y\": 0.08, \"yanchor\": \"top\", \"yref\": \"paper\"}, {\"font\": {\"color\": \"black\", \"family\": \"Arial\", \"size\": 12}, \"showarrow\": false, \"text\": \"Electric power\", \"x\": 0.84, \"xanchor\": \"left\", \"xref\": \"paper\", \"y\": 0.03, \"yanchor\": \"top\", \"yref\": \"paper\"}], \"autosize\": false, \"height\": 700, \"plot_bgcolor\": \"white\", \"showlegend\": false, \"template\": {\"data\": {\"bar\": [{\"error_x\": {\"color\": \"#2a3f5f\"}, \"error_y\": {\"color\": \"#2a3f5f\"}, \"marker\": {\"line\": {\"color\": \"#E5ECF6\", \"width\": 0.5}}, \"type\": \"bar\"}], \"barpolar\": [{\"marker\": {\"line\": {\"color\": \"#E5ECF6\", \"width\": 0.5}}, \"type\": \"barpolar\"}], \"carpet\": [{\"aaxis\": {\"endlinecolor\": \"#2a3f5f\", \"gridcolor\": \"white\", \"linecolor\": \"white\", \"minorgridcolor\": \"white\", \"startlinecolor\": \"#2a3f5f\"}, \"baxis\": {\"endlinecolor\": \"#2a3f5f\", \"gridcolor\": \"white\", \"linecolor\": \"white\", \"minorgridcolor\": \"white\", \"startlinecolor\": \"#2a3f5f\"}, \"type\": \"carpet\"}], \"choropleth\": [{\"colorbar\": {\"outlinewidth\": 0, \"ticks\": \"\"}, \"type\": \"choropleth\"}], \"contour\": [{\"colorbar\": {\"outlinewidth\": 0, \"ticks\": \"\"}, \"colorscale\": [[0.0, \"#0d0887\"], [0.1111111111111111, \"#46039f\"], [0.2222222222222222, \"#7201a8\"], [0.3333333333333333, \"#9c179e\"], [0.4444444444444444, \"#bd3786\"], [0.5555555555555556, \"#d8576b\"], [0.6666666666666666, \"#ed7953\"], [0.7777777777777778, \"#fb9f3a\"], [0.8888888888888888, \"#fdca26\"], [1.0, \"#f0f921\"]], \"type\": \"contour\"}], \"contourcarpet\": [{\"colorbar\": {\"outlinewidth\": 0, \"ticks\": \"\"}, \"type\": \"contourcarpet\"}], \"heatmap\": [{\"colorbar\": {\"outlinewidth\": 0, \"ticks\": \"\"}, \"colorscale\": [[0.0, \"#0d0887\"], [0.1111111111111111, \"#46039f\"], [0.2222222222222222, \"#7201a8\"], [0.3333333333333333, \"#9c179e\"], [0.4444444444444444, \"#bd3786\"], [0.5555555555555556, \"#d8576b\"], [0.6666666666666666, \"#ed7953\"], [0.7777777777777778, \"#fb9f3a\"], [0.8888888888888888, \"#fdca26\"], [1.0, \"#f0f921\"]], \"type\": \"heatmap\"}], \"heatmapgl\": [{\"colorbar\": {\"outlinewidth\": 0, \"ticks\": \"\"}, \"colorscale\": [[0.0, \"#0d0887\"], [0.1111111111111111, \"#46039f\"], [0.2222222222222222, \"#7201a8\"], [0.3333333333333333, \"#9c179e\"], [0.4444444444444444, \"#bd3786\"], [0.5555555555555556, \"#d8576b\"], [0.6666666666666666, \"#ed7953\"], [0.7777777777777778, \"#fb9f3a\"], [0.8888888888888888, \"#fdca26\"], [1.0, \"#f0f921\"]], \"type\": \"heatmapgl\"}], \"histogram\": [{\"marker\": {\"colorbar\": {\"outlinewidth\": 0, \"ticks\": \"\"}}, \"type\": \"histogram\"}], \"histogram2d\": [{\"colorbar\": {\"outlinewidth\": 0, \"ticks\": \"\"}, \"colorscale\": [[0.0, \"#0d0887\"], [0.1111111111111111, \"#46039f\"], [0.2222222222222222, \"#7201a8\"], [0.3333333333333333, \"#9c179e\"], [0.4444444444444444, \"#bd3786\"], [0.5555555555555556, \"#d8576b\"], [0.6666666666666666, \"#ed7953\"], [0.7777777777777778, \"#fb9f3a\"], [0.8888888888888888, \"#fdca26\"], [1.0, \"#f0f921\"]], \"type\": \"histogram2d\"}], \"histogram2dcontour\": [{\"colorbar\": {\"outlinewidth\": 0, \"ticks\": \"\"}, \"colorscale\": [[0.0, \"#0d0887\"], [0.1111111111111111, \"#46039f\"], [0.2222222222222222, \"#7201a8\"], [0.3333333333333333, \"#9c179e\"], [0.4444444444444444, \"#bd3786\"], [0.5555555555555556, \"#d8576b\"], [0.6666666666666666, \"#ed7953\"], [0.7777777777777778, \"#fb9f3a\"], [0.8888888888888888, \"#fdca26\"], [1.0, \"#f0f921\"]], \"type\": \"histogram2dcontour\"}], \"mesh3d\": [{\"colorbar\": {\"outlinewidth\": 0, \"ticks\": \"\"}, \"type\": \"mesh3d\"}], \"parcoords\": [{\"line\": {\"colorbar\": {\"outlinewidth\": 0, \"ticks\": \"\"}}, \"type\": \"parcoords\"}], \"pie\": [{\"automargin\": true, \"type\": \"pie\"}], \"scatter\": [{\"marker\": {\"colorbar\": {\"outlinewidth\": 0, \"ticks\": \"\"}}, \"type\": \"scatter\"}], \"scatter3d\": [{\"line\": {\"colorbar\": {\"outlinewidth\": 0, \"ticks\": \"\"}}, \"marker\": {\"colorbar\": {\"outlinewidth\": 0, \"ticks\": \"\"}}, \"type\": \"scatter3d\"}], \"scattercarpet\": [{\"marker\": {\"colorbar\": {\"outlinewidth\": 0, \"ticks\": \"\"}}, \"type\": \"scattercarpet\"}], \"scattergeo\": [{\"marker\": {\"colorbar\": {\"outlinewidth\": 0, \"ticks\": \"\"}}, \"type\": \"scattergeo\"}], \"scattergl\": [{\"marker\": {\"colorbar\": {\"outlinewidth\": 0, \"ticks\": \"\"}}, \"type\": \"scattergl\"}], \"scattermapbox\": [{\"marker\": {\"colorbar\": {\"outlinewidth\": 0, \"ticks\": \"\"}}, \"type\": \"scattermapbox\"}], \"scatterpolar\": [{\"marker\": {\"colorbar\": {\"outlinewidth\": 0, \"ticks\": \"\"}}, \"type\": \"scatterpolar\"}], \"scatterpolargl\": [{\"marker\": {\"colorbar\": {\"outlinewidth\": 0, \"ticks\": \"\"}}, \"type\": \"scatterpolargl\"}], \"scatterternary\": [{\"marker\": {\"colorbar\": {\"outlinewidth\": 0, \"ticks\": \"\"}}, \"type\": \"scatterternary\"}], \"surface\": [{\"colorbar\": {\"outlinewidth\": 0, \"ticks\": \"\"}, \"colorscale\": [[0.0, \"#0d0887\"], [0.1111111111111111, \"#46039f\"], [0.2222222222222222, \"#7201a8\"], [0.3333333333333333, \"#9c179e\"], [0.4444444444444444, \"#bd3786\"], [0.5555555555555556, \"#d8576b\"], [0.6666666666666666, \"#ed7953\"], [0.7777777777777778, \"#fb9f3a\"], [0.8888888888888888, \"#fdca26\"], [1.0, \"#f0f921\"]], \"type\": \"surface\"}], \"table\": [{\"cells\": {\"fill\": {\"color\": \"#EBF0F8\"}, \"line\": {\"color\": \"white\"}}, \"header\": {\"fill\": {\"color\": \"#C8D4E3\"}, \"line\": {\"color\": \"white\"}}, \"type\": \"table\"}]}, \"layout\": {\"annotationdefaults\": {\"arrowcolor\": \"#2a3f5f\", \"arrowhead\": 0, \"arrowwidth\": 1}, \"coloraxis\": {\"colorbar\": {\"outlinewidth\": 0, \"ticks\": \"\"}}, \"colorscale\": {\"diverging\": [[0, \"#8e0152\"], [0.1, \"#c51b7d\"], [0.2, \"#de77ae\"], [0.3, \"#f1b6da\"], [0.4, \"#fde0ef\"], [0.5, \"#f7f7f7\"], [0.6, \"#e6f5d0\"], [0.7, \"#b8e186\"], [0.8, \"#7fbc41\"], [0.9, \"#4d9221\"], [1, \"#276419\"]], \"sequential\": [[0.0, \"#0d0887\"], [0.1111111111111111, \"#46039f\"], [0.2222222222222222, \"#7201a8\"], [0.3333333333333333, \"#9c179e\"], [0.4444444444444444, \"#bd3786\"], [0.5555555555555556, \"#d8576b\"], [0.6666666666666666, \"#ed7953\"], [0.7777777777777778, \"#fb9f3a\"], [0.8888888888888888, \"#fdca26\"], [1.0, \"#f0f921\"]], \"sequentialminus\": [[0.0, \"#0d0887\"], [0.1111111111111111, \"#46039f\"], [0.2222222222222222, \"#7201a8\"], [0.3333333333333333, \"#9c179e\"], [0.4444444444444444, \"#bd3786\"], [0.5555555555555556, \"#d8576b\"], [0.6666666666666666, \"#ed7953\"], [0.7777777777777778, \"#fb9f3a\"], [0.8888888888888888, \"#fdca26\"], [1.0, \"#f0f921\"]]}, \"colorway\": [\"#636efa\", \"#EF553B\", \"#00cc96\", \"#ab63fa\", \"#FFA15A\", \"#19d3f3\", \"#FF6692\", \"#B6E880\", \"#FF97FF\", \"#FECB52\"], \"font\": {\"color\": \"#2a3f5f\"}, \"geo\": {\"bgcolor\": \"white\", \"lakecolor\": \"white\", \"landcolor\": \"#E5ECF6\", \"showlakes\": true, \"showland\": true, \"subunitcolor\": \"white\"}, \"hoverlabel\": {\"align\": \"left\"}, \"hovermode\": \"closest\", \"mapbox\": {\"style\": \"light\"}, \"paper_bgcolor\": \"white\", \"plot_bgcolor\": \"#E5ECF6\", \"polar\": {\"angularaxis\": {\"gridcolor\": \"white\", \"linecolor\": \"white\", \"ticks\": \"\"}, \"bgcolor\": \"#E5ECF6\", \"radialaxis\": {\"gridcolor\": \"white\", \"linecolor\": \"white\", \"ticks\": \"\"}}, \"scene\": {\"xaxis\": {\"backgroundcolor\": \"#E5ECF6\", \"gridcolor\": \"white\", \"gridwidth\": 2, \"linecolor\": \"white\", \"showbackground\": true, \"ticks\": \"\", \"zerolinecolor\": \"white\"}, \"yaxis\": {\"backgroundcolor\": \"#E5ECF6\", \"gridcolor\": \"white\", \"gridwidth\": 2, \"linecolor\": \"white\", \"showbackground\": true, \"ticks\": \"\", \"zerolinecolor\": \"white\"}, \"zaxis\": {\"backgroundcolor\": \"#E5ECF6\", \"gridcolor\": \"white\", \"gridwidth\": 2, \"linecolor\": \"white\", \"showbackground\": true, \"ticks\": \"\", \"zerolinecolor\": \"white\"}}, \"shapedefaults\": {\"line\": {\"color\": \"#2a3f5f\"}}, \"ternary\": {\"aaxis\": {\"gridcolor\": \"white\", \"linecolor\": \"white\", \"ticks\": \"\"}, \"baxis\": {\"gridcolor\": \"white\", \"linecolor\": \"white\", \"ticks\": \"\"}, \"bgcolor\": \"#E5ECF6\", \"caxis\": {\"gridcolor\": \"white\", \"linecolor\": \"white\", \"ticks\": \"\"}}, \"title\": {\"x\": 0.05}, \"xaxis\": {\"automargin\": true, \"gridcolor\": \"white\", \"linecolor\": \"white\", \"ticks\": \"\", \"title\": {\"standoff\": 15}, \"zerolinecolor\": \"white\", \"zerolinewidth\": 2}, \"yaxis\": {\"automargin\": true, \"gridcolor\": \"white\", \"linecolor\": \"white\", \"ticks\": \"\", \"title\": {\"standoff\": 15}, \"zerolinecolor\": \"white\", \"zerolinewidth\": 2}}}, \"width\": 700, \"xaxis\": {\"showgrid\": false}, \"yaxis\": {\"showgrid\": false, \"tickformat\": \",d\", \"tickvals\": [50000, 100000, 150000, 200000, 250000, 300000, 350000], \"title\": {\"font\": {\"color\": \"rgb(10,10,10)\", \"family\": \"Arial\", \"size\": 18}, \"text\": \"Final Energy Demand (PJ)\"}}},                        {\"responsive\": true}                    ).then(function(){\n",
       "                            \n",
       "var gd = document.getElementById('dc6dda61-99a3-42eb-9660-53fbff1be8ab');\n",
       "var x = new MutationObserver(function (mutations, observer) {{\n",
       "        var display = window.getComputedStyle(gd).display;\n",
       "        if (!display || display === 'none') {{\n",
       "            console.log([gd, 'removed!']);\n",
       "            Plotly.purge(gd);\n",
       "            observer.disconnect();\n",
       "        }}\n",
       "}});\n",
       "\n",
       "// Listen for the removal of the full notebook cells\n",
       "var notebookContainer = gd.closest('#notebook-container');\n",
       "if (notebookContainer) {{\n",
       "    x.observe(notebookContainer, {childList: true});\n",
       "}}\n",
       "\n",
       "// Listen for the clearing of the current output cell\n",
       "var outputEl = gd.closest('.output');\n",
       "if (outputEl) {{\n",
       "    x.observe(outputEl, {childList: true});\n",
       "}}\n",
       "\n",
       "                        })                };                });            </script>        </div>"
      ]
     },
     "metadata": {},
     "output_type": "display_data"
    }
   ],
   "source": [
    "fig = go.Figure()\n",
    "\n",
    "electricity_data=[28, 24, 22, 33,33,22,33,44]\n",
    "\n",
    "\n",
    "fig.add_trace(go.Scatter(\n",
    "    x = transportion_electricity['Year'], y = transportion_electricity['Final Energy Demand'],\n",
    "    name='',\n",
    "    customdata=transportion_electricity['RE Share'],\n",
    "    mode=\"lines+markers+text\",\n",
    "    hovertemplate = '%{customdata:}% electrification',\n",
    "    marker=dict(\n",
    "            color='white',\n",
    "            size=7,\n",
    "        ),\n",
    "    line=dict(width=0.5, color='lightblue'),\n",
    "    stackgroup='one'))\n",
    "\n",
    "fig.add_trace(go.Scatter(\n",
    "    x = transportion_other['Year'], y = transportion_other['Final Energy Demand'], name='5',\n",
    "    hoverinfo='x+y',\n",
    "    mode='lines',\n",
    "    line=dict(width=0.5, color='blue'),\n",
    "    stackgroup='one'))\n",
    "\n",
    "fig.add_trace(go.Scatter(\n",
    "    x = industry_electricity['Year'], y = industry_electricity['Final Energy Demand'],\n",
    "    name='',\n",
    "    customdata=industry_electricity['RE Share'],\n",
    "    mode=\"lines+markers+text\",\n",
    "    hovertemplate = '%{customdata:}% electrification',\n",
    "     marker=dict(\n",
    "            color='white',\n",
    "            size=7,\n",
    "        ),\n",
    "    line=dict(width=0.5, color='lightgrey'),\n",
    "    stackgroup='one'))\n",
    "\n",
    "fig.add_trace(go.Scatter(\n",
    "    x = industry_other['Year'], y = industry_other['Final Energy Demand'], name='3',\n",
    "    hoverinfo='x+y',\n",
    "    mode='lines',\n",
    "    line=dict(width=0.5, color='grey'),\n",
    "    stackgroup='one'))\n",
    "\n",
    "fig.add_trace(go.Scatter(\n",
    "    x = building_electricity['Year'], y = building_electricity['Final Energy Demand'],\n",
    "    name='',\n",
    "    customdata=building_electricity['RE Share'],\n",
    "    mode=\"lines+markers+text\",\n",
    "    hovertemplate = '%{customdata:}% electrification',\n",
    "     marker=dict(\n",
    "            color='white',\n",
    "            size=7,\n",
    "        ),\n",
    "    line=dict(width=0.5, color='pink'),\n",
    "    stackgroup='one'))\n",
    "\n",
    "fig.add_trace(go.Scatter(\n",
    "    x = building_other['Year'], y = building_other['Final Energy Demand'], name='1',\n",
    "    hoverinfo='x+y',\n",
    "    mode='lines',\n",
    "    line=dict(width=0.5, color='red'),\n",
    "    stackgroup='one'))\n",
    "\n",
    "annotations = []\n",
    "\n",
    "# Title\n",
    "annotations.append(dict(xref='paper', yref='paper', x= -0.09, y=1,\n",
    "                        xanchor='left', yanchor='bottom',\n",
    "                        text='Global Electrification to Achieve the 1.5°C Goal',\n",
    "                        font=dict(family='Arial',size=25,color='rgb(10,10,10)'),\n",
    "                        showarrow=False))\n",
    "\n",
    "# Annotations\n",
    "annotations.append(dict(xref='paper',yref='paper', x=0.01, y=0.86,\n",
    "                        xanchor='left', yanchor='bottom',\n",
    "                        text='Buildings/Other',\n",
    "                        font=dict(family='Arial',size=17,color='white'),\n",
    "                        showarrow=False))\n",
    "annotations.append(dict(xref='paper',yref='paper', x=0.01, y=0.2,\n",
    "                        xanchor='left', yanchor='bottom',\n",
    "                        text='Transportation',\n",
    "                        font=dict(family='Arial',size=17,color='white'),\n",
    "                        showarrow=False))\n",
    "annotations.append(dict(xref='paper',yref='paper', x=0.01, y=0.51,\n",
    "                        xanchor='left', yanchor='bottom',\n",
    "                        text='Industry',\n",
    "                        font=dict(family='Arial',size=17,color='white'),\n",
    "                        showarrow=False))\n",
    "\n",
    "\n",
    "\n",
    "annotations.append(dict(xref='paper',yref='paper', x=0.84, y=0.6,\n",
    "                        xanchor='left', yanchor='top',\n",
    "                        text='On-site energy',\n",
    "                        font=dict(family='Arial',size=12,color='white'),\n",
    "                        showarrow=False))\n",
    "annotations.append(dict(xref='paper',yref='paper', x=0.84, y=0.41,\n",
    "                        xanchor='left', yanchor='top',\n",
    "                        text='Electric power',\n",
    "                        font=dict(family='Arial',size=12,color='black'),\n",
    "                        showarrow=False))\n",
    "annotations.append(dict(xref='paper',yref='paper', x=0.84, y=0.29,\n",
    "                        xanchor='left', yanchor='top',\n",
    "                        text='On-site energy',\n",
    "                        font=dict(family='Arial',size=12,color='black'),\n",
    "                        showarrow=False))\n",
    "annotations.append(dict(xref='paper',yref='paper', x=0.84, y=0.14,\n",
    "                        xanchor='left', yanchor='top',\n",
    "                        text='Electric power',\n",
    "                        font=dict(family='Arial',size=12,color='black'),\n",
    "                        showarrow=False))\n",
    "annotations.append(dict(xref='paper',yref='paper', x=0.84, y=0.08,\n",
    "                        xanchor='left', yanchor='top',\n",
    "                        text='On-board fuels',\n",
    "                        font=dict(family='Arial',size=12,color='black'),\n",
    "                        showarrow=False))\n",
    "annotations.append(dict(xref='paper',yref='paper', x=0.84, y=0.03,\n",
    "                        xanchor='left', yanchor='top',\n",
    "                        text='Electric power',\n",
    "                        font=dict(family='Arial',size=12,color='black'),\n",
    "                        showarrow=False))\n",
    "\n",
    "\n",
    "fig.update_layout(\n",
    "    autosize=False,\n",
    "    width=700,\n",
    "    height=700,\n",
    "    xaxis = dict(showgrid = False),\n",
    "    yaxis = dict(showgrid = False),\n",
    "    plot_bgcolor = 'white',\n",
    "    showlegend = False,\n",
    "    annotations = annotations)\n",
    "\n",
    "\n",
    "fig.update_yaxes(tickformat = \",d\",\n",
    "                 tickvals=[50000,100000,150000,200000,250000,300000,350000],\n",
    "                 title_text='Final Energy Demand (PJ)',\n",
    "                 title_font=dict(family='Arial',size=18,color='rgb(10,10,10)'))\n",
    "\n",
    "fig.show()"
   ]
  },
  {
   "cell_type": "code",
   "execution_count": 4,
   "metadata": {
    "ExecuteTime": {
     "end_time": "2020-11-09T06:54:56.270394Z",
     "start_time": "2020-11-09T06:54:56.068412Z"
    }
   },
   "outputs": [],
   "source": [
    "pd.set_option(\"display.max_rows\", 200)\n",
    "pd.set_option(\"display.max_columns\", 200)\n",
    "renew = pd.read_excel('DLR scenario data-WORLD.xlsx',sheet_name = 'Final energy demand 1.5C')\n"
   ]
  },
  {
   "cell_type": "code",
   "execution_count": 5,
   "metadata": {
    "ExecuteTime": {
     "end_time": "2020-11-09T06:56:40.379052Z",
     "start_time": "2020-11-09T06:56:40.374665Z"
    }
   },
   "outputs": [],
   "source": [
    "# Select data of interest\n",
    "renew = renew.iloc[[58,59,73,91,92,93,96,97,98,99,100,101,102,103,104,107,108,109,110,111,114,115,116],[i for i in range(2,12)]]"
   ]
  },
  {
   "cell_type": "code",
   "execution_count": 6,
   "metadata": {
    "ExecuteTime": {
     "end_time": "2020-11-09T06:56:41.084927Z",
     "start_time": "2020-11-09T06:56:41.080973Z"
    }
   },
   "outputs": [],
   "source": [
    "# Further Data Cleaning\n",
    "renew = renew.drop(columns = 'Unnamed: 3',axis = 1)\n",
    "renew.columns = ['Source',2015,2020,2025,2030,2035,2040,2045,2050]"
   ]
  },
  {
   "cell_type": "code",
   "execution_count": 7,
   "metadata": {
    "ExecuteTime": {
     "end_time": "2020-11-09T06:56:41.611548Z",
     "start_time": "2020-11-09T06:56:41.591054Z"
    }
   },
   "outputs": [
    {
     "data": {
      "text/html": [
       "<div>\n",
       "<style scoped>\n",
       "    .dataframe tbody tr th:only-of-type {\n",
       "        vertical-align: middle;\n",
       "    }\n",
       "\n",
       "    .dataframe tbody tr th {\n",
       "        vertical-align: top;\n",
       "    }\n",
       "\n",
       "    .dataframe thead th {\n",
       "        text-align: right;\n",
       "    }\n",
       "</style>\n",
       "<table border=\"1\" class=\"dataframe\">\n",
       "  <thead>\n",
       "    <tr style=\"text-align: right;\">\n",
       "      <th></th>\n",
       "      <th>Source</th>\n",
       "      <th>2015</th>\n",
       "      <th>2020</th>\n",
       "      <th>2025</th>\n",
       "      <th>2030</th>\n",
       "      <th>2035</th>\n",
       "      <th>2040</th>\n",
       "      <th>2045</th>\n",
       "      <th>2050</th>\n",
       "    </tr>\n",
       "  </thead>\n",
       "  <tbody>\n",
       "    <tr>\n",
       "      <th>58</th>\n",
       "      <td>NaN</td>\n",
       "      <td>0.228108</td>\n",
       "      <td>0.291642</td>\n",
       "      <td>0.506366</td>\n",
       "      <td>0.728066</td>\n",
       "      <td>0.861431</td>\n",
       "      <td>0.940895</td>\n",
       "      <td>0.979955</td>\n",
       "      <td>1.000000</td>\n",
       "    </tr>\n",
       "    <tr>\n",
       "      <th>59</th>\n",
       "      <td>ELECTRICITY (PJ equivalent)</td>\n",
       "      <td>72734.4</td>\n",
       "      <td>80894.339692</td>\n",
       "      <td>92042.490000</td>\n",
       "      <td>106658.768969</td>\n",
       "      <td>121751.043103</td>\n",
       "      <td>132407.504197</td>\n",
       "      <td>141360.112874</td>\n",
       "      <td>150154.450000</td>\n",
       "    </tr>\n",
       "    <tr>\n",
       "      <th>73</th>\n",
       "      <td>OTHER CARRIERS:</td>\n",
       "      <td>269155</td>\n",
       "      <td>274206.440000</td>\n",
       "      <td>228424.640000</td>\n",
       "      <td>177486.130000</td>\n",
       "      <td>140948.440000</td>\n",
       "      <td>124435.520000</td>\n",
       "      <td>112353.500000</td>\n",
       "      <td>102995.480000</td>\n",
       "    </tr>\n",
       "    <tr>\n",
       "      <th>91</th>\n",
       "      <td>- Coal &amp; Lignite</td>\n",
       "      <td>68209.8</td>\n",
       "      <td>62487.095055</td>\n",
       "      <td>38166.408576</td>\n",
       "      <td>15474.245236</td>\n",
       "      <td>3267.629159</td>\n",
       "      <td>943.686667</td>\n",
       "      <td>337.033333</td>\n",
       "      <td>0.006667</td>\n",
       "    </tr>\n",
       "    <tr>\n",
       "      <th>92</th>\n",
       "      <td>- Gas</td>\n",
       "      <td>77895.4</td>\n",
       "      <td>84097.144372</td>\n",
       "      <td>77979.481744</td>\n",
       "      <td>61457.046978</td>\n",
       "      <td>43269.713147</td>\n",
       "      <td>23926.148882</td>\n",
       "      <td>8379.760286</td>\n",
       "      <td>0.006667</td>\n",
       "    </tr>\n",
       "    <tr>\n",
       "      <th>93</th>\n",
       "      <td>- Oil &amp; Diesel</td>\n",
       "      <td>125728</td>\n",
       "      <td>125446.934272</td>\n",
       "      <td>83290.077845</td>\n",
       "      <td>43197.141077</td>\n",
       "      <td>16427.122016</td>\n",
       "      <td>5054.164976</td>\n",
       "      <td>637.683333</td>\n",
       "      <td>0.006667</td>\n",
       "    </tr>\n",
       "    <tr>\n",
       "      <th>96</th>\n",
       "      <td>- Nuclear</td>\n",
       "      <td>7628.56</td>\n",
       "      <td>8851.746127</td>\n",
       "      <td>6888.446690</td>\n",
       "      <td>4390.127767</td>\n",
       "      <td>2233.902649</td>\n",
       "      <td>439.894533</td>\n",
       "      <td>27.219938</td>\n",
       "      <td>0.000000</td>\n",
       "    </tr>\n",
       "    <tr>\n",
       "      <th>97</th>\n",
       "      <td>- Hydrogen Power</td>\n",
       "      <td>0</td>\n",
       "      <td>1.333551</td>\n",
       "      <td>103.005950</td>\n",
       "      <td>781.210700</td>\n",
       "      <td>2018.320675</td>\n",
       "      <td>4179.167435</td>\n",
       "      <td>6009.270156</td>\n",
       "      <td>7189.227036</td>\n",
       "    </tr>\n",
       "    <tr>\n",
       "      <th>98</th>\n",
       "      <td>- Hydro Power</td>\n",
       "      <td>11656.8</td>\n",
       "      <td>13028.517974</td>\n",
       "      <td>13697.353283</td>\n",
       "      <td>13399.007725</td>\n",
       "      <td>12757.073432</td>\n",
       "      <td>11669.085652</td>\n",
       "      <td>11229.024876</td>\n",
       "      <td>11467.298878</td>\n",
       "    </tr>\n",
       "    <tr>\n",
       "      <th>99</th>\n",
       "      <td>- Wind</td>\n",
       "      <td>2512.34</td>\n",
       "      <td>4681.308647</td>\n",
       "      <td>13645.880783</td>\n",
       "      <td>26256.640230</td>\n",
       "      <td>36767.230066</td>\n",
       "      <td>42766.628721</td>\n",
       "      <td>46483.098708</td>\n",
       "      <td>49578.448681</td>\n",
       "    </tr>\n",
       "    <tr>\n",
       "      <th>100</th>\n",
       "      <td>- PV</td>\n",
       "      <td>739.194</td>\n",
       "      <td>2941.176469</td>\n",
       "      <td>11996.383734</td>\n",
       "      <td>21814.223172</td>\n",
       "      <td>30652.206339</td>\n",
       "      <td>37867.660265</td>\n",
       "      <td>42309.847658</td>\n",
       "      <td>45314.377752</td>\n",
       "    </tr>\n",
       "    <tr>\n",
       "      <th>101</th>\n",
       "      <td>- Biomass Power</td>\n",
       "      <td>1410.54</td>\n",
       "      <td>2494.740050</td>\n",
       "      <td>5129.543913</td>\n",
       "      <td>6973.015963</td>\n",
       "      <td>7209.287167</td>\n",
       "      <td>7096.481192</td>\n",
       "      <td>7218.773219</td>\n",
       "      <td>7543.847842</td>\n",
       "    </tr>\n",
       "    <tr>\n",
       "      <th>102</th>\n",
       "      <td>- Geothermal Power</td>\n",
       "      <td>241.182</td>\n",
       "      <td>342.813465</td>\n",
       "      <td>958.351508</td>\n",
       "      <td>2630.455518</td>\n",
       "      <td>4217.606480</td>\n",
       "      <td>5482.373135</td>\n",
       "      <td>6515.286510</td>\n",
       "      <td>7640.750708</td>\n",
       "    </tr>\n",
       "    <tr>\n",
       "      <th>103</th>\n",
       "      <td>- Solar thermal power plants</td>\n",
       "      <td>28.1803</td>\n",
       "      <td>95.924729</td>\n",
       "      <td>952.226006</td>\n",
       "      <td>5313.084451</td>\n",
       "      <td>10145.989743</td>\n",
       "      <td>13814.914410</td>\n",
       "      <td>16495.465221</td>\n",
       "      <td>18712.230692</td>\n",
       "    </tr>\n",
       "    <tr>\n",
       "      <th>104</th>\n",
       "      <td>- Ocean energy</td>\n",
       "      <td>3.02789</td>\n",
       "      <td>6.394982</td>\n",
       "      <td>124.429968</td>\n",
       "      <td>487.000151</td>\n",
       "      <td>1112.392230</td>\n",
       "      <td>1705.208327</td>\n",
       "      <td>2265.819635</td>\n",
       "      <td>2708.268412</td>\n",
       "    </tr>\n",
       "    <tr>\n",
       "      <th>107</th>\n",
       "      <td>- Solar Heat</td>\n",
       "      <td>1244.92</td>\n",
       "      <td>2264.830000</td>\n",
       "      <td>7005.480000</td>\n",
       "      <td>13171.540000</td>\n",
       "      <td>17249.320000</td>\n",
       "      <td>19886.940000</td>\n",
       "      <td>21866.990000</td>\n",
       "      <td>23083.470000</td>\n",
       "    </tr>\n",
       "    <tr>\n",
       "      <th>108</th>\n",
       "      <td>- Biomass</td>\n",
       "      <td>40502.1</td>\n",
       "      <td>41937.860000</td>\n",
       "      <td>43378.870000</td>\n",
       "      <td>41205.550000</td>\n",
       "      <td>36955.510000</td>\n",
       "      <td>32215.860000</td>\n",
       "      <td>26179.870000</td>\n",
       "      <td>20310.260000</td>\n",
       "    </tr>\n",
       "    <tr>\n",
       "      <th>109</th>\n",
       "      <td>- Geothermal</td>\n",
       "      <td>362.72</td>\n",
       "      <td>792.650000</td>\n",
       "      <td>2730.350000</td>\n",
       "      <td>5685.630000</td>\n",
       "      <td>8410.380000</td>\n",
       "      <td>10587.300000</td>\n",
       "      <td>13011.620000</td>\n",
       "      <td>15380.830000</td>\n",
       "    </tr>\n",
       "    <tr>\n",
       "      <th>110</th>\n",
       "      <td>- H Process</td>\n",
       "      <td>0</td>\n",
       "      <td>0.000000</td>\n",
       "      <td>120.510000</td>\n",
       "      <td>1535.160000</td>\n",
       "      <td>3732.020000</td>\n",
       "      <td>8157.560000</td>\n",
       "      <td>12020.000000</td>\n",
       "      <td>12258.230000</td>\n",
       "    </tr>\n",
       "    <tr>\n",
       "      <th>111</th>\n",
       "      <td>- RE district heat</td>\n",
       "      <td>563.11</td>\n",
       "      <td>1488.300000</td>\n",
       "      <td>4139.040000</td>\n",
       "      <td>6886.070000</td>\n",
       "      <td>9246.730000</td>\n",
       "      <td>10958.970000</td>\n",
       "      <td>12133.200000</td>\n",
       "      <td>13092.000000</td>\n",
       "    </tr>\n",
       "    <tr>\n",
       "      <th>114</th>\n",
       "      <td>- Biofuels</td>\n",
       "      <td>3163.27</td>\n",
       "      <td>4123.930000</td>\n",
       "      <td>9329.420000</td>\n",
       "      <td>10054.750000</td>\n",
       "      <td>9781.530000</td>\n",
       "      <td>9232.150000</td>\n",
       "      <td>8201.030000</td>\n",
       "      <td>5693.110000</td>\n",
       "    </tr>\n",
       "    <tr>\n",
       "      <th>115</th>\n",
       "      <td>- Synfuels</td>\n",
       "      <td>0</td>\n",
       "      <td>1.810000</td>\n",
       "      <td>5.000000</td>\n",
       "      <td>403.940000</td>\n",
       "      <td>2115.330000</td>\n",
       "      <td>4550.840000</td>\n",
       "      <td>5628.750000</td>\n",
       "      <td>6328.480000</td>\n",
       "    </tr>\n",
       "    <tr>\n",
       "      <th>116</th>\n",
       "      <td>- H Fuel</td>\n",
       "      <td>0</td>\n",
       "      <td>16.270000</td>\n",
       "      <td>826.870000</td>\n",
       "      <td>3029.060000</td>\n",
       "      <td>5130.190000</td>\n",
       "      <td>6307.990000</td>\n",
       "      <td>6763.870000</td>\n",
       "      <td>6849.080000</td>\n",
       "    </tr>\n",
       "  </tbody>\n",
       "</table>\n",
       "</div>"
      ],
      "text/plain": [
       "                             Source      2015           2020           2025  \\\n",
       "58                              NaN  0.228108       0.291642       0.506366   \n",
       "59      ELECTRICITY (PJ equivalent)   72734.4   80894.339692   92042.490000   \n",
       "73                  OTHER CARRIERS:    269155  274206.440000  228424.640000   \n",
       "91                 - Coal & Lignite   68209.8   62487.095055   38166.408576   \n",
       "92                            - Gas   77895.4   84097.144372   77979.481744   \n",
       "93                   - Oil & Diesel    125728  125446.934272   83290.077845   \n",
       "96                        - Nuclear   7628.56    8851.746127    6888.446690   \n",
       "97                 - Hydrogen Power         0       1.333551     103.005950   \n",
       "98                    - Hydro Power   11656.8   13028.517974   13697.353283   \n",
       "99                           - Wind   2512.34    4681.308647   13645.880783   \n",
       "100                            - PV   739.194    2941.176469   11996.383734   \n",
       "101                 - Biomass Power   1410.54    2494.740050    5129.543913   \n",
       "102              - Geothermal Power   241.182     342.813465     958.351508   \n",
       "103    - Solar thermal power plants   28.1803      95.924729     952.226006   \n",
       "104                  - Ocean energy   3.02789       6.394982     124.429968   \n",
       "107                    - Solar Heat   1244.92    2264.830000    7005.480000   \n",
       "108                       - Biomass   40502.1   41937.860000   43378.870000   \n",
       "109                    - Geothermal    362.72     792.650000    2730.350000   \n",
       "110                     - H Process         0       0.000000     120.510000   \n",
       "111              - RE district heat    563.11    1488.300000    4139.040000   \n",
       "114                     - Biofuels    3163.27    4123.930000    9329.420000   \n",
       "115                      - Synfuels         0       1.810000       5.000000   \n",
       "116                        - H Fuel         0      16.270000     826.870000   \n",
       "\n",
       "              2030           2035           2040           2045           2050  \n",
       "58        0.728066       0.861431       0.940895       0.979955       1.000000  \n",
       "59   106658.768969  121751.043103  132407.504197  141360.112874  150154.450000  \n",
       "73   177486.130000  140948.440000  124435.520000  112353.500000  102995.480000  \n",
       "91    15474.245236    3267.629159     943.686667     337.033333       0.006667  \n",
       "92    61457.046978   43269.713147   23926.148882    8379.760286       0.006667  \n",
       "93    43197.141077   16427.122016    5054.164976     637.683333       0.006667  \n",
       "96     4390.127767    2233.902649     439.894533      27.219938       0.000000  \n",
       "97      781.210700    2018.320675    4179.167435    6009.270156    7189.227036  \n",
       "98    13399.007725   12757.073432   11669.085652   11229.024876   11467.298878  \n",
       "99    26256.640230   36767.230066   42766.628721   46483.098708   49578.448681  \n",
       "100   21814.223172   30652.206339   37867.660265   42309.847658   45314.377752  \n",
       "101    6973.015963    7209.287167    7096.481192    7218.773219    7543.847842  \n",
       "102    2630.455518    4217.606480    5482.373135    6515.286510    7640.750708  \n",
       "103    5313.084451   10145.989743   13814.914410   16495.465221   18712.230692  \n",
       "104     487.000151    1112.392230    1705.208327    2265.819635    2708.268412  \n",
       "107   13171.540000   17249.320000   19886.940000   21866.990000   23083.470000  \n",
       "108   41205.550000   36955.510000   32215.860000   26179.870000   20310.260000  \n",
       "109    5685.630000    8410.380000   10587.300000   13011.620000   15380.830000  \n",
       "110    1535.160000    3732.020000    8157.560000   12020.000000   12258.230000  \n",
       "111    6886.070000    9246.730000   10958.970000   12133.200000   13092.000000  \n",
       "114   10054.750000    9781.530000    9232.150000    8201.030000    5693.110000  \n",
       "115     403.940000    2115.330000    4550.840000    5628.750000    6328.480000  \n",
       "116    3029.060000    5130.190000    6307.990000    6763.870000    6849.080000  "
      ]
     },
     "execution_count": 7,
     "metadata": {},
     "output_type": "execute_result"
    }
   ],
   "source": [
    "renew"
   ]
  },
  {
   "cell_type": "code",
   "execution_count": 8,
   "metadata": {
    "ExecuteTime": {
     "end_time": "2020-11-09T06:56:42.126068Z",
     "start_time": "2020-11-09T06:56:42.122076Z"
    }
   },
   "outputs": [],
   "source": [
    "sumof=renew.loc[107:116]\n",
    "temp1=[sum(sumof[2015]),sum(sumof[2020]),sum(sumof[2025]),sum(sumof[2030]),sum(sumof[2035]),sum(sumof[2040]),sum(sumof[2045]),sum(sumof[2050])]"
   ]
  },
  {
   "cell_type": "code",
   "execution_count": 9,
   "metadata": {
    "ExecuteTime": {
     "end_time": "2020-11-09T06:56:42.457613Z",
     "start_time": "2020-11-09T06:56:42.452607Z"
    }
   },
   "outputs": [
    {
     "data": {
      "text/plain": [
       "[269154.6,\n",
       " 274206.44,\n",
       " 228424.64000000004,\n",
       " 177486.13000000003,\n",
       " 140948.44,\n",
       " 124435.52,\n",
       " 112353.49999999999,\n",
       " 102995.48]"
      ]
     },
     "execution_count": 9,
     "metadata": {},
     "output_type": "execute_result"
    }
   ],
   "source": [
    "tot=renew.loc[73]\n",
    "temp2=[tot[2015],tot[2020],tot[2025],tot[2030],tot[2035],tot[2040],tot[2045],tot[2050]]\n",
    "temp2"
   ]
  },
  {
   "cell_type": "code",
   "execution_count": 10,
   "metadata": {
    "ExecuteTime": {
     "end_time": "2020-11-09T06:56:42.789546Z",
     "start_time": "2020-11-09T06:56:42.785481Z"
    }
   },
   "outputs": [
    {
     "data": {
      "text/plain": [
       "[17, 18.0, 30.0, 46.0, 66.0, 82.0, 94.0, 100.0]"
      ]
     },
     "execution_count": 10,
     "metadata": {},
     "output_type": "execute_result"
    }
   ],
   "source": [
    "percent1=[]\n",
    "for i in range(0,8):\n",
    "    percent1.append(round(100*temp1[i]/temp2[i]))\n",
    "percent1"
   ]
  },
  {
   "cell_type": "code",
   "execution_count": 11,
   "metadata": {
    "ExecuteTime": {
     "end_time": "2020-11-09T06:56:43.114786Z",
     "start_time": "2020-11-09T06:56:43.102227Z"
    }
   },
   "outputs": [
    {
     "data": {
      "text/html": [
       "<div>\n",
       "<style scoped>\n",
       "    .dataframe tbody tr th:only-of-type {\n",
       "        vertical-align: middle;\n",
       "    }\n",
       "\n",
       "    .dataframe tbody tr th {\n",
       "        vertical-align: top;\n",
       "    }\n",
       "\n",
       "    .dataframe thead th {\n",
       "        text-align: right;\n",
       "    }\n",
       "</style>\n",
       "<table border=\"1\" class=\"dataframe\">\n",
       "  <thead>\n",
       "    <tr style=\"text-align: right;\">\n",
       "      <th></th>\n",
       "      <th>Source</th>\n",
       "      <th>2015</th>\n",
       "      <th>2020</th>\n",
       "      <th>2025</th>\n",
       "      <th>2030</th>\n",
       "      <th>2035</th>\n",
       "      <th>2040</th>\n",
       "      <th>2045</th>\n",
       "      <th>2050</th>\n",
       "    </tr>\n",
       "  </thead>\n",
       "  <tbody>\n",
       "    <tr>\n",
       "      <th>0</th>\n",
       "      <td>NaN</td>\n",
       "      <td>0.228108</td>\n",
       "      <td>0.291642</td>\n",
       "      <td>0.506366</td>\n",
       "      <td>0.728066</td>\n",
       "      <td>0.861431</td>\n",
       "      <td>0.940895</td>\n",
       "      <td>0.979955</td>\n",
       "      <td>1.00</td>\n",
       "    </tr>\n",
       "    <tr>\n",
       "      <th>1</th>\n",
       "      <td>ELECTRICITY (PJ equivalent)</td>\n",
       "      <td>72734.4</td>\n",
       "      <td>80894.339692</td>\n",
       "      <td>92042.490000</td>\n",
       "      <td>106658.768969</td>\n",
       "      <td>121751.043103</td>\n",
       "      <td>132407.504197</td>\n",
       "      <td>141360.112874</td>\n",
       "      <td>150154.45</td>\n",
       "    </tr>\n",
       "    <tr>\n",
       "      <th>2</th>\n",
       "      <td>OTHER CARRIERS:</td>\n",
       "      <td>269155</td>\n",
       "      <td>274206.440000</td>\n",
       "      <td>228424.640000</td>\n",
       "      <td>177486.130000</td>\n",
       "      <td>140948.440000</td>\n",
       "      <td>124435.520000</td>\n",
       "      <td>112353.500000</td>\n",
       "      <td>102995.48</td>\n",
       "    </tr>\n",
       "  </tbody>\n",
       "</table>\n",
       "</div>"
      ],
      "text/plain": [
       "                        Source      2015           2020           2025  \\\n",
       "0                          NaN  0.228108       0.291642       0.506366   \n",
       "1  ELECTRICITY (PJ equivalent)   72734.4   80894.339692   92042.490000   \n",
       "2              OTHER CARRIERS:    269155  274206.440000  228424.640000   \n",
       "\n",
       "            2030           2035           2040           2045       2050  \n",
       "0       0.728066       0.861431       0.940895       0.979955       1.00  \n",
       "1  106658.768969  121751.043103  132407.504197  141360.112874  150154.45  \n",
       "2  177486.130000  140948.440000  124435.520000  112353.500000  102995.48  "
      ]
     },
     "execution_count": 11,
     "metadata": {},
     "output_type": "execute_result"
    }
   ],
   "source": [
    "# Keep first three rows into another dataset ( for calculating %RE later)\n",
    "RE = renew.iloc[0:3].reset_index()\n",
    "RE = RE.drop(columns = 'index',axis = 1)\n",
    "RE"
   ]
  },
  {
   "cell_type": "code",
   "execution_count": 12,
   "metadata": {
    "ExecuteTime": {
     "end_time": "2020-11-09T06:56:43.419600Z",
     "start_time": "2020-11-09T06:56:43.414885Z"
    }
   },
   "outputs": [
    {
     "data": {
      "text/plain": [
       "[23, 29.0, 51.0, 73.0, 86.0, 94.0, 98.0, 100.0]"
      ]
     },
     "execution_count": 12,
     "metadata": {},
     "output_type": "execute_result"
    }
   ],
   "source": [
    "percent2=[]\n",
    "for i in range(2015,2051,5):\n",
    "    percent2.append(round(100*RE[i][0]))\n",
    "percent2"
   ]
  },
  {
   "cell_type": "code",
   "execution_count": 13,
   "metadata": {
    "ExecuteTime": {
     "end_time": "2020-11-09T06:56:43.801932Z",
     "start_time": "2020-11-09T06:56:43.787274Z"
    }
   },
   "outputs": [
    {
     "data": {
      "text/html": [
       "<div>\n",
       "<style scoped>\n",
       "    .dataframe tbody tr th:only-of-type {\n",
       "        vertical-align: middle;\n",
       "    }\n",
       "\n",
       "    .dataframe tbody tr th {\n",
       "        vertical-align: top;\n",
       "    }\n",
       "\n",
       "    .dataframe thead th {\n",
       "        text-align: right;\n",
       "    }\n",
       "</style>\n",
       "<table border=\"1\" class=\"dataframe\">\n",
       "  <thead>\n",
       "    <tr style=\"text-align: right;\">\n",
       "      <th></th>\n",
       "      <th>Source</th>\n",
       "      <th>2015</th>\n",
       "      <th>2020</th>\n",
       "      <th>2025</th>\n",
       "      <th>2030</th>\n",
       "      <th>2035</th>\n",
       "      <th>2040</th>\n",
       "      <th>2045</th>\n",
       "      <th>2050</th>\n",
       "    </tr>\n",
       "  </thead>\n",
       "  <tbody>\n",
       "    <tr>\n",
       "      <th>91</th>\n",
       "      <td>- Coal &amp; Lignite</td>\n",
       "      <td>68209.8</td>\n",
       "      <td>62487.095055</td>\n",
       "      <td>38166.408576</td>\n",
       "      <td>15474.245236</td>\n",
       "      <td>3267.629159</td>\n",
       "      <td>943.686667</td>\n",
       "      <td>337.033333</td>\n",
       "      <td>0.006667</td>\n",
       "    </tr>\n",
       "    <tr>\n",
       "      <th>92</th>\n",
       "      <td>- Gas</td>\n",
       "      <td>77895.4</td>\n",
       "      <td>84097.144372</td>\n",
       "      <td>77979.481744</td>\n",
       "      <td>61457.046978</td>\n",
       "      <td>43269.713147</td>\n",
       "      <td>23926.148882</td>\n",
       "      <td>8379.760286</td>\n",
       "      <td>0.006667</td>\n",
       "    </tr>\n",
       "    <tr>\n",
       "      <th>93</th>\n",
       "      <td>- Oil &amp; Diesel</td>\n",
       "      <td>125728</td>\n",
       "      <td>125446.934272</td>\n",
       "      <td>83290.077845</td>\n",
       "      <td>43197.141077</td>\n",
       "      <td>16427.122016</td>\n",
       "      <td>5054.164976</td>\n",
       "      <td>637.683333</td>\n",
       "      <td>0.006667</td>\n",
       "    </tr>\n",
       "    <tr>\n",
       "      <th>96</th>\n",
       "      <td>- Nuclear</td>\n",
       "      <td>7628.56</td>\n",
       "      <td>8851.746127</td>\n",
       "      <td>6888.446690</td>\n",
       "      <td>4390.127767</td>\n",
       "      <td>2233.902649</td>\n",
       "      <td>439.894533</td>\n",
       "      <td>27.219938</td>\n",
       "      <td>0.000000</td>\n",
       "    </tr>\n",
       "    <tr>\n",
       "      <th>97</th>\n",
       "      <td>- Hydrogen Power</td>\n",
       "      <td>0</td>\n",
       "      <td>1.333551</td>\n",
       "      <td>103.005950</td>\n",
       "      <td>781.210700</td>\n",
       "      <td>2018.320675</td>\n",
       "      <td>4179.167435</td>\n",
       "      <td>6009.270156</td>\n",
       "      <td>7189.227036</td>\n",
       "    </tr>\n",
       "    <tr>\n",
       "      <th>98</th>\n",
       "      <td>- Hydro Power</td>\n",
       "      <td>11656.8</td>\n",
       "      <td>13028.517974</td>\n",
       "      <td>13697.353283</td>\n",
       "      <td>13399.007725</td>\n",
       "      <td>12757.073432</td>\n",
       "      <td>11669.085652</td>\n",
       "      <td>11229.024876</td>\n",
       "      <td>11467.298878</td>\n",
       "    </tr>\n",
       "    <tr>\n",
       "      <th>99</th>\n",
       "      <td>- Wind</td>\n",
       "      <td>2512.34</td>\n",
       "      <td>4681.308647</td>\n",
       "      <td>13645.880783</td>\n",
       "      <td>26256.640230</td>\n",
       "      <td>36767.230066</td>\n",
       "      <td>42766.628721</td>\n",
       "      <td>46483.098708</td>\n",
       "      <td>49578.448681</td>\n",
       "    </tr>\n",
       "    <tr>\n",
       "      <th>100</th>\n",
       "      <td>- PV</td>\n",
       "      <td>739.194</td>\n",
       "      <td>2941.176469</td>\n",
       "      <td>11996.383734</td>\n",
       "      <td>21814.223172</td>\n",
       "      <td>30652.206339</td>\n",
       "      <td>37867.660265</td>\n",
       "      <td>42309.847658</td>\n",
       "      <td>45314.377752</td>\n",
       "    </tr>\n",
       "    <tr>\n",
       "      <th>101</th>\n",
       "      <td>- Biomass Power</td>\n",
       "      <td>1410.54</td>\n",
       "      <td>2494.740050</td>\n",
       "      <td>5129.543913</td>\n",
       "      <td>6973.015963</td>\n",
       "      <td>7209.287167</td>\n",
       "      <td>7096.481192</td>\n",
       "      <td>7218.773219</td>\n",
       "      <td>7543.847842</td>\n",
       "    </tr>\n",
       "    <tr>\n",
       "      <th>102</th>\n",
       "      <td>- Geothermal Power</td>\n",
       "      <td>241.182</td>\n",
       "      <td>342.813465</td>\n",
       "      <td>958.351508</td>\n",
       "      <td>2630.455518</td>\n",
       "      <td>4217.606480</td>\n",
       "      <td>5482.373135</td>\n",
       "      <td>6515.286510</td>\n",
       "      <td>7640.750708</td>\n",
       "    </tr>\n",
       "    <tr>\n",
       "      <th>103</th>\n",
       "      <td>- Solar thermal power plants</td>\n",
       "      <td>28.1803</td>\n",
       "      <td>95.924729</td>\n",
       "      <td>952.226006</td>\n",
       "      <td>5313.084451</td>\n",
       "      <td>10145.989743</td>\n",
       "      <td>13814.914410</td>\n",
       "      <td>16495.465221</td>\n",
       "      <td>18712.230692</td>\n",
       "    </tr>\n",
       "    <tr>\n",
       "      <th>104</th>\n",
       "      <td>- Ocean energy</td>\n",
       "      <td>3.02789</td>\n",
       "      <td>6.394982</td>\n",
       "      <td>124.429968</td>\n",
       "      <td>487.000151</td>\n",
       "      <td>1112.392230</td>\n",
       "      <td>1705.208327</td>\n",
       "      <td>2265.819635</td>\n",
       "      <td>2708.268412</td>\n",
       "    </tr>\n",
       "    <tr>\n",
       "      <th>107</th>\n",
       "      <td>- Solar Heat</td>\n",
       "      <td>1244.92</td>\n",
       "      <td>2264.830000</td>\n",
       "      <td>7005.480000</td>\n",
       "      <td>13171.540000</td>\n",
       "      <td>17249.320000</td>\n",
       "      <td>19886.940000</td>\n",
       "      <td>21866.990000</td>\n",
       "      <td>23083.470000</td>\n",
       "    </tr>\n",
       "    <tr>\n",
       "      <th>108</th>\n",
       "      <td>- Biomass</td>\n",
       "      <td>40502.1</td>\n",
       "      <td>41937.860000</td>\n",
       "      <td>43378.870000</td>\n",
       "      <td>41205.550000</td>\n",
       "      <td>36955.510000</td>\n",
       "      <td>32215.860000</td>\n",
       "      <td>26179.870000</td>\n",
       "      <td>20310.260000</td>\n",
       "    </tr>\n",
       "    <tr>\n",
       "      <th>109</th>\n",
       "      <td>- Geothermal</td>\n",
       "      <td>362.72</td>\n",
       "      <td>792.650000</td>\n",
       "      <td>2730.350000</td>\n",
       "      <td>5685.630000</td>\n",
       "      <td>8410.380000</td>\n",
       "      <td>10587.300000</td>\n",
       "      <td>13011.620000</td>\n",
       "      <td>15380.830000</td>\n",
       "    </tr>\n",
       "    <tr>\n",
       "      <th>110</th>\n",
       "      <td>- H Process</td>\n",
       "      <td>0</td>\n",
       "      <td>0.000000</td>\n",
       "      <td>120.510000</td>\n",
       "      <td>1535.160000</td>\n",
       "      <td>3732.020000</td>\n",
       "      <td>8157.560000</td>\n",
       "      <td>12020.000000</td>\n",
       "      <td>12258.230000</td>\n",
       "    </tr>\n",
       "    <tr>\n",
       "      <th>111</th>\n",
       "      <td>- RE district heat</td>\n",
       "      <td>563.11</td>\n",
       "      <td>1488.300000</td>\n",
       "      <td>4139.040000</td>\n",
       "      <td>6886.070000</td>\n",
       "      <td>9246.730000</td>\n",
       "      <td>10958.970000</td>\n",
       "      <td>12133.200000</td>\n",
       "      <td>13092.000000</td>\n",
       "    </tr>\n",
       "    <tr>\n",
       "      <th>114</th>\n",
       "      <td>- Biofuels</td>\n",
       "      <td>3163.27</td>\n",
       "      <td>4123.930000</td>\n",
       "      <td>9329.420000</td>\n",
       "      <td>10054.750000</td>\n",
       "      <td>9781.530000</td>\n",
       "      <td>9232.150000</td>\n",
       "      <td>8201.030000</td>\n",
       "      <td>5693.110000</td>\n",
       "    </tr>\n",
       "    <tr>\n",
       "      <th>115</th>\n",
       "      <td>- Synfuels</td>\n",
       "      <td>0</td>\n",
       "      <td>1.810000</td>\n",
       "      <td>5.000000</td>\n",
       "      <td>403.940000</td>\n",
       "      <td>2115.330000</td>\n",
       "      <td>4550.840000</td>\n",
       "      <td>5628.750000</td>\n",
       "      <td>6328.480000</td>\n",
       "    </tr>\n",
       "    <tr>\n",
       "      <th>116</th>\n",
       "      <td>- H Fuel</td>\n",
       "      <td>0</td>\n",
       "      <td>16.270000</td>\n",
       "      <td>826.870000</td>\n",
       "      <td>3029.060000</td>\n",
       "      <td>5130.190000</td>\n",
       "      <td>6307.990000</td>\n",
       "      <td>6763.870000</td>\n",
       "      <td>6849.080000</td>\n",
       "    </tr>\n",
       "  </tbody>\n",
       "</table>\n",
       "</div>"
      ],
      "text/plain": [
       "                             Source     2015           2020          2025  \\\n",
       "91                 - Coal & Lignite  68209.8   62487.095055  38166.408576   \n",
       "92                            - Gas  77895.4   84097.144372  77979.481744   \n",
       "93                   - Oil & Diesel   125728  125446.934272  83290.077845   \n",
       "96                        - Nuclear  7628.56    8851.746127   6888.446690   \n",
       "97                 - Hydrogen Power        0       1.333551    103.005950   \n",
       "98                    - Hydro Power  11656.8   13028.517974  13697.353283   \n",
       "99                           - Wind  2512.34    4681.308647  13645.880783   \n",
       "100                            - PV  739.194    2941.176469  11996.383734   \n",
       "101                 - Biomass Power  1410.54    2494.740050   5129.543913   \n",
       "102              - Geothermal Power  241.182     342.813465    958.351508   \n",
       "103    - Solar thermal power plants  28.1803      95.924729    952.226006   \n",
       "104                  - Ocean energy  3.02789       6.394982    124.429968   \n",
       "107                    - Solar Heat  1244.92    2264.830000   7005.480000   \n",
       "108                       - Biomass  40502.1   41937.860000  43378.870000   \n",
       "109                    - Geothermal   362.72     792.650000   2730.350000   \n",
       "110                     - H Process        0       0.000000    120.510000   \n",
       "111              - RE district heat   563.11    1488.300000   4139.040000   \n",
       "114                     - Biofuels   3163.27    4123.930000   9329.420000   \n",
       "115                      - Synfuels        0       1.810000      5.000000   \n",
       "116                        - H Fuel        0      16.270000    826.870000   \n",
       "\n",
       "             2030          2035          2040          2045          2050  \n",
       "91   15474.245236   3267.629159    943.686667    337.033333      0.006667  \n",
       "92   61457.046978  43269.713147  23926.148882   8379.760286      0.006667  \n",
       "93   43197.141077  16427.122016   5054.164976    637.683333      0.006667  \n",
       "96    4390.127767   2233.902649    439.894533     27.219938      0.000000  \n",
       "97     781.210700   2018.320675   4179.167435   6009.270156   7189.227036  \n",
       "98   13399.007725  12757.073432  11669.085652  11229.024876  11467.298878  \n",
       "99   26256.640230  36767.230066  42766.628721  46483.098708  49578.448681  \n",
       "100  21814.223172  30652.206339  37867.660265  42309.847658  45314.377752  \n",
       "101   6973.015963   7209.287167   7096.481192   7218.773219   7543.847842  \n",
       "102   2630.455518   4217.606480   5482.373135   6515.286510   7640.750708  \n",
       "103   5313.084451  10145.989743  13814.914410  16495.465221  18712.230692  \n",
       "104    487.000151   1112.392230   1705.208327   2265.819635   2708.268412  \n",
       "107  13171.540000  17249.320000  19886.940000  21866.990000  23083.470000  \n",
       "108  41205.550000  36955.510000  32215.860000  26179.870000  20310.260000  \n",
       "109   5685.630000   8410.380000  10587.300000  13011.620000  15380.830000  \n",
       "110   1535.160000   3732.020000   8157.560000  12020.000000  12258.230000  \n",
       "111   6886.070000   9246.730000  10958.970000  12133.200000  13092.000000  \n",
       "114  10054.750000   9781.530000   9232.150000   8201.030000   5693.110000  \n",
       "115    403.940000   2115.330000   4550.840000   5628.750000   6328.480000  \n",
       "116   3029.060000   5130.190000   6307.990000   6763.870000   6849.080000  "
      ]
     },
     "execution_count": 13,
     "metadata": {},
     "output_type": "execute_result"
    }
   ],
   "source": [
    "a = renew.iloc[3:]\n",
    "a"
   ]
  },
  {
   "cell_type": "code",
   "execution_count": 14,
   "metadata": {
    "ExecuteTime": {
     "end_time": "2020-11-09T06:56:44.336890Z",
     "start_time": "2020-11-09T06:56:44.324992Z"
    }
   },
   "outputs": [],
   "source": [
    "# Melting data, changing datatype, groupby\n",
    "renew = renew.iloc[3:]\n",
    "renew = renew.melt(id_vars = 'Source',var_name = 'Year',value_name = 'Final Energy Demand')\n",
    "renew['Year'] = renew['Year'].astype('int')\n",
    "renew['Final Energy Demand'] = renew['Final Energy Demand'].astype('float')\n",
    "renew = renew.groupby(['Source','Year'],as_index = False)['Final Energy Demand'].mean()"
   ]
  },
  {
   "cell_type": "code",
   "execution_count": 15,
   "metadata": {
    "ExecuteTime": {
     "end_time": "2020-11-09T06:56:44.656398Z",
     "start_time": "2020-11-09T06:56:44.653244Z"
    }
   },
   "outputs": [],
   "source": [
    "# Switch column 'Source' and 'Year'\n",
    "columns_titles = [\"Year\",\"Source\",'Final Energy Demand']\n",
    "renew = renew.reindex(columns=columns_titles)"
   ]
  },
  {
   "cell_type": "code",
   "execution_count": 16,
   "metadata": {
    "ExecuteTime": {
     "end_time": "2020-11-09T06:56:44.954233Z",
     "start_time": "2020-11-09T06:56:44.943335Z"
    }
   },
   "outputs": [],
   "source": [
    "Biofuels = renew.iloc[0:8]\n",
    "Biomass = renew.iloc[8:16]\n",
    "Biomass_Power = renew.iloc[16:24]\n",
    "Coal = renew.iloc[24:32]\n",
    "Gas = renew.iloc[32:40]\n",
    "Geothermal = renew.iloc[40:48]\n",
    "Geothermal_Power = renew.iloc[48:56]\n",
    "H_Fuel = renew.iloc[56:64]\n",
    "H_Process = renew.iloc[64:72]\n",
    "Hydro_Power = renew.iloc[72:80]\n",
    "Hydrogen_Power = renew.iloc[80:88]\n",
    "Nuclear = renew.iloc[88:96]\n",
    "Ocean_energy = renew.iloc[96:104]\n",
    "Oil = renew.iloc[104:112]\n",
    "PV = renew.iloc[112:120]\n",
    "RE_district_heat = renew.iloc[120:128]\n",
    "Solar_Heat = renew.iloc[128:136]\n",
    "Solar_thermal_power_plants= renew.iloc[136:144]\n",
    "Synfuels = renew.iloc[144:152]\n",
    "Wind = renew.iloc[152:160]"
   ]
  },
  {
   "cell_type": "code",
   "execution_count": 207,
   "metadata": {
    "ExecuteTime": {
     "end_time": "2020-11-09T11:39:31.598183Z",
     "start_time": "2020-11-09T11:39:31.528689Z"
    }
   },
   "outputs": [
    {
     "data": {
      "application/vnd.plotly.v1+json": {
       "config": {
        "plotlyServerURL": "https://plot.ly"
       },
       "data": [
        {
         "hoverinfo": "x+y",
         "line": {
          "color": "rgb(255,217,47)",
          "width": 0.5
         },
         "mode": "lines",
         "stackgroup": "one",
         "type": "scatter",
         "x": [
          2015,
          2020,
          2025,
          2030,
          2035,
          2040,
          2045,
          2050
         ],
         "y": [
          739.1937237080786,
          2941.176468703249,
          11996.383733940478,
          21814.2231719542,
          30652.20633871231,
          37867.66026522675,
          42309.84765842057,
          45314.37775171777
         ]
        },
        {
         "hoverinfo": "x+y",
         "line": {
          "color": "rgb(217,95,2)",
          "width": 0.5
         },
         "mode": "lines",
         "stackgroup": "one",
         "type": "scatter",
         "x": [
          2015,
          2020,
          2025,
          2030,
          2035,
          2040,
          2045,
          2050
         ],
         "y": [
          28.180317974027407,
          95.92472948533931,
          952.2260060478457,
          5313.084450864602,
          10145.989743285892,
          13814.914410414338,
          16495.46522094106,
          18712.230692153913
         ]
        },
        {
         "hoverinfo": "x+y",
         "line": {
          "color": "purple",
          "width": 0.5
         },
         "mode": "lines",
         "stackgroup": "one",
         "type": "scatter",
         "x": [
          2015,
          2020,
          2025,
          2030,
          2035,
          2040,
          2045,
          2050
         ],
         "y": [
          241.18155117133034,
          342.81346452090776,
          958.3515077829677,
          2630.4555181560354,
          4217.606480457147,
          5482.373135463442,
          6515.28651012933,
          7640.750707700605
         ]
        },
        {
         "hoverinfo": "x+y",
         "line": {
          "color": "#22FFA7",
          "width": 0.5
         },
         "mode": "lines",
         "stackgroup": "one",
         "type": "scatter",
         "x": [
          2015,
          2020,
          2025,
          2030,
          2035,
          2040,
          2045,
          2050
         ],
         "y": [
          2512.3353055078924,
          4681.308646712967,
          13645.880783269859,
          26256.640230050143,
          36767.23006586525,
          42766.62872116032,
          46483.09870771948,
          49578.4486812795
         ]
        },
        {
         "hoverinfo": "x+y",
         "line": {
          "color": "rgb(36,121,108)",
          "width": 0.5
         },
         "mode": "lines",
         "stackgroup": "one",
         "type": "scatter",
         "x": [
          2015,
          2020,
          2025,
          2030,
          2035,
          2040,
          2045,
          2050
         ],
         "y": [
          3.0278852291242213,
          6.394981965689287,
          124.42996808210184,
          487.0001510508702,
          1112.3922298682828,
          1705.2083273405617,
          2265.8196353463622,
          2708.2684116146684
         ]
        },
        {
         "hoverinfo": "x+y",
         "line": {
          "color": "#3366CC",
          "width": 0.5
         },
         "mode": "lines",
         "stackgroup": "one",
         "type": "scatter",
         "x": [
          2015,
          2020,
          2025,
          2030,
          2035,
          2040,
          2045,
          2050
         ],
         "y": [
          11656.818509018112,
          13028.517974278766,
          13697.353282924687,
          13399.007725007783,
          12757.07343181972,
          11669.085651974325,
          11229.024876463884,
          11467.298877534662
         ]
        },
        {
         "hoverinfo": "x+y",
         "line": {
          "color": "rgb(17,119,51)",
          "width": 0.5
         },
         "mode": "lines",
         "stackgroup": "one",
         "type": "scatter",
         "x": [
          2015,
          2020,
          2025,
          2030,
          2035,
          2040,
          2045,
          2050
         ],
         "y": [
          1410.5448308467699,
          2494.740049961054,
          5129.5439132038455,
          6973.015963279977,
          7209.287167144519,
          7096.481192453129,
          7218.773218641373,
          7543.847842257269
         ]
        },
        {
         "customdata": [
          23,
          29,
          51,
          73,
          86,
          94,
          98,
          100
         ],
         "hovertemplate": "Electricity: %{customdata:}% RE",
         "line": {
          "color": "rgb(228,26,28)",
          "width": 0.5
         },
         "marker": {
          "color": "white",
          "size": 7
         },
         "mode": "lines+markers+text",
         "name": "",
         "stackgroup": "one",
         "type": "scatter",
         "x": [
          2015,
          2020,
          2025,
          2030,
          2035,
          2040,
          2045,
          2050
         ],
         "y": [
          0,
          1.3335507416603254,
          103.00594957568067,
          781.2106997435498,
          2018.320674731151,
          4179.167435376383,
          6009.270156180269,
          7189.227035741623
         ]
        },
        {
         "hoverinfo": "x+y",
         "line": {
          "color": "rgb(242,242,242)",
          "width": 0.5
         },
         "mode": "lines",
         "stackgroup": "one",
         "type": "scatter",
         "x": [
          2015,
          2020,
          2025,
          2030,
          2035,
          2040,
          2045,
          2050
         ],
         "y": [
          7628.561970877593,
          8851.746127484423,
          6888.446690041118,
          4390.1277669980445,
          2233.9026493036363,
          439.89453253091847,
          27.21993767287694,
          0
         ]
        },
        {
         "hoverinfo": "x+y",
         "line": {
          "color": "rgb(179,179,179)",
          "width": 0.5
         },
         "mode": "lines",
         "stackgroup": "one",
         "type": "scatter",
         "x": [
          2015,
          2020,
          2025,
          2030,
          2035,
          2040,
          2045,
          2050
         ],
         "y": [
          77895.40591532012,
          84097.14437165028,
          77979.48174440696,
          61457.04697820218,
          43269.713147196715,
          23926.148881869914,
          8379.760285715332,
          0.006666666666812186
         ]
        },
        {
         "hoverinfo": "x+y",
         "line": {
          "color": "rgb(102,102,102)",
          "width": 0.5
         },
         "mode": "lines",
         "stackgroup": "one",
         "type": "scatter",
         "x": [
          2015,
          2020,
          2025,
          2030,
          2035,
          2040,
          2045,
          2050
         ],
         "y": [
          68209.80992836868,
          62487.09505488598,
          38166.40857564834,
          15474.245236388519,
          3267.6291585842882,
          943.6866666666668,
          337.03333333333313,
          0.006666666666812186
         ]
        },
        {
         "customdata": [
          17,
          18,
          30,
          46,
          66,
          82,
          94,
          100
         ],
         "hovertemplate": "Direct E: %{customdata:}% RE",
         "line": {
          "color": "black",
          "width": 0.5
         },
         "marker": {
          "color": "white",
          "size": 7
         },
         "mode": "lines+markers+text",
         "name": "",
         "stackgroup": "one",
         "type": "scatter",
         "x": [
          2015,
          2020,
          2025,
          2030,
          2035,
          2040,
          2045,
          2050
         ],
         "y": [
          125727.76006197826,
          125446.93427163828,
          83290.07784507613,
          43197.141077440436,
          16427.122015716726,
          5054.164976142214,
          637.6833333333332,
          0.006666666666812186
         ]
        },
        {
         "hoverinfo": "x+y",
         "line": {
          "color": "rgb(252,141,98)",
          "width": 0.5
         },
         "mode": "lines",
         "stackgroup": "one",
         "type": "scatter",
         "x": [
          2015,
          2020,
          2025,
          2030,
          2035,
          2040,
          2045,
          2050
         ],
         "y": [
          1244.92,
          2264.83,
          7005.48,
          13171.54,
          17249.32,
          19886.94,
          21866.989999999998,
          23083.47
         ]
        },
        {
         "hoverinfo": "x+y",
         "line": {
          "color": "green",
          "width": 0.5
         },
         "mode": "lines",
         "stackgroup": "one",
         "type": "scatter",
         "x": [
          2015,
          2020,
          2025,
          2030,
          2035,
          2040,
          2045,
          2050
         ],
         "y": [
          40502.149999999994,
          41937.86,
          43378.87,
          41205.55,
          36955.51,
          32215.86,
          26179.870000000003,
          20310.260000000002
         ]
        },
        {
         "hoverinfo": "x+y",
         "line": {
          "color": "rgb(152,78,163)",
          "width": 0.5
         },
         "mode": "lines",
         "stackgroup": "one",
         "type": "scatter",
         "x": [
          2015,
          2020,
          2025,
          2030,
          2035,
          2040,
          2045,
          2050
         ],
         "y": [
          362.72,
          792.65,
          2730.3500000000004,
          5685.63,
          8410.380000000001,
          10587.3,
          13011.62,
          15380.83
         ]
        },
        {
         "hoverinfo": "x+y",
         "line": {
          "color": "#FB0D0D",
          "width": 0.5
         },
         "mode": "lines",
         "stackgroup": "one",
         "type": "scatter",
         "x": [
          2015,
          2020,
          2025,
          2030,
          2035,
          2040,
          2045,
          2050
         ],
         "y": [
          0,
          0,
          120.50999999999999,
          1535.16,
          3732.0199999999995,
          8157.5599999999995,
          12020,
          12258.23
         ]
        },
        {
         "hoverinfo": "x+y",
         "line": {
          "color": "rgb(166,86,40)",
          "width": 0.5
         },
         "mode": "lines",
         "stackgroup": "one",
         "type": "scatter",
         "x": [
          2015,
          2020,
          2025,
          2030,
          2035,
          2040,
          2045,
          2050
         ],
         "y": [
          563.11,
          1488.3,
          4139.04,
          6886.07,
          9246.73,
          10958.970000000001,
          12133.2,
          13092
         ]
        },
        {
         "hoverinfo": "x+y",
         "line": {
          "color": "rgb(254,136,177)",
          "width": 0.5
         },
         "mode": "lines",
         "stackgroup": "one",
         "type": "scatter",
         "x": [
          2015,
          2020,
          2025,
          2030,
          2035,
          2040,
          2045,
          2050
         ],
         "y": [
          0,
          16.27,
          826.87,
          3029.06,
          5130.19,
          6307.99,
          6763.87,
          6849.08
         ]
        },
        {
         "hoverinfo": "x+y",
         "line": {
          "color": "rgb(55,126,184)",
          "width": 0.5
         },
         "mode": "lines",
         "stackgroup": "one",
         "type": "scatter",
         "x": [
          2015,
          2020,
          2025,
          2030,
          2035,
          2040,
          2045,
          2050
         ],
         "y": [
          0,
          1.81,
          5,
          403.94,
          2115.33,
          4550.84,
          5628.75,
          6328.48
         ]
        },
        {
         "hoverinfo": "x+y",
         "line": {
          "color": "rgb(56,166,165)",
          "width": 0.5
         },
         "mode": "lines",
         "stackgroup": "one",
         "type": "scatter",
         "x": [
          2015,
          2020,
          2025,
          2030,
          2035,
          2040,
          2045,
          2050
         ],
         "y": [
          3163.27,
          4123.93,
          9329.42,
          10054.75,
          9781.53,
          9232.15,
          8201.03,
          5693.11
         ]
        }
       ],
       "layout": {
        "annotations": [
         {
          "font": {
           "color": "rgb(10,10,10)",
           "family": "Arial",
           "size": 25
          },
          "showarrow": false,
          "text": "Global Expansion of Renewables to Achieve the 1.5°C limit",
          "x": -0.09,
          "xanchor": "left",
          "xref": "paper",
          "y": 1,
          "yanchor": "bottom",
          "yref": "paper"
         },
         {
          "font": {
           "color": "white",
           "family": "Times",
           "size": 13
          },
          "showarrow": false,
          "text": "Oil",
          "x": 2015,
          "xanchor": "left",
          "y": 280000,
          "yanchor": "bottom"
         },
         {
          "font": {
           "color": "white",
           "family": "Times",
           "size": 13
          },
          "showarrow": false,
          "text": "Coal",
          "x": 2015,
          "xanchor": "left",
          "y": 160000,
          "yanchor": "bottom"
         },
         {
          "font": {
           "color": "white",
           "family": "Times",
           "size": 13
          },
          "showarrow": false,
          "text": "Gas",
          "x": 2015,
          "xanchor": "left",
          "y": 90000,
          "yanchor": "bottom"
         },
         {
          "font": {
           "color": "white",
           "family": "Times",
           "size": 13
          },
          "showarrow": false,
          "text": "RE Fuels",
          "x": 2050,
          "xanchor": "right",
          "y": 238000,
          "yanchor": "bottom"
         },
         {
          "font": {
           "color": "white",
           "family": "Times",
           "size": 13
          },
          "showarrow": false,
          "text": "RE District",
          "x": 2050,
          "xanchor": "right",
          "y": 218000,
          "yanchor": "bottom"
         },
         {
          "font": {
           "color": "white",
           "family": "Times",
           "size": 13
          },
          "showarrow": false,
          "text": "Hydrogen",
          "x": 2050,
          "xanchor": "right",
          "y": 207000,
          "yanchor": "bottom"
         },
         {
          "font": {
           "color": "white",
           "family": "Times",
           "size": 13
          },
          "showarrow": false,
          "text": "Geothermal",
          "x": 2050,
          "xanchor": "right",
          "y": 193000,
          "yanchor": "bottom"
         },
         {
          "font": {
           "color": "white",
           "family": "Times",
           "size": 13
          },
          "showarrow": false,
          "text": "Biomass",
          "x": 2050,
          "xanchor": "right",
          "y": 170000,
          "yanchor": "bottom"
         },
         {
          "font": {
           "color": "white",
           "family": "Times",
           "size": 13
          },
          "showarrow": false,
          "text": "Solar Heat",
          "x": 2050,
          "xanchor": "right",
          "y": 150000,
          "yanchor": "bottom"
         },
         {
          "font": {
           "color": "white",
           "family": "Times",
           "size": 13
          },
          "showarrow": false,
          "text": "Nuclear",
          "x": 2015,
          "xanchor": "left",
          "y": 16000,
          "yanchor": "bottom"
         },
         {
          "font": {
           "color": "white",
           "family": "Times",
           "size": 13
          },
          "showarrow": false,
          "text": "Hydro",
          "x": 2050,
          "xanchor": "right",
          "y": 120000,
          "yanchor": "bottom"
         },
         {
          "font": {
           "color": "white",
           "family": "Times",
           "size": 13
          },
          "showarrow": false,
          "text": "Wind",
          "x": 2050,
          "xanchor": "right",
          "y": 70000,
          "yanchor": "bottom"
         },
         {
          "font": {
           "color": "white",
           "family": "Times",
           "size": 13
          },
          "showarrow": false,
          "text": "Solar CSP",
          "x": 2050,
          "xanchor": "right",
          "y": 45000,
          "yanchor": "bottom"
         },
         {
          "font": {
           "color": "white",
           "family": "Times",
           "size": 13
          },
          "showarrow": false,
          "text": "Solar PV",
          "x": 2050,
          "xanchor": "right",
          "y": 1,
          "yanchor": "bottom"
         }
        ],
        "autosize": false,
        "height": 700,
        "plot_bgcolor": "white",
        "showlegend": false,
        "template": {
         "data": {
          "bar": [
           {
            "error_x": {
             "color": "#2a3f5f"
            },
            "error_y": {
             "color": "#2a3f5f"
            },
            "marker": {
             "line": {
              "color": "#E5ECF6",
              "width": 0.5
             }
            },
            "type": "bar"
           }
          ],
          "barpolar": [
           {
            "marker": {
             "line": {
              "color": "#E5ECF6",
              "width": 0.5
             }
            },
            "type": "barpolar"
           }
          ],
          "carpet": [
           {
            "aaxis": {
             "endlinecolor": "#2a3f5f",
             "gridcolor": "white",
             "linecolor": "white",
             "minorgridcolor": "white",
             "startlinecolor": "#2a3f5f"
            },
            "baxis": {
             "endlinecolor": "#2a3f5f",
             "gridcolor": "white",
             "linecolor": "white",
             "minorgridcolor": "white",
             "startlinecolor": "#2a3f5f"
            },
            "type": "carpet"
           }
          ],
          "choropleth": [
           {
            "colorbar": {
             "outlinewidth": 0,
             "ticks": ""
            },
            "type": "choropleth"
           }
          ],
          "contour": [
           {
            "colorbar": {
             "outlinewidth": 0,
             "ticks": ""
            },
            "colorscale": [
             [
              0,
              "#0d0887"
             ],
             [
              0.1111111111111111,
              "#46039f"
             ],
             [
              0.2222222222222222,
              "#7201a8"
             ],
             [
              0.3333333333333333,
              "#9c179e"
             ],
             [
              0.4444444444444444,
              "#bd3786"
             ],
             [
              0.5555555555555556,
              "#d8576b"
             ],
             [
              0.6666666666666666,
              "#ed7953"
             ],
             [
              0.7777777777777778,
              "#fb9f3a"
             ],
             [
              0.8888888888888888,
              "#fdca26"
             ],
             [
              1,
              "#f0f921"
             ]
            ],
            "type": "contour"
           }
          ],
          "contourcarpet": [
           {
            "colorbar": {
             "outlinewidth": 0,
             "ticks": ""
            },
            "type": "contourcarpet"
           }
          ],
          "heatmap": [
           {
            "colorbar": {
             "outlinewidth": 0,
             "ticks": ""
            },
            "colorscale": [
             [
              0,
              "#0d0887"
             ],
             [
              0.1111111111111111,
              "#46039f"
             ],
             [
              0.2222222222222222,
              "#7201a8"
             ],
             [
              0.3333333333333333,
              "#9c179e"
             ],
             [
              0.4444444444444444,
              "#bd3786"
             ],
             [
              0.5555555555555556,
              "#d8576b"
             ],
             [
              0.6666666666666666,
              "#ed7953"
             ],
             [
              0.7777777777777778,
              "#fb9f3a"
             ],
             [
              0.8888888888888888,
              "#fdca26"
             ],
             [
              1,
              "#f0f921"
             ]
            ],
            "type": "heatmap"
           }
          ],
          "heatmapgl": [
           {
            "colorbar": {
             "outlinewidth": 0,
             "ticks": ""
            },
            "colorscale": [
             [
              0,
              "#0d0887"
             ],
             [
              0.1111111111111111,
              "#46039f"
             ],
             [
              0.2222222222222222,
              "#7201a8"
             ],
             [
              0.3333333333333333,
              "#9c179e"
             ],
             [
              0.4444444444444444,
              "#bd3786"
             ],
             [
              0.5555555555555556,
              "#d8576b"
             ],
             [
              0.6666666666666666,
              "#ed7953"
             ],
             [
              0.7777777777777778,
              "#fb9f3a"
             ],
             [
              0.8888888888888888,
              "#fdca26"
             ],
             [
              1,
              "#f0f921"
             ]
            ],
            "type": "heatmapgl"
           }
          ],
          "histogram": [
           {
            "marker": {
             "colorbar": {
              "outlinewidth": 0,
              "ticks": ""
             }
            },
            "type": "histogram"
           }
          ],
          "histogram2d": [
           {
            "colorbar": {
             "outlinewidth": 0,
             "ticks": ""
            },
            "colorscale": [
             [
              0,
              "#0d0887"
             ],
             [
              0.1111111111111111,
              "#46039f"
             ],
             [
              0.2222222222222222,
              "#7201a8"
             ],
             [
              0.3333333333333333,
              "#9c179e"
             ],
             [
              0.4444444444444444,
              "#bd3786"
             ],
             [
              0.5555555555555556,
              "#d8576b"
             ],
             [
              0.6666666666666666,
              "#ed7953"
             ],
             [
              0.7777777777777778,
              "#fb9f3a"
             ],
             [
              0.8888888888888888,
              "#fdca26"
             ],
             [
              1,
              "#f0f921"
             ]
            ],
            "type": "histogram2d"
           }
          ],
          "histogram2dcontour": [
           {
            "colorbar": {
             "outlinewidth": 0,
             "ticks": ""
            },
            "colorscale": [
             [
              0,
              "#0d0887"
             ],
             [
              0.1111111111111111,
              "#46039f"
             ],
             [
              0.2222222222222222,
              "#7201a8"
             ],
             [
              0.3333333333333333,
              "#9c179e"
             ],
             [
              0.4444444444444444,
              "#bd3786"
             ],
             [
              0.5555555555555556,
              "#d8576b"
             ],
             [
              0.6666666666666666,
              "#ed7953"
             ],
             [
              0.7777777777777778,
              "#fb9f3a"
             ],
             [
              0.8888888888888888,
              "#fdca26"
             ],
             [
              1,
              "#f0f921"
             ]
            ],
            "type": "histogram2dcontour"
           }
          ],
          "mesh3d": [
           {
            "colorbar": {
             "outlinewidth": 0,
             "ticks": ""
            },
            "type": "mesh3d"
           }
          ],
          "parcoords": [
           {
            "line": {
             "colorbar": {
              "outlinewidth": 0,
              "ticks": ""
             }
            },
            "type": "parcoords"
           }
          ],
          "pie": [
           {
            "automargin": true,
            "type": "pie"
           }
          ],
          "scatter": [
           {
            "marker": {
             "colorbar": {
              "outlinewidth": 0,
              "ticks": ""
             }
            },
            "type": "scatter"
           }
          ],
          "scatter3d": [
           {
            "line": {
             "colorbar": {
              "outlinewidth": 0,
              "ticks": ""
             }
            },
            "marker": {
             "colorbar": {
              "outlinewidth": 0,
              "ticks": ""
             }
            },
            "type": "scatter3d"
           }
          ],
          "scattercarpet": [
           {
            "marker": {
             "colorbar": {
              "outlinewidth": 0,
              "ticks": ""
             }
            },
            "type": "scattercarpet"
           }
          ],
          "scattergeo": [
           {
            "marker": {
             "colorbar": {
              "outlinewidth": 0,
              "ticks": ""
             }
            },
            "type": "scattergeo"
           }
          ],
          "scattergl": [
           {
            "marker": {
             "colorbar": {
              "outlinewidth": 0,
              "ticks": ""
             }
            },
            "type": "scattergl"
           }
          ],
          "scattermapbox": [
           {
            "marker": {
             "colorbar": {
              "outlinewidth": 0,
              "ticks": ""
             }
            },
            "type": "scattermapbox"
           }
          ],
          "scatterpolar": [
           {
            "marker": {
             "colorbar": {
              "outlinewidth": 0,
              "ticks": ""
             }
            },
            "type": "scatterpolar"
           }
          ],
          "scatterpolargl": [
           {
            "marker": {
             "colorbar": {
              "outlinewidth": 0,
              "ticks": ""
             }
            },
            "type": "scatterpolargl"
           }
          ],
          "scatterternary": [
           {
            "marker": {
             "colorbar": {
              "outlinewidth": 0,
              "ticks": ""
             }
            },
            "type": "scatterternary"
           }
          ],
          "surface": [
           {
            "colorbar": {
             "outlinewidth": 0,
             "ticks": ""
            },
            "colorscale": [
             [
              0,
              "#0d0887"
             ],
             [
              0.1111111111111111,
              "#46039f"
             ],
             [
              0.2222222222222222,
              "#7201a8"
             ],
             [
              0.3333333333333333,
              "#9c179e"
             ],
             [
              0.4444444444444444,
              "#bd3786"
             ],
             [
              0.5555555555555556,
              "#d8576b"
             ],
             [
              0.6666666666666666,
              "#ed7953"
             ],
             [
              0.7777777777777778,
              "#fb9f3a"
             ],
             [
              0.8888888888888888,
              "#fdca26"
             ],
             [
              1,
              "#f0f921"
             ]
            ],
            "type": "surface"
           }
          ],
          "table": [
           {
            "cells": {
             "fill": {
              "color": "#EBF0F8"
             },
             "line": {
              "color": "white"
             }
            },
            "header": {
             "fill": {
              "color": "#C8D4E3"
             },
             "line": {
              "color": "white"
             }
            },
            "type": "table"
           }
          ]
         },
         "layout": {
          "annotationdefaults": {
           "arrowcolor": "#2a3f5f",
           "arrowhead": 0,
           "arrowwidth": 1
          },
          "coloraxis": {
           "colorbar": {
            "outlinewidth": 0,
            "ticks": ""
           }
          },
          "colorscale": {
           "diverging": [
            [
             0,
             "#8e0152"
            ],
            [
             0.1,
             "#c51b7d"
            ],
            [
             0.2,
             "#de77ae"
            ],
            [
             0.3,
             "#f1b6da"
            ],
            [
             0.4,
             "#fde0ef"
            ],
            [
             0.5,
             "#f7f7f7"
            ],
            [
             0.6,
             "#e6f5d0"
            ],
            [
             0.7,
             "#b8e186"
            ],
            [
             0.8,
             "#7fbc41"
            ],
            [
             0.9,
             "#4d9221"
            ],
            [
             1,
             "#276419"
            ]
           ],
           "sequential": [
            [
             0,
             "#0d0887"
            ],
            [
             0.1111111111111111,
             "#46039f"
            ],
            [
             0.2222222222222222,
             "#7201a8"
            ],
            [
             0.3333333333333333,
             "#9c179e"
            ],
            [
             0.4444444444444444,
             "#bd3786"
            ],
            [
             0.5555555555555556,
             "#d8576b"
            ],
            [
             0.6666666666666666,
             "#ed7953"
            ],
            [
             0.7777777777777778,
             "#fb9f3a"
            ],
            [
             0.8888888888888888,
             "#fdca26"
            ],
            [
             1,
             "#f0f921"
            ]
           ],
           "sequentialminus": [
            [
             0,
             "#0d0887"
            ],
            [
             0.1111111111111111,
             "#46039f"
            ],
            [
             0.2222222222222222,
             "#7201a8"
            ],
            [
             0.3333333333333333,
             "#9c179e"
            ],
            [
             0.4444444444444444,
             "#bd3786"
            ],
            [
             0.5555555555555556,
             "#d8576b"
            ],
            [
             0.6666666666666666,
             "#ed7953"
            ],
            [
             0.7777777777777778,
             "#fb9f3a"
            ],
            [
             0.8888888888888888,
             "#fdca26"
            ],
            [
             1,
             "#f0f921"
            ]
           ]
          },
          "colorway": [
           "#636efa",
           "#EF553B",
           "#00cc96",
           "#ab63fa",
           "#FFA15A",
           "#19d3f3",
           "#FF6692",
           "#B6E880",
           "#FF97FF",
           "#FECB52"
          ],
          "font": {
           "color": "#2a3f5f"
          },
          "geo": {
           "bgcolor": "white",
           "lakecolor": "white",
           "landcolor": "#E5ECF6",
           "showlakes": true,
           "showland": true,
           "subunitcolor": "white"
          },
          "hoverlabel": {
           "align": "left"
          },
          "hovermode": "closest",
          "mapbox": {
           "style": "light"
          },
          "paper_bgcolor": "white",
          "plot_bgcolor": "#E5ECF6",
          "polar": {
           "angularaxis": {
            "gridcolor": "white",
            "linecolor": "white",
            "ticks": ""
           },
           "bgcolor": "#E5ECF6",
           "radialaxis": {
            "gridcolor": "white",
            "linecolor": "white",
            "ticks": ""
           }
          },
          "scene": {
           "xaxis": {
            "backgroundcolor": "#E5ECF6",
            "gridcolor": "white",
            "gridwidth": 2,
            "linecolor": "white",
            "showbackground": true,
            "ticks": "",
            "zerolinecolor": "white"
           },
           "yaxis": {
            "backgroundcolor": "#E5ECF6",
            "gridcolor": "white",
            "gridwidth": 2,
            "linecolor": "white",
            "showbackground": true,
            "ticks": "",
            "zerolinecolor": "white"
           },
           "zaxis": {
            "backgroundcolor": "#E5ECF6",
            "gridcolor": "white",
            "gridwidth": 2,
            "linecolor": "white",
            "showbackground": true,
            "ticks": "",
            "zerolinecolor": "white"
           }
          },
          "shapedefaults": {
           "line": {
            "color": "#2a3f5f"
           }
          },
          "ternary": {
           "aaxis": {
            "gridcolor": "white",
            "linecolor": "white",
            "ticks": ""
           },
           "baxis": {
            "gridcolor": "white",
            "linecolor": "white",
            "ticks": ""
           },
           "bgcolor": "#E5ECF6",
           "caxis": {
            "gridcolor": "white",
            "linecolor": "white",
            "ticks": ""
           }
          },
          "title": {
           "x": 0.05
          },
          "xaxis": {
           "automargin": true,
           "gridcolor": "white",
           "linecolor": "white",
           "ticks": "",
           "title": {
            "standoff": 15
           },
           "zerolinecolor": "white",
           "zerolinewidth": 2
          },
          "yaxis": {
           "automargin": true,
           "gridcolor": "white",
           "linecolor": "white",
           "ticks": "",
           "title": {
            "standoff": 15
           },
           "zerolinecolor": "white",
           "zerolinewidth": 2
          }
         }
        },
        "width": 700,
        "xaxis": {
         "showgrid": false
        },
        "yaxis": {
         "showgrid": false,
         "tickformat": ",d",
         "tickvals": [
          50000,
          100000,
          150000,
          200000,
          250000,
          300000,
          350000
         ],
         "title": {
          "font": {
           "color": "rgb(10,10,10)",
           "family": "Arial",
           "size": 18
          },
          "text": "Final Energy Demand (PJ)"
         }
        }
       }
      },
      "text/html": [
       "<div>                            <div id=\"0b38f75d-4e7b-4bd4-bae8-4ebd6c4f12a2\" class=\"plotly-graph-div\" style=\"height:700px; width:700px;\"></div>            <script type=\"text/javascript\">                require([\"plotly\"], function(Plotly) {                    window.PLOTLYENV=window.PLOTLYENV || {};                                    if (document.getElementById(\"0b38f75d-4e7b-4bd4-bae8-4ebd6c4f12a2\")) {                    Plotly.newPlot(                        \"0b38f75d-4e7b-4bd4-bae8-4ebd6c4f12a2\",                        [{\"hoverinfo\": \"x+y\", \"line\": {\"color\": \"rgb(255,217,47)\", \"width\": 0.5}, \"mode\": \"lines\", \"stackgroup\": \"one\", \"type\": \"scatter\", \"x\": [2015, 2020, 2025, 2030, 2035, 2040, 2045, 2050], \"y\": [739.1937237080786, 2941.176468703249, 11996.383733940478, 21814.2231719542, 30652.20633871231, 37867.66026522675, 42309.84765842057, 45314.37775171777]}, {\"hoverinfo\": \"x+y\", \"line\": {\"color\": \"rgb(217,95,2)\", \"width\": 0.5}, \"mode\": \"lines\", \"stackgroup\": \"one\", \"type\": \"scatter\", \"x\": [2015, 2020, 2025, 2030, 2035, 2040, 2045, 2050], \"y\": [28.180317974027407, 95.92472948533931, 952.2260060478457, 5313.084450864602, 10145.989743285892, 13814.914410414338, 16495.46522094106, 18712.230692153913]}, {\"hoverinfo\": \"x+y\", \"line\": {\"color\": \"purple\", \"width\": 0.5}, \"mode\": \"lines\", \"stackgroup\": \"one\", \"type\": \"scatter\", \"x\": [2015, 2020, 2025, 2030, 2035, 2040, 2045, 2050], \"y\": [241.18155117133034, 342.81346452090776, 958.3515077829677, 2630.4555181560354, 4217.606480457147, 5482.373135463442, 6515.28651012933, 7640.750707700605]}, {\"hoverinfo\": \"x+y\", \"line\": {\"color\": \"#22FFA7\", \"width\": 0.5}, \"mode\": \"lines\", \"stackgroup\": \"one\", \"type\": \"scatter\", \"x\": [2015, 2020, 2025, 2030, 2035, 2040, 2045, 2050], \"y\": [2512.3353055078924, 4681.308646712967, 13645.880783269859, 26256.640230050143, 36767.23006586525, 42766.62872116032, 46483.09870771948, 49578.4486812795]}, {\"hoverinfo\": \"x+y\", \"line\": {\"color\": \"rgb(36,121,108)\", \"width\": 0.5}, \"mode\": \"lines\", \"stackgroup\": \"one\", \"type\": \"scatter\", \"x\": [2015, 2020, 2025, 2030, 2035, 2040, 2045, 2050], \"y\": [3.0278852291242213, 6.394981965689287, 124.42996808210184, 487.0001510508702, 1112.3922298682828, 1705.2083273405617, 2265.8196353463622, 2708.2684116146684]}, {\"hoverinfo\": \"x+y\", \"line\": {\"color\": \"#3366CC\", \"width\": 0.5}, \"mode\": \"lines\", \"stackgroup\": \"one\", \"type\": \"scatter\", \"x\": [2015, 2020, 2025, 2030, 2035, 2040, 2045, 2050], \"y\": [11656.818509018112, 13028.517974278766, 13697.353282924687, 13399.007725007783, 12757.07343181972, 11669.085651974325, 11229.024876463884, 11467.298877534662]}, {\"hoverinfo\": \"x+y\", \"line\": {\"color\": \"rgb(17,119,51)\", \"width\": 0.5}, \"mode\": \"lines\", \"stackgroup\": \"one\", \"type\": \"scatter\", \"x\": [2015, 2020, 2025, 2030, 2035, 2040, 2045, 2050], \"y\": [1410.5448308467699, 2494.740049961054, 5129.5439132038455, 6973.015963279977, 7209.287167144519, 7096.481192453129, 7218.773218641373, 7543.847842257269]}, {\"customdata\": [23, 29.0, 51.0, 73.0, 86.0, 94.0, 98.0, 100.0], \"hovertemplate\": \"Electricity: %{customdata:}% RE\", \"line\": {\"color\": \"rgb(228,26,28)\", \"width\": 0.5}, \"marker\": {\"color\": \"white\", \"size\": 7}, \"mode\": \"lines+markers+text\", \"name\": \"\", \"stackgroup\": \"one\", \"type\": \"scatter\", \"x\": [2015, 2020, 2025, 2030, 2035, 2040, 2045, 2050], \"y\": [0.0, 1.3335507416603254, 103.00594957568067, 781.2106997435498, 2018.320674731151, 4179.167435376383, 6009.270156180269, 7189.227035741623]}, {\"hoverinfo\": \"x+y\", \"line\": {\"color\": \"rgb(242,242,242)\", \"width\": 0.5}, \"mode\": \"lines\", \"stackgroup\": \"one\", \"type\": \"scatter\", \"x\": [2015, 2020, 2025, 2030, 2035, 2040, 2045, 2050], \"y\": [7628.561970877593, 8851.746127484423, 6888.446690041118, 4390.1277669980445, 2233.9026493036363, 439.89453253091847, 27.21993767287694, 0.0]}, {\"hoverinfo\": \"x+y\", \"line\": {\"color\": \"rgb(179,179,179)\", \"width\": 0.5}, \"mode\": \"lines\", \"stackgroup\": \"one\", \"type\": \"scatter\", \"x\": [2015, 2020, 2025, 2030, 2035, 2040, 2045, 2050], \"y\": [77895.40591532012, 84097.14437165028, 77979.48174440696, 61457.04697820218, 43269.713147196715, 23926.148881869914, 8379.760285715332, 0.006666666666812186]}, {\"hoverinfo\": \"x+y\", \"line\": {\"color\": \"rgb(102,102,102)\", \"width\": 0.5}, \"mode\": \"lines\", \"stackgroup\": \"one\", \"type\": \"scatter\", \"x\": [2015, 2020, 2025, 2030, 2035, 2040, 2045, 2050], \"y\": [68209.80992836868, 62487.09505488598, 38166.40857564834, 15474.245236388519, 3267.6291585842882, 943.6866666666668, 337.03333333333313, 0.006666666666812186]}, {\"customdata\": [17, 18.0, 30.0, 46.0, 66.0, 82.0, 94.0, 100.0], \"hovertemplate\": \"Direct E: %{customdata:}% RE\", \"line\": {\"color\": \"black\", \"width\": 0.5}, \"marker\": {\"color\": \"white\", \"size\": 7}, \"mode\": \"lines+markers+text\", \"name\": \"\", \"stackgroup\": \"one\", \"type\": \"scatter\", \"x\": [2015, 2020, 2025, 2030, 2035, 2040, 2045, 2050], \"y\": [125727.76006197826, 125446.93427163828, 83290.07784507613, 43197.141077440436, 16427.122015716726, 5054.164976142214, 637.6833333333332, 0.006666666666812186]}, {\"hoverinfo\": \"x+y\", \"line\": {\"color\": \"rgb(252,141,98)\", \"width\": 0.5}, \"mode\": \"lines\", \"stackgroup\": \"one\", \"type\": \"scatter\", \"x\": [2015, 2020, 2025, 2030, 2035, 2040, 2045, 2050], \"y\": [1244.92, 2264.83, 7005.48, 13171.54, 17249.32, 19886.94, 21866.989999999998, 23083.47]}, {\"hoverinfo\": \"x+y\", \"line\": {\"color\": \"green\", \"width\": 0.5}, \"mode\": \"lines\", \"stackgroup\": \"one\", \"type\": \"scatter\", \"x\": [2015, 2020, 2025, 2030, 2035, 2040, 2045, 2050], \"y\": [40502.149999999994, 41937.86, 43378.87, 41205.55, 36955.51, 32215.86, 26179.870000000003, 20310.260000000002]}, {\"hoverinfo\": \"x+y\", \"line\": {\"color\": \"rgb(152,78,163)\", \"width\": 0.5}, \"mode\": \"lines\", \"stackgroup\": \"one\", \"type\": \"scatter\", \"x\": [2015, 2020, 2025, 2030, 2035, 2040, 2045, 2050], \"y\": [362.72, 792.65, 2730.3500000000004, 5685.63, 8410.380000000001, 10587.3, 13011.62, 15380.83]}, {\"hoverinfo\": \"x+y\", \"line\": {\"color\": \"#FB0D0D\", \"width\": 0.5}, \"mode\": \"lines\", \"stackgroup\": \"one\", \"type\": \"scatter\", \"x\": [2015, 2020, 2025, 2030, 2035, 2040, 2045, 2050], \"y\": [0.0, 0.0, 120.50999999999999, 1535.16, 3732.0199999999995, 8157.5599999999995, 12020.0, 12258.23]}, {\"hoverinfo\": \"x+y\", \"line\": {\"color\": \"rgb(166,86,40)\", \"width\": 0.5}, \"mode\": \"lines\", \"stackgroup\": \"one\", \"type\": \"scatter\", \"x\": [2015, 2020, 2025, 2030, 2035, 2040, 2045, 2050], \"y\": [563.11, 1488.3, 4139.04, 6886.07, 9246.73, 10958.970000000001, 12133.2, 13092.0]}, {\"hoverinfo\": \"x+y\", \"line\": {\"color\": \"rgb(254,136,177)\", \"width\": 0.5}, \"mode\": \"lines\", \"stackgroup\": \"one\", \"type\": \"scatter\", \"x\": [2015, 2020, 2025, 2030, 2035, 2040, 2045, 2050], \"y\": [0.0, 16.27, 826.87, 3029.06, 5130.19, 6307.99, 6763.87, 6849.08]}, {\"hoverinfo\": \"x+y\", \"line\": {\"color\": \"rgb(55,126,184)\", \"width\": 0.5}, \"mode\": \"lines\", \"stackgroup\": \"one\", \"type\": \"scatter\", \"x\": [2015, 2020, 2025, 2030, 2035, 2040, 2045, 2050], \"y\": [0.0, 1.81, 5.0, 403.94, 2115.33, 4550.84, 5628.75, 6328.48]}, {\"hoverinfo\": \"x+y\", \"line\": {\"color\": \"rgb(56,166,165)\", \"width\": 0.5}, \"mode\": \"lines\", \"stackgroup\": \"one\", \"type\": \"scatter\", \"x\": [2015, 2020, 2025, 2030, 2035, 2040, 2045, 2050], \"y\": [3163.27, 4123.93, 9329.42, 10054.75, 9781.53, 9232.15, 8201.03, 5693.11]}],                        {\"annotations\": [{\"font\": {\"color\": \"rgb(10,10,10)\", \"family\": \"Arial\", \"size\": 25}, \"showarrow\": false, \"text\": \"Global Expansion of Renewables to Achieve the 1.5\\u00b0C limit\", \"x\": -0.09, \"xanchor\": \"left\", \"xref\": \"paper\", \"y\": 1, \"yanchor\": \"bottom\", \"yref\": \"paper\"}, {\"font\": {\"color\": \"white\", \"family\": \"Times\", \"size\": 13}, \"showarrow\": false, \"text\": \"Oil\", \"x\": 2015, \"xanchor\": \"left\", \"y\": 280000, \"yanchor\": \"bottom\"}, {\"font\": {\"color\": \"white\", \"family\": \"Times\", \"size\": 13}, \"showarrow\": false, \"text\": \"Coal\", \"x\": 2015, \"xanchor\": \"left\", \"y\": 160000, \"yanchor\": \"bottom\"}, {\"font\": {\"color\": \"white\", \"family\": \"Times\", \"size\": 13}, \"showarrow\": false, \"text\": \"Gas\", \"x\": 2015, \"xanchor\": \"left\", \"y\": 90000, \"yanchor\": \"bottom\"}, {\"font\": {\"color\": \"white\", \"family\": \"Times\", \"size\": 13}, \"showarrow\": false, \"text\": \"RE Fuels\", \"x\": 2050, \"xanchor\": \"right\", \"y\": 238000, \"yanchor\": \"bottom\"}, {\"font\": {\"color\": \"white\", \"family\": \"Times\", \"size\": 13}, \"showarrow\": false, \"text\": \"RE District\", \"x\": 2050, \"xanchor\": \"right\", \"y\": 218000, \"yanchor\": \"bottom\"}, {\"font\": {\"color\": \"white\", \"family\": \"Times\", \"size\": 13}, \"showarrow\": false, \"text\": \"Hydrogen\", \"x\": 2050, \"xanchor\": \"right\", \"y\": 207000, \"yanchor\": \"bottom\"}, {\"font\": {\"color\": \"white\", \"family\": \"Times\", \"size\": 13}, \"showarrow\": false, \"text\": \"Geothermal\", \"x\": 2050, \"xanchor\": \"right\", \"y\": 193000, \"yanchor\": \"bottom\"}, {\"font\": {\"color\": \"white\", \"family\": \"Times\", \"size\": 13}, \"showarrow\": false, \"text\": \"Biomass\", \"x\": 2050, \"xanchor\": \"right\", \"y\": 170000, \"yanchor\": \"bottom\"}, {\"font\": {\"color\": \"white\", \"family\": \"Times\", \"size\": 13}, \"showarrow\": false, \"text\": \"Solar Heat\", \"x\": 2050, \"xanchor\": \"right\", \"y\": 150000, \"yanchor\": \"bottom\"}, {\"font\": {\"color\": \"white\", \"family\": \"Times\", \"size\": 13}, \"showarrow\": false, \"text\": \"Nuclear\", \"x\": 2015, \"xanchor\": \"left\", \"y\": 16000, \"yanchor\": \"bottom\"}, {\"font\": {\"color\": \"white\", \"family\": \"Times\", \"size\": 13}, \"showarrow\": false, \"text\": \"Hydro\", \"x\": 2050, \"xanchor\": \"right\", \"y\": 120000, \"yanchor\": \"bottom\"}, {\"font\": {\"color\": \"white\", \"family\": \"Times\", \"size\": 13}, \"showarrow\": false, \"text\": \"Wind\", \"x\": 2050, \"xanchor\": \"right\", \"y\": 70000, \"yanchor\": \"bottom\"}, {\"font\": {\"color\": \"white\", \"family\": \"Times\", \"size\": 13}, \"showarrow\": false, \"text\": \"Solar CSP\", \"x\": 2050, \"xanchor\": \"right\", \"y\": 45000, \"yanchor\": \"bottom\"}, {\"font\": {\"color\": \"white\", \"family\": \"Times\", \"size\": 13}, \"showarrow\": false, \"text\": \"Solar PV\", \"x\": 2050, \"xanchor\": \"right\", \"y\": 1, \"yanchor\": \"bottom\"}], \"autosize\": false, \"height\": 700, \"plot_bgcolor\": \"white\", \"showlegend\": false, \"template\": {\"data\": {\"bar\": [{\"error_x\": {\"color\": \"#2a3f5f\"}, \"error_y\": {\"color\": \"#2a3f5f\"}, \"marker\": {\"line\": {\"color\": \"#E5ECF6\", \"width\": 0.5}}, \"type\": \"bar\"}], \"barpolar\": [{\"marker\": {\"line\": {\"color\": \"#E5ECF6\", \"width\": 0.5}}, \"type\": \"barpolar\"}], \"carpet\": [{\"aaxis\": {\"endlinecolor\": \"#2a3f5f\", \"gridcolor\": \"white\", \"linecolor\": \"white\", \"minorgridcolor\": \"white\", \"startlinecolor\": \"#2a3f5f\"}, \"baxis\": {\"endlinecolor\": \"#2a3f5f\", \"gridcolor\": \"white\", \"linecolor\": \"white\", \"minorgridcolor\": \"white\", \"startlinecolor\": \"#2a3f5f\"}, \"type\": \"carpet\"}], \"choropleth\": [{\"colorbar\": {\"outlinewidth\": 0, \"ticks\": \"\"}, \"type\": \"choropleth\"}], \"contour\": [{\"colorbar\": {\"outlinewidth\": 0, \"ticks\": \"\"}, \"colorscale\": [[0.0, \"#0d0887\"], [0.1111111111111111, \"#46039f\"], [0.2222222222222222, \"#7201a8\"], [0.3333333333333333, \"#9c179e\"], [0.4444444444444444, \"#bd3786\"], [0.5555555555555556, \"#d8576b\"], [0.6666666666666666, \"#ed7953\"], [0.7777777777777778, \"#fb9f3a\"], [0.8888888888888888, \"#fdca26\"], [1.0, \"#f0f921\"]], \"type\": \"contour\"}], \"contourcarpet\": [{\"colorbar\": {\"outlinewidth\": 0, \"ticks\": \"\"}, \"type\": \"contourcarpet\"}], \"heatmap\": [{\"colorbar\": {\"outlinewidth\": 0, \"ticks\": \"\"}, \"colorscale\": [[0.0, \"#0d0887\"], [0.1111111111111111, \"#46039f\"], [0.2222222222222222, \"#7201a8\"], [0.3333333333333333, \"#9c179e\"], [0.4444444444444444, \"#bd3786\"], [0.5555555555555556, \"#d8576b\"], [0.6666666666666666, \"#ed7953\"], [0.7777777777777778, \"#fb9f3a\"], [0.8888888888888888, \"#fdca26\"], [1.0, \"#f0f921\"]], \"type\": \"heatmap\"}], \"heatmapgl\": [{\"colorbar\": {\"outlinewidth\": 0, \"ticks\": \"\"}, \"colorscale\": [[0.0, \"#0d0887\"], [0.1111111111111111, \"#46039f\"], [0.2222222222222222, \"#7201a8\"], [0.3333333333333333, \"#9c179e\"], [0.4444444444444444, \"#bd3786\"], [0.5555555555555556, \"#d8576b\"], [0.6666666666666666, \"#ed7953\"], [0.7777777777777778, \"#fb9f3a\"], [0.8888888888888888, \"#fdca26\"], [1.0, \"#f0f921\"]], \"type\": \"heatmapgl\"}], \"histogram\": [{\"marker\": {\"colorbar\": {\"outlinewidth\": 0, \"ticks\": \"\"}}, \"type\": \"histogram\"}], \"histogram2d\": [{\"colorbar\": {\"outlinewidth\": 0, \"ticks\": \"\"}, \"colorscale\": [[0.0, \"#0d0887\"], [0.1111111111111111, \"#46039f\"], [0.2222222222222222, \"#7201a8\"], [0.3333333333333333, \"#9c179e\"], [0.4444444444444444, \"#bd3786\"], [0.5555555555555556, \"#d8576b\"], [0.6666666666666666, \"#ed7953\"], [0.7777777777777778, \"#fb9f3a\"], [0.8888888888888888, \"#fdca26\"], [1.0, \"#f0f921\"]], \"type\": \"histogram2d\"}], \"histogram2dcontour\": [{\"colorbar\": {\"outlinewidth\": 0, \"ticks\": \"\"}, \"colorscale\": [[0.0, \"#0d0887\"], [0.1111111111111111, \"#46039f\"], [0.2222222222222222, \"#7201a8\"], [0.3333333333333333, \"#9c179e\"], [0.4444444444444444, \"#bd3786\"], [0.5555555555555556, \"#d8576b\"], [0.6666666666666666, \"#ed7953\"], [0.7777777777777778, \"#fb9f3a\"], [0.8888888888888888, \"#fdca26\"], [1.0, \"#f0f921\"]], \"type\": \"histogram2dcontour\"}], \"mesh3d\": [{\"colorbar\": {\"outlinewidth\": 0, \"ticks\": \"\"}, \"type\": \"mesh3d\"}], \"parcoords\": [{\"line\": {\"colorbar\": {\"outlinewidth\": 0, \"ticks\": \"\"}}, \"type\": \"parcoords\"}], \"pie\": [{\"automargin\": true, \"type\": \"pie\"}], \"scatter\": [{\"marker\": {\"colorbar\": {\"outlinewidth\": 0, \"ticks\": \"\"}}, \"type\": \"scatter\"}], \"scatter3d\": [{\"line\": {\"colorbar\": {\"outlinewidth\": 0, \"ticks\": \"\"}}, \"marker\": {\"colorbar\": {\"outlinewidth\": 0, \"ticks\": \"\"}}, \"type\": \"scatter3d\"}], \"scattercarpet\": [{\"marker\": {\"colorbar\": {\"outlinewidth\": 0, \"ticks\": \"\"}}, \"type\": \"scattercarpet\"}], \"scattergeo\": [{\"marker\": {\"colorbar\": {\"outlinewidth\": 0, \"ticks\": \"\"}}, \"type\": \"scattergeo\"}], \"scattergl\": [{\"marker\": {\"colorbar\": {\"outlinewidth\": 0, \"ticks\": \"\"}}, \"type\": \"scattergl\"}], \"scattermapbox\": [{\"marker\": {\"colorbar\": {\"outlinewidth\": 0, \"ticks\": \"\"}}, \"type\": \"scattermapbox\"}], \"scatterpolar\": [{\"marker\": {\"colorbar\": {\"outlinewidth\": 0, \"ticks\": \"\"}}, \"type\": \"scatterpolar\"}], \"scatterpolargl\": [{\"marker\": {\"colorbar\": {\"outlinewidth\": 0, \"ticks\": \"\"}}, \"type\": \"scatterpolargl\"}], \"scatterternary\": [{\"marker\": {\"colorbar\": {\"outlinewidth\": 0, \"ticks\": \"\"}}, \"type\": \"scatterternary\"}], \"surface\": [{\"colorbar\": {\"outlinewidth\": 0, \"ticks\": \"\"}, \"colorscale\": [[0.0, \"#0d0887\"], [0.1111111111111111, \"#46039f\"], [0.2222222222222222, \"#7201a8\"], [0.3333333333333333, \"#9c179e\"], [0.4444444444444444, \"#bd3786\"], [0.5555555555555556, \"#d8576b\"], [0.6666666666666666, \"#ed7953\"], [0.7777777777777778, \"#fb9f3a\"], [0.8888888888888888, \"#fdca26\"], [1.0, \"#f0f921\"]], \"type\": \"surface\"}], \"table\": [{\"cells\": {\"fill\": {\"color\": \"#EBF0F8\"}, \"line\": {\"color\": \"white\"}}, \"header\": {\"fill\": {\"color\": \"#C8D4E3\"}, \"line\": {\"color\": \"white\"}}, \"type\": \"table\"}]}, \"layout\": {\"annotationdefaults\": {\"arrowcolor\": \"#2a3f5f\", \"arrowhead\": 0, \"arrowwidth\": 1}, \"coloraxis\": {\"colorbar\": {\"outlinewidth\": 0, \"ticks\": \"\"}}, \"colorscale\": {\"diverging\": [[0, \"#8e0152\"], [0.1, \"#c51b7d\"], [0.2, \"#de77ae\"], [0.3, \"#f1b6da\"], [0.4, \"#fde0ef\"], [0.5, \"#f7f7f7\"], [0.6, \"#e6f5d0\"], [0.7, \"#b8e186\"], [0.8, \"#7fbc41\"], [0.9, \"#4d9221\"], [1, \"#276419\"]], \"sequential\": [[0.0, \"#0d0887\"], [0.1111111111111111, \"#46039f\"], [0.2222222222222222, \"#7201a8\"], [0.3333333333333333, \"#9c179e\"], [0.4444444444444444, \"#bd3786\"], [0.5555555555555556, \"#d8576b\"], [0.6666666666666666, \"#ed7953\"], [0.7777777777777778, \"#fb9f3a\"], [0.8888888888888888, \"#fdca26\"], [1.0, \"#f0f921\"]], \"sequentialminus\": [[0.0, \"#0d0887\"], [0.1111111111111111, \"#46039f\"], [0.2222222222222222, \"#7201a8\"], [0.3333333333333333, \"#9c179e\"], [0.4444444444444444, \"#bd3786\"], [0.5555555555555556, \"#d8576b\"], [0.6666666666666666, \"#ed7953\"], [0.7777777777777778, \"#fb9f3a\"], [0.8888888888888888, \"#fdca26\"], [1.0, \"#f0f921\"]]}, \"colorway\": [\"#636efa\", \"#EF553B\", \"#00cc96\", \"#ab63fa\", \"#FFA15A\", \"#19d3f3\", \"#FF6692\", \"#B6E880\", \"#FF97FF\", \"#FECB52\"], \"font\": {\"color\": \"#2a3f5f\"}, \"geo\": {\"bgcolor\": \"white\", \"lakecolor\": \"white\", \"landcolor\": \"#E5ECF6\", \"showlakes\": true, \"showland\": true, \"subunitcolor\": \"white\"}, \"hoverlabel\": {\"align\": \"left\"}, \"hovermode\": \"closest\", \"mapbox\": {\"style\": \"light\"}, \"paper_bgcolor\": \"white\", \"plot_bgcolor\": \"#E5ECF6\", \"polar\": {\"angularaxis\": {\"gridcolor\": \"white\", \"linecolor\": \"white\", \"ticks\": \"\"}, \"bgcolor\": \"#E5ECF6\", \"radialaxis\": {\"gridcolor\": \"white\", \"linecolor\": \"white\", \"ticks\": \"\"}}, \"scene\": {\"xaxis\": {\"backgroundcolor\": \"#E5ECF6\", \"gridcolor\": \"white\", \"gridwidth\": 2, \"linecolor\": \"white\", \"showbackground\": true, \"ticks\": \"\", \"zerolinecolor\": \"white\"}, \"yaxis\": {\"backgroundcolor\": \"#E5ECF6\", \"gridcolor\": \"white\", \"gridwidth\": 2, \"linecolor\": \"white\", \"showbackground\": true, \"ticks\": \"\", \"zerolinecolor\": \"white\"}, \"zaxis\": {\"backgroundcolor\": \"#E5ECF6\", \"gridcolor\": \"white\", \"gridwidth\": 2, \"linecolor\": \"white\", \"showbackground\": true, \"ticks\": \"\", \"zerolinecolor\": \"white\"}}, \"shapedefaults\": {\"line\": {\"color\": \"#2a3f5f\"}}, \"ternary\": {\"aaxis\": {\"gridcolor\": \"white\", \"linecolor\": \"white\", \"ticks\": \"\"}, \"baxis\": {\"gridcolor\": \"white\", \"linecolor\": \"white\", \"ticks\": \"\"}, \"bgcolor\": \"#E5ECF6\", \"caxis\": {\"gridcolor\": \"white\", \"linecolor\": \"white\", \"ticks\": \"\"}}, \"title\": {\"x\": 0.05}, \"xaxis\": {\"automargin\": true, \"gridcolor\": \"white\", \"linecolor\": \"white\", \"ticks\": \"\", \"title\": {\"standoff\": 15}, \"zerolinecolor\": \"white\", \"zerolinewidth\": 2}, \"yaxis\": {\"automargin\": true, \"gridcolor\": \"white\", \"linecolor\": \"white\", \"ticks\": \"\", \"title\": {\"standoff\": 15}, \"zerolinecolor\": \"white\", \"zerolinewidth\": 2}}}, \"width\": 700, \"xaxis\": {\"showgrid\": false}, \"yaxis\": {\"showgrid\": false, \"tickformat\": \",d\", \"tickvals\": [50000, 100000, 150000, 200000, 250000, 300000, 350000], \"title\": {\"font\": {\"color\": \"rgb(10,10,10)\", \"family\": \"Arial\", \"size\": 18}, \"text\": \"Final Energy Demand (PJ)\"}}},                        {\"responsive\": true}                    ).then(function(){\n",
       "                            \n",
       "var gd = document.getElementById('0b38f75d-4e7b-4bd4-bae8-4ebd6c4f12a2');\n",
       "var x = new MutationObserver(function (mutations, observer) {{\n",
       "        var display = window.getComputedStyle(gd).display;\n",
       "        if (!display || display === 'none') {{\n",
       "            console.log([gd, 'removed!']);\n",
       "            Plotly.purge(gd);\n",
       "            observer.disconnect();\n",
       "        }}\n",
       "}});\n",
       "\n",
       "// Listen for the removal of the full notebook cells\n",
       "var notebookContainer = gd.closest('#notebook-container');\n",
       "if (notebookContainer) {{\n",
       "    x.observe(notebookContainer, {childList: true});\n",
       "}}\n",
       "\n",
       "// Listen for the clearing of the current output cell\n",
       "var outputEl = gd.closest('.output');\n",
       "if (outputEl) {{\n",
       "    x.observe(outputEl, {childList: true});\n",
       "}}\n",
       "\n",
       "                        })                };                });            </script>        </div>"
      ]
     },
     "metadata": {},
     "output_type": "display_data"
    }
   ],
   "source": [
    "fig = go.Figure()\n",
    "\n",
    "fig.add_trace(go.Scatter(\n",
    "    x = PV['Year'], y = PV['Final Energy Demand'],\n",
    "    hoverinfo='x+y',\n",
    "    mode='lines',\n",
    "    line=dict(width=0.5, color='rgb(255,217,47)'),\n",
    "    stackgroup='one'))\n",
    "\n",
    "fig.add_trace(go.Scatter(\n",
    "    x = Solar_thermal_power_plants['Year'], y = Solar_thermal_power_plants['Final Energy Demand'],\n",
    "    hoverinfo='x+y',\n",
    "    mode='lines',\n",
    "    line=dict(width=0.5, color='rgb(217,95,2)'),\n",
    "    stackgroup='one'))\n",
    "\n",
    "fig.add_trace(go.Scatter(\n",
    "    x = Geothermal_Power['Year'], y = Geothermal_Power['Final Energy Demand'],\n",
    "    hoverinfo='x+y',\n",
    "    mode='lines',\n",
    "    line=dict(width=0.5, color='purple'),\n",
    "    stackgroup='one'))\n",
    "\n",
    "fig.add_trace(go.Scatter(\n",
    "    x = Wind['Year'], y = Wind['Final Energy Demand'],\n",
    "    hoverinfo='x+y',\n",
    "    mode='lines',\n",
    "    line=dict(width=0.5, color='#22FFA7'),#rgb(56,166,165)\n",
    "    stackgroup='one'))\n",
    "\n",
    "fig.add_trace(go.Scatter(\n",
    "    x = Ocean_energy['Year'], y = Ocean_energy['Final Energy Demand'],\n",
    "    hoverinfo='x+y',\n",
    "    mode='lines',\n",
    "    line=dict(width=0.5, color='rgb(36,121,108)'),\n",
    "    stackgroup='one'))\n",
    "\n",
    "fig.add_trace(go.Scatter(\n",
    "    x = Hydro_Power['Year'], y = Hydro_Power['Final Energy Demand'],\n",
    "    hoverinfo='x+y',\n",
    "    mode='lines',\n",
    "    line=dict(width=0.5, color= '#3366CC'),\n",
    "    stackgroup='one'))\n",
    "\n",
    "fig.add_trace(go.Scatter(\n",
    "    x = Biomass_Power['Year'], y = Biomass_Power['Final Energy Demand'],\n",
    "    hoverinfo='x+y',\n",
    "    mode='lines',\n",
    "    line=dict(width=0.5, color= 'rgb(17,119,51)'),\n",
    "    stackgroup='one'))\n",
    "\n",
    "fig.add_trace(go.Scatter(\n",
    "    x = Hydrogen_Power['Year'], y = Hydrogen_Power['Final Energy Demand'],\n",
    "    name='',\n",
    "    customdata=percent2,\n",
    "    mode=\"lines+markers+text\",\n",
    "    hovertemplate = 'Electricity: %{customdata:}% RE',\n",
    "    marker=dict(\n",
    "            color='white',\n",
    "            size=7,\n",
    "        ),\n",
    "    line=dict(width=0.5, color= 'rgb(228,26,28)'),\n",
    "    stackgroup='one'))\n",
    "\n",
    "fig.add_trace(go.Scatter(\n",
    "    x = Nuclear['Year'], y = Nuclear['Final Energy Demand'],\n",
    "\n",
    "    hoverinfo='x+y',\n",
    "    mode='lines',\n",
    "    line=dict(width=0.5, color= 'rgb(242,242,242)'),\n",
    "    stackgroup='one'))\n",
    "\n",
    "fig.add_trace(go.Scatter(\n",
    "    x = Gas['Year'], y = Gas['Final Energy Demand'],\n",
    "    hoverinfo='x+y',\n",
    "    mode='lines',\n",
    "    line=dict(width=0.5, color= 'rgb(179,179,179)'),\n",
    "    stackgroup='one'))\n",
    "\n",
    "fig.add_trace(go.Scatter(\n",
    "    x = Coal['Year'], y = Coal['Final Energy Demand'],\n",
    "    hoverinfo='x+y',\n",
    "    mode='lines',\n",
    "    line=dict(width=0.5, color= 'rgb(102,102,102)'),\n",
    "    stackgroup='one'))\n",
    "\n",
    "fig.add_trace(go.Scatter(\n",
    "    x = Oil['Year'], y = Oil['Final Energy Demand'],\n",
    "    name='',\n",
    "    customdata=percent1,\n",
    "    mode=\"lines+markers+text\",\n",
    "    hovertemplate = 'Direct E: %{customdata:}% RE',\n",
    "    marker=dict(\n",
    "            color='white',\n",
    "            size=7,\n",
    "        ),\n",
    "\n",
    "    line=dict(width=0.5, color= 'black'),\n",
    "    stackgroup='one'))\n",
    "\n",
    "fig.add_trace(go.Scatter(\n",
    "    x = Solar_Heat['Year'], y = Solar_Heat['Final Energy Demand'],\n",
    "    hoverinfo='x+y',\n",
    "    mode='lines',\n",
    "    line=dict(width=0.5, color= 'rgb(252,141,98)'),\n",
    "    stackgroup='one'))\n",
    "\n",
    "fig.add_trace(go.Scatter(\n",
    "    x = Biomass['Year'], y = Biomass['Final Energy Demand'],\n",
    "    hoverinfo='x+y',\n",
    "    mode='lines',\n",
    "    line=dict(width=0.5, color= 'green'),\n",
    "    stackgroup='one'))\n",
    "\n",
    "fig.add_trace(go.Scatter(\n",
    "    x = Geothermal['Year'], y = Geothermal['Final Energy Demand'],\n",
    "    hoverinfo='x+y',\n",
    "    mode='lines',\n",
    "    line=dict(width=0.5, color= 'rgb(152,78,163)'),\n",
    "    stackgroup='one'))\n",
    "\n",
    "fig.add_trace(go.Scatter(\n",
    "    x = H_Process['Year'], y = H_Process['Final Energy Demand'],\n",
    "    hoverinfo='x+y',\n",
    "    mode='lines',\n",
    "    line=dict(width=0.5, color= '#FB0D0D'),\n",
    "    stackgroup='one'))\n",
    "\n",
    "fig.add_trace(go.Scatter(\n",
    "    x = RE_district_heat['Year'], y = RE_district_heat['Final Energy Demand'],\n",
    "    hoverinfo='x+y',\n",
    "    mode='lines',\n",
    "    line=dict(width=0.5, color= 'rgb(166,86,40)'),\n",
    "    stackgroup='one'))\n",
    "\n",
    "fig.add_trace(go.Scatter(\n",
    "    x = H_Fuel['Year'], y = H_Fuel['Final Energy Demand'],\n",
    "    hoverinfo='x+y',\n",
    "    mode='lines',\n",
    "    line=dict(width=0.5, color= 'rgb(254,136,177)'),\n",
    "    stackgroup='one'))\n",
    "\n",
    "fig.add_trace(go.Scatter(\n",
    "    x = Synfuels['Year'], y = Synfuels['Final Energy Demand'],\n",
    "    hoverinfo='x+y',\n",
    "    mode='lines',\n",
    "    line=dict(width=0.5, color= 'rgb(55,126,184)'),\n",
    "    stackgroup='one'))\n",
    "\n",
    "fig.add_trace(go.Scatter(\n",
    "    x = Biofuels['Year'], y = Biofuels['Final Energy Demand'],\n",
    "    hoverinfo='x+y',\n",
    "    mode='lines',\n",
    "    line=dict(width=0.5, color= 'rgb(56,166,165)'),\n",
    "    stackgroup='one'))\n",
    "\n",
    "annotation1 = []\n",
    "\n",
    "#Title\n",
    "annotation1.append(dict(xref='paper', yref='paper', x= -0.09, y=1,\n",
    "                        xanchor='left', yanchor='bottom',\n",
    "                        text='Global Expansion of Renewables to Achieve the 1.5°C limit',\n",
    "                        font=dict(family='Arial',size=25,color='rgb(10,10,10)'),\n",
    "                        showarrow=False))\n",
    "#Annotations\n",
    "annotation1.append(dict(x= 2015, y=280000,\n",
    "                        xanchor='left', yanchor='bottom',\n",
    "                        text='Oil',\n",
    "                        font=dict(family='Times',size=13,color='white'),\n",
    "                        showarrow=False))\n",
    "annotation1.append(dict(x= 2015, y=160000,\n",
    "                        xanchor='left', yanchor='bottom',\n",
    "                        text='Coal',\n",
    "                        font=dict(family='Times',size=13,color='white'),\n",
    "                        showarrow=False))\n",
    "annotation1.append(dict(x= 2015, y=90000,\n",
    "                        xanchor='left', yanchor='bottom',\n",
    "                        text='Gas',\n",
    "                        font=dict(family='Times',size=13,color='white'),\n",
    "                        showarrow=False))\n",
    "annotation1.append(dict(x= 2050, y=238000,\n",
    "                        xanchor='right', yanchor='bottom',\n",
    "                        text='RE Fuels',\n",
    "                        font=dict(family='Times',size=13,color='white'),\n",
    "                        showarrow=False))\n",
    "annotation1.append(dict(x= 2050, y=218000,\n",
    "                        xanchor='right', yanchor='bottom',\n",
    "                        text='RE District',\n",
    "                        font=dict(family='Times',size=13,color='white'),\n",
    "                        showarrow=False))\n",
    "annotation1.append(dict(x= 2050, y=207000,\n",
    "                        xanchor='right', yanchor='bottom',\n",
    "                        text='Hydrogen',\n",
    "                        font=dict(family='Times',size=13,color='white'),\n",
    "                        showarrow=False))\n",
    "annotation1.append(dict(x= 2050, y=193000,\n",
    "                        xanchor='right', yanchor='bottom',\n",
    "                        text='Geothermal',\n",
    "                        font=dict(family='Times',size=13,color='white'),\n",
    "                        showarrow=False))\n",
    "annotation1.append(dict(x= 2050, y=170000,\n",
    "                        xanchor='right', yanchor='bottom',\n",
    "                        text='Biomass',\n",
    "                        font=dict(family='Times',size=13,color='white'),\n",
    "                        showarrow=False))\n",
    "annotation1.append(dict(x= 2050, y=150000,\n",
    "                        xanchor='right', yanchor='bottom',\n",
    "                        text='Solar Heat',\n",
    "                        font=dict(family='Times',size=13,color='white'),\n",
    "                        showarrow=False))\n",
    "annotation1.append(dict(x=2015, y=16000,\n",
    "                        xanchor='left', yanchor='bottom',\n",
    "                        text='Nuclear',\n",
    "                        font=dict(family='Times',size=13,color='white'),\n",
    "                        showarrow=False))\n",
    "annotation1.append(dict(x= 2050, y=120000,\n",
    "                        xanchor='right', yanchor='bottom',\n",
    "                        text='Hydro',\n",
    "                        font=dict(family='Times',size=13,color='white'),\n",
    "                        showarrow=False))\n",
    "annotation1.append(dict(x= 2050, y=70000,\n",
    "                        xanchor='right', yanchor='bottom',\n",
    "                        text='Wind',\n",
    "                        font=dict(family='Times',size=13,color='white'),\n",
    "                        showarrow=False))\n",
    "annotation1.append(dict(x= 2050, y=45000,\n",
    "                        xanchor='right', yanchor='bottom',\n",
    "                        text='Solar CSP',\n",
    "                        font=dict(family='Times',size=13,color='white'),\n",
    "                        showarrow=False))\n",
    "annotation1.append(dict(x= 2050, y=1,\n",
    "                        xanchor='right', yanchor='bottom',\n",
    "                        text='Solar PV',\n",
    "                        font=dict(family='Times',size=13,color='white'),\n",
    "                        showarrow=False))\n",
    "\n",
    "fig.update_yaxes(tickformat = \",d\",\n",
    "                 tickvals=[50000,100000,150000,200000,250000,300000,350000],\n",
    "                 title_text='Final Energy Demand (PJ)',\n",
    "                 title_font=dict(family='Arial',size=18,color='rgb(10,10,10)'))\n",
    "\n",
    "fig.update_layout(\n",
    "    autosize=False,\n",
    "    width=700,\n",
    "    height=700,\n",
    "    xaxis = dict(showgrid = False),\n",
    "    yaxis = dict(showgrid = False),\n",
    "    plot_bgcolor = 'white',\n",
    "    showlegend = False,\n",
    "    annotations = annotation1)\n",
    "\n",
    "\n",
    "\n",
    "fig.show()"
   ]
  },
  {
   "cell_type": "markdown",
   "metadata": {},
   "source": []
  },
  {
   "cell_type": "code",
   "execution_count": null,
   "metadata": {},
   "outputs": [],
   "source": []
  }
 ],
 "metadata": {
  "kernelspec": {
   "display_name": "Python 3",
   "language": "python",
   "name": "python3"
  },
  "language_info": {
   "codemirror_mode": {
    "name": "ipython",
    "version": 3
   },
   "file_extension": ".py",
   "mimetype": "text/x-python",
   "name": "python",
   "nbconvert_exporter": "python",
   "pygments_lexer": "ipython3",
   "version": "3.8.3"
  },
  "varInspector": {
   "cols": {
    "lenName": 16,
    "lenType": 16,
    "lenVar": 40
   },
   "kernels_config": {
    "python": {
     "delete_cmd_postfix": "",
     "delete_cmd_prefix": "del ",
     "library": "var_list.py",
     "varRefreshCmd": "print(var_dic_list())"
    },
    "r": {
     "delete_cmd_postfix": ") ",
     "delete_cmd_prefix": "rm(",
     "library": "var_list.r",
     "varRefreshCmd": "cat(var_dic_list()) "
    }
   },
   "types_to_exclude": [
    "module",
    "function",
    "builtin_function_or_method",
    "instance",
    "_Feature"
   ],
   "window_display": false
  }
 },
 "nbformat": 4,
 "nbformat_minor": 4
}
