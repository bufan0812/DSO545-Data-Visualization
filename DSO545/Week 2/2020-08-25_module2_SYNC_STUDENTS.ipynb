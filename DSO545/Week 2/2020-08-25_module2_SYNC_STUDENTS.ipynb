{
 "cells": [
  {
   "cell_type": "markdown",
   "metadata": {},
   "source": [
    "### Food Servers' Tips Case Study\n",
    "\n",
    "Food servers' tips in resturant may be influenced by many factors, including the nature of the resturant, size of the party, and the table locations in the resturants. \n",
    "\n",
    "Resturant managers need to know which factors matter when they assign tables to food servers. For the sake of staff morale, they usually want to avoid either the substance or the appearance of unfair treatment of the servers, for whom tips (at least in resturants in the United States) are major component of the pay.\n",
    "\n",
    "In one resturant, a food server recorded the following data on all customers they served during an interval of two and a half months in early 1990. The resturant, located in a suburban shopping mall, was part of a national chain and served a varied menu. In observance of the local law, the resturant offered to seat in non-smoking section to those who request it. Each record includes a day and time, and taken together they show the server's work schedule. \n",
    "\n",
    "Variable | Description\n",
    ":--------|:------------------------------------------\n",
    "total_bill | total customer bill (meal + taxes) in US dollars\n",
    "tip | tip (gratuity) amount in US dollars\n",
    "gender | gender of the person paying for the meal (0 = male, 1 = female)\n",
    "smoker | smoker in the party? (0 = No, 1 = Yes)\n",
    "day | day of the week (3 = thurs, 4 = fri, 5 = sat, 6 = sun)\n",
    "time | time of the day ( 0 = day, 1 = night)\n",
    "size | size of the party on the table\n"
   ]
  },
  {
   "cell_type": "code",
   "execution_count": null,
   "metadata": {},
   "outputs": [],
   "source": [
    "# import the necessary packages\n",
    "\n",
    "import pandas as pd\n",
    "import seaborn as sns\n",
    "import matplotlib.pyplot as plt\n",
    "\n",
    "plt.style.use(\"fivethirtyeight\")"
   ]
  },
  {
   "cell_type": "code",
   "execution_count": null,
   "metadata": {},
   "outputs": [],
   "source": []
  }
 ],
 "metadata": {
  "kernelspec": {
   "display_name": "Python 3",
   "language": "python",
   "name": "python3"
  },
  "language_info": {
   "codemirror_mode": {
    "name": "ipython",
    "version": 3
   },
   "file_extension": ".py",
   "mimetype": "text/x-python",
   "name": "python",
   "nbconvert_exporter": "python",
   "pygments_lexer": "ipython3",
   "version": "3.8.3"
  }
 },
 "nbformat": 4,
 "nbformat_minor": 4
}
