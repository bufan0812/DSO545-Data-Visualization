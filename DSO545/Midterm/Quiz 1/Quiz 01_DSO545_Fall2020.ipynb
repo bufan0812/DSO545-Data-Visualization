{
 "cells": [
  {
   "cell_type": "markdown",
   "metadata": {
    "ExecuteTime": {
     "end_time": "2020-09-15T15:56:52.996246Z",
     "start_time": "2020-09-15T15:56:52.990874Z"
    }
   },
   "source": [
    "<p style=\"text-align: center;\"> <span style=\"color:firebrick\"> <font size=\"5\"> <b> USC Marshall School of Business </b> </font> </p> </span> \n",
    "\n",
    "<p style=\"text-align: center;\"> <b> <font font size=\"5\"> DSO 545- Quiz 1 </p> </b></font>\n",
    "\n",
    "<p style=\"text-align: center;\"> <b> Fall 2020 </b> </p>\n",
    "<p style=\"text-align: center;\"> <b> Duration: 75 mins </b> </p>"
   ]
  },
  {
   "cell_type": "markdown",
   "metadata": {},
   "source": [
    " <span style=\"color:blue\"> *“I hereby certify that I have adhered to the university policies regarding ethical behavior in preparing for and completing this quiz. I certify that I will not discuss or share the exam material and content with anyone in class or outside the class until Wednesday September 16, 2020”* </span>\n",
    "\n",
    "Please sign here (type your name) to indicate that you have adhered to university policies regarding ethical behavior in preparing for and completing this test."
   ]
  },
  {
   "cell_type": "markdown",
   "metadata": {
    "heading_collapsed": true
   },
   "source": [
    "## <span style=\"color:blue\">  Bufan Wang </span>"
   ]
  },
  {
   "cell_type": "markdown",
   "metadata": {},
   "source": [
    "## <span style=\"color:firebrick\">  Case Study: Data Analytics Jobs in the USA </span>"
   ]
  },
  {
   "cell_type": "markdown",
   "metadata": {},
   "source": [
    "Soon you will start getting ready to explore the job market for data analyst/data scientist positions (internship and full time). In this case study, we will assess the job market in the USA, and in particular, we are interested to learn which business sectors and companies are looking to hire data analysts in different US states. This should get you started with your internship search for Summer 2021."
   ]
  },
  {
   "cell_type": "markdown",
   "metadata": {},
   "source": [
    "## <span style=\"color:firebrick\"> Dataset </span>"
   ]
  },
  {
   "cell_type": "markdown",
   "metadata": {},
   "source": [
    "The data set (`DataAnalyst.csv`) is available for download from blackboard. It is scrapped and cleaned from GlassDoor using this [web scrapper](https://github.com/picklesueat/data_jobs_data/blob/master/glass_scraper.py). We will learn how to scrap data from the web in the second half of the semester.\n",
    "\n",
    "The dataset has a sample of 2,253 job listings. The following table describes some of the variables necessary to answer the questions in this quiz:\n",
    "\n",
    "\n",
    "    \n",
    "|**Variables**    |**Explanation**|\n",
    "|:-----------------|:--------------|\n",
    "|`Job Title`| listing's job title\n",
    "|`Job Description`| listing's job description\n",
    "|`Rating`| the company's rating on Glassdoor\n",
    "|`Company Name` | the listing company's name\n",
    "|`City` | city location of the company \n",
    "|`State`| state location of the company\n",
    "|`Size` | number of employees in the company \n",
    "|`Founded`| the year the company was founded\n",
    "|`Type of ownership`| is the company private, public, non-profit, etc.?\n",
    "|`Industry`| primary business activity \n",
    "|`Sector`| economic sector classification for the company\n",
    "|`Revenue`| company's income generated from business operations\n",
    "|`Competitors`| the company's list of competitors\n",
    "|`Min_Salary`| the minimum salary listing for the position\n",
    "|`Max_Salary`| the maximum salary listing for the position\n",
    "\n",
    "In this quiz, we assume that the sample of 2,253 job listings is a representative of the population of job listings in the USA."
   ]
  },
  {
   "cell_type": "markdown",
   "metadata": {},
   "source": [
    "## <span style=\"color:firebrick\"> Questions </span>"
   ]
  },
  {
   "cell_type": "markdown",
   "metadata": {},
   "source": [
    "#### Import python packages and read data\n",
    "\n",
    "Read the dataset `DataAnalyst.csv` into a variable called `data`, and import the necessary packages needed: `pandas`, `seaborn`, `matplotlib.pyplot`"
   ]
  },
  {
   "cell_type": "code",
   "execution_count": 3,
   "metadata": {
    "ExecuteTime": {
     "end_time": "2020-09-15T19:39:31.572889Z",
     "start_time": "2020-09-15T19:39:30.445892Z"
    }
   },
   "outputs": [],
   "source": [
    "# import necessary packages\n",
    "import pandas as pd\n",
    "import seaborn as sns\n",
    "import numpy as np\n",
    "import matplotlib.pyplot as plt\n",
    "plt.style.use('ggplot')"
   ]
  },
  {
   "cell_type": "code",
   "execution_count": 4,
   "metadata": {
    "ExecuteTime": {
     "end_time": "2020-09-15T19:39:31.675921Z",
     "start_time": "2020-09-15T19:39:31.591649Z"
    }
   },
   "outputs": [],
   "source": [
    "# read the data\n",
    "\n",
    "data = pd.read_csv('DataAnalyst.csv')"
   ]
  },
  {
   "cell_type": "markdown",
   "metadata": {},
   "source": [
    "#### Question 1\n",
    "\n",
    "**(a)** **[1 point]** Create a barplot that shows the **median** Glassdoor rating for companies of different sizes. \n",
    "\n",
    "**(b)** **[0.5 points]** Is there a relationship between the the size of the company and its Glassdoor rating?"
   ]
  },
  {
   "cell_type": "code",
   "execution_count": 5,
   "metadata": {
    "ExecuteTime": {
     "end_time": "2020-09-15T19:39:35.708101Z",
     "start_time": "2020-09-15T19:39:35.493605Z"
    }
   },
   "outputs": [
    {
     "data": {
      "text/plain": [
       "<matplotlib.axes._subplots.AxesSubplot at 0x115fd8430>"
      ]
     },
     "execution_count": 5,
     "metadata": {},
     "output_type": "execute_result"
    },
    {
     "data": {
      "image/png": "[encoded data removed]",
      "text/plain": [
       "<Figure size 432x288 with 1 Axes>"
      ]
     },
     "metadata": {},
     "output_type": "display_data"
    }
   ],
   "source": [
    "sns.barplot(data = data, x = 'Size',y = 'Rating',ci = None, estimator = np.median)\n"
   ]
  },
  {
   "cell_type": "code",
   "execution_count": 6,
   "metadata": {
    "ExecuteTime": {
     "end_time": "2020-09-15T19:39:37.861301Z",
     "start_time": "2020-09-15T19:39:37.858923Z"
    }
   },
   "outputs": [],
   "source": [
    "# Question b\n",
    "# There is no relationship between ratings and company size"
   ]
  },
  {
   "cell_type": "markdown",
   "metadata": {},
   "source": [
    "#### Question 2\n",
    "\n",
    "**[1 point]** What are the top 4 sectors with the highest number of job listings?"
   ]
  },
  {
   "cell_type": "code",
   "execution_count": 7,
   "metadata": {
    "ExecuteTime": {
     "end_time": "2020-09-15T19:39:41.793323Z",
     "start_time": "2020-09-15T19:39:41.786202Z"
    }
   },
   "outputs": [
    {
     "data": {
      "text/plain": [
       "Information Technology                570\n",
       "Business Services                     524\n",
       "Finance                               169\n",
       "Health Care                           151\n",
       "Education                              52\n",
       "Insurance                              51\n",
       "Accounting & Legal                     43\n",
       "Media                                  42\n",
       "Manufacturing                          40\n",
       "Retail                                 38\n",
       "Government                             36\n",
       "Biotech & Pharmaceuticals              33\n",
       "Non-Profit                             26\n",
       "Aerospace & Defense                    22\n",
       "Transportation & Logistics             20\n",
       "Construction, Repair & Maintenance     16\n",
       "Consumer Services                      14\n",
       "Oil, Gas, Energy & Utilities           13\n",
       "Real Estate                            12\n",
       "Telecommunications                     11\n",
       "Restaurants, Bars & Food Services       8\n",
       "Arts, Entertainment & Recreation        7\n",
       "Travel & Tourism                        1\n",
       "Mining & Metals                         1\n",
       "Name: Sector, dtype: int64"
      ]
     },
     "execution_count": 7,
     "metadata": {},
     "output_type": "execute_result"
    }
   ],
   "source": [
    "# Question1\n",
    "data['Sector'].value_counts()\n",
    "# The top 4 sectors are Information Tecnhology, Business Services, Finance, and Health Care."
   ]
  },
  {
   "cell_type": "markdown",
   "metadata": {},
   "source": [
    "#### Question 3\n",
    "\n",
    "**(a)** **[1 point]** Create a heatmap that shows the number of listings in each sector (all sectors) among the different states (all states). *Use color mapping `YlGn` to show yellow to green shades*.\n",
    "\n",
    "**(b)** **[0.5 points]** What does the heatmap tell you about the job market for data analysts?"
   ]
  },
  {
   "cell_type": "code",
   "execution_count": 8,
   "metadata": {
    "ExecuteTime": {
     "end_time": "2020-09-15T19:39:47.631392Z",
     "start_time": "2020-09-15T19:39:46.010966Z"
    }
   },
   "outputs": [
    {
     "data": {
      "text/plain": [
       "<matplotlib.axes._subplots.AxesSubplot at 0x1026b1fd0>"
      ]
     },
     "execution_count": 8,
     "metadata": {},
     "output_type": "execute_result"
    },
    {
     "data": {
      "image/png": "[encoded data removed]",
      "text/plain": [
       "<Figure size 1440x1440 with 2 Axes>"
      ]
     },
     "metadata": {},
     "output_type": "display_data"
    }
   ],
   "source": [
    "# keep this line of code to enlarge the heatmap\n",
    "# Question a\n",
    "plt.figure(figsize=(20,20))\n",
    "a = pd.crosstab(data['Sector'],data['State'])\n",
    "sns.heatmap(a,annot = True, cmap = 'YlGn')\n",
    "\n",
    "# Question b\n",
    "# Overall, CA, NY, and TX has more oppturnities for data analysts, and these opportunities are concentreted in\n",
    "# Business Services and Information Technology.\n"
   ]
  },
  {
   "cell_type": "markdown",
   "metadata": {},
   "source": [
    "#### Question 4\n",
    "\n",
    "**[1 point]** Suppose that you want to focus your job search and analysis on the top 4 sectors. Create a subset of the given dataset (`data`) to include only these sectors (Information Technology,  Business Services, Finance,  Health Care).\n",
    "\n",
    "*Name the subset dataframe `mydata`.*"
   ]
  },
  {
   "cell_type": "code",
   "execution_count": 26,
   "metadata": {
    "ExecuteTime": {
     "end_time": "2020-09-15T19:58:13.570822Z",
     "start_time": "2020-09-15T19:58:13.531347Z"
    }
   },
   "outputs": [
    {
     "data": {
      "text/html": [
       "<div>\n",
       "<style scoped>\n",
       "    .dataframe tbody tr th:only-of-type {\n",
       "        vertical-align: middle;\n",
       "    }\n",
       "\n",
       "    .dataframe tbody tr th {\n",
       "        vertical-align: top;\n",
       "    }\n",
       "\n",
       "    .dataframe thead th {\n",
       "        text-align: right;\n",
       "    }\n",
       "</style>\n",
       "<table border=\"1\" class=\"dataframe\">\n",
       "  <thead>\n",
       "    <tr style=\"text-align: right;\">\n",
       "      <th></th>\n",
       "      <th>index</th>\n",
       "      <th>Job Title</th>\n",
       "      <th>Job Description</th>\n",
       "      <th>Rating</th>\n",
       "      <th>Company Name</th>\n",
       "      <th>City</th>\n",
       "      <th>State</th>\n",
       "      <th>Size</th>\n",
       "      <th>Founded</th>\n",
       "      <th>Type of ownership</th>\n",
       "      <th>Industry</th>\n",
       "      <th>Sector</th>\n",
       "      <th>Revenue</th>\n",
       "      <th>Competitors</th>\n",
       "      <th>Min_Salary</th>\n",
       "      <th>Max_Salary</th>\n",
       "    </tr>\n",
       "  </thead>\n",
       "  <tbody>\n",
       "    <tr>\n",
       "      <th>0</th>\n",
       "      <td>1</td>\n",
       "      <td>Quality Data Analyst</td>\n",
       "      <td>Overview\\n\\nProvides analytical and technical ...</td>\n",
       "      <td>3.8</td>\n",
       "      <td>Visiting Nurse Service of New York</td>\n",
       "      <td>New York</td>\n",
       "      <td>NY</td>\n",
       "      <td>10000+ employees</td>\n",
       "      <td>1893.0</td>\n",
       "      <td>Nonprofit Organization</td>\n",
       "      <td>Health Care Services &amp; Hospitals</td>\n",
       "      <td>Health Care</td>\n",
       "      <td>$2 to $5 billion (USD)</td>\n",
       "      <td>NaN</td>\n",
       "      <td>37</td>\n",
       "      <td>66</td>\n",
       "    </tr>\n",
       "    <tr>\n",
       "      <th>1</th>\n",
       "      <td>2</td>\n",
       "      <td>Senior Data Analyst, Insights &amp; Analytics Team...</td>\n",
       "      <td>We’re looking for a Senior Data Analyst who ha...</td>\n",
       "      <td>3.4</td>\n",
       "      <td>Squarespace</td>\n",
       "      <td>New York</td>\n",
       "      <td>NY</td>\n",
       "      <td>1001 to 5000 employees</td>\n",
       "      <td>2003.0</td>\n",
       "      <td>Company - Private</td>\n",
       "      <td>Internet</td>\n",
       "      <td>Information Technology</td>\n",
       "      <td>Unknown / Non-Applicable</td>\n",
       "      <td>GoDaddy</td>\n",
       "      <td>37</td>\n",
       "      <td>66</td>\n",
       "    </tr>\n",
       "    <tr>\n",
       "      <th>2</th>\n",
       "      <td>3</td>\n",
       "      <td>Data Analyst</td>\n",
       "      <td>Requisition NumberRR-0001939\\nRemote:Yes\\nWe c...</td>\n",
       "      <td>4.1</td>\n",
       "      <td>Celerity</td>\n",
       "      <td>New York</td>\n",
       "      <td>NY</td>\n",
       "      <td>201 to 500 employees</td>\n",
       "      <td>2002.0</td>\n",
       "      <td>Subsidiary or Business Segment</td>\n",
       "      <td>IT Services</td>\n",
       "      <td>Information Technology</td>\n",
       "      <td>$50 to $100 million (USD)</td>\n",
       "      <td>NaN</td>\n",
       "      <td>37</td>\n",
       "      <td>66</td>\n",
       "    </tr>\n",
       "    <tr>\n",
       "      <th>3</th>\n",
       "      <td>5</td>\n",
       "      <td>Data Analyst</td>\n",
       "      <td>About Cubist\\nCubist Systematic Strategies is ...</td>\n",
       "      <td>3.9</td>\n",
       "      <td>Point72</td>\n",
       "      <td>New York</td>\n",
       "      <td>NY</td>\n",
       "      <td>1001 to 5000 employees</td>\n",
       "      <td>2014.0</td>\n",
       "      <td>Company - Private</td>\n",
       "      <td>Investment Banking &amp; Asset Management</td>\n",
       "      <td>Finance</td>\n",
       "      <td>Unknown / Non-Applicable</td>\n",
       "      <td>NaN</td>\n",
       "      <td>37</td>\n",
       "      <td>66</td>\n",
       "    </tr>\n",
       "    <tr>\n",
       "      <th>4</th>\n",
       "      <td>6</td>\n",
       "      <td>Business/Data Analyst (FP&amp;A)</td>\n",
       "      <td>Two Sigma is a different kind of investment ma...</td>\n",
       "      <td>4.4</td>\n",
       "      <td>Two Sigma</td>\n",
       "      <td>New York</td>\n",
       "      <td>NY</td>\n",
       "      <td>1001 to 5000 employees</td>\n",
       "      <td>2001.0</td>\n",
       "      <td>Company - Private</td>\n",
       "      <td>Investment Banking &amp; Asset Management</td>\n",
       "      <td>Finance</td>\n",
       "      <td>Unknown / Non-Applicable</td>\n",
       "      <td>NaN</td>\n",
       "      <td>37</td>\n",
       "      <td>66</td>\n",
       "    </tr>\n",
       "    <tr>\n",
       "      <th>...</th>\n",
       "      <td>...</td>\n",
       "      <td>...</td>\n",
       "      <td>...</td>\n",
       "      <td>...</td>\n",
       "      <td>...</td>\n",
       "      <td>...</td>\n",
       "      <td>...</td>\n",
       "      <td>...</td>\n",
       "      <td>...</td>\n",
       "      <td>...</td>\n",
       "      <td>...</td>\n",
       "      <td>...</td>\n",
       "      <td>...</td>\n",
       "      <td>...</td>\n",
       "      <td>...</td>\n",
       "      <td>...</td>\n",
       "    </tr>\n",
       "    <tr>\n",
       "      <th>1409</th>\n",
       "      <td>2247</td>\n",
       "      <td>Marketing/Communications - Data Analyst-Marketing</td>\n",
       "      <td>Job Description\\nJob Title: Marketing/Communic...</td>\n",
       "      <td>4.1</td>\n",
       "      <td>APN Software Services Inc.</td>\n",
       "      <td>Broomfield</td>\n",
       "      <td>CO</td>\n",
       "      <td>51 to 200 employees</td>\n",
       "      <td>NaN</td>\n",
       "      <td>Company - Private</td>\n",
       "      <td>Computer Hardware &amp; Software</td>\n",
       "      <td>Information Technology</td>\n",
       "      <td>$25 to $50 million (USD)</td>\n",
       "      <td>NaN</td>\n",
       "      <td>78</td>\n",
       "      <td>104</td>\n",
       "    </tr>\n",
       "    <tr>\n",
       "      <th>1410</th>\n",
       "      <td>2248</td>\n",
       "      <td>RQS - IHHA - 201900004460 -1q Data Security An...</td>\n",
       "      <td>Maintains systems to protect data from unautho...</td>\n",
       "      <td>2.5</td>\n",
       "      <td>Avacend, Inc.</td>\n",
       "      <td>Denver</td>\n",
       "      <td>CO</td>\n",
       "      <td>51 to 200 employees</td>\n",
       "      <td>NaN</td>\n",
       "      <td>Company - Private</td>\n",
       "      <td>Staffing &amp; Outsourcing</td>\n",
       "      <td>Business Services</td>\n",
       "      <td>Unknown / Non-Applicable</td>\n",
       "      <td>NaN</td>\n",
       "      <td>78</td>\n",
       "      <td>104</td>\n",
       "    </tr>\n",
       "    <tr>\n",
       "      <th>1411</th>\n",
       "      <td>2249</td>\n",
       "      <td>Senior Data Analyst (Corporate Audit)</td>\n",
       "      <td>Position:\\nSenior Data Analyst (Corporate Audi...</td>\n",
       "      <td>2.9</td>\n",
       "      <td>Arrow Electronics</td>\n",
       "      <td>Centennial</td>\n",
       "      <td>CO</td>\n",
       "      <td>10000+ employees</td>\n",
       "      <td>1935.0</td>\n",
       "      <td>Company - Public</td>\n",
       "      <td>Wholesale</td>\n",
       "      <td>Business Services</td>\n",
       "      <td>$10+ billion (USD)</td>\n",
       "      <td>Avnet, Ingram Micro, Tech Data</td>\n",
       "      <td>78</td>\n",
       "      <td>104</td>\n",
       "    </tr>\n",
       "    <tr>\n",
       "      <th>1412</th>\n",
       "      <td>2251</td>\n",
       "      <td>Data Analyst 3, Customer Experience</td>\n",
       "      <td>Summary\\n\\nResponsible for working cross-funct...</td>\n",
       "      <td>3.1</td>\n",
       "      <td>Contingent Network Services</td>\n",
       "      <td>Centennial</td>\n",
       "      <td>CO</td>\n",
       "      <td>201 to 500 employees</td>\n",
       "      <td>1984.0</td>\n",
       "      <td>Company - Private</td>\n",
       "      <td>Enterprise Software &amp; Network Solutions</td>\n",
       "      <td>Information Technology</td>\n",
       "      <td>$25 to $50 million (USD)</td>\n",
       "      <td>NaN</td>\n",
       "      <td>78</td>\n",
       "      <td>104</td>\n",
       "    </tr>\n",
       "    <tr>\n",
       "      <th>1413</th>\n",
       "      <td>2252</td>\n",
       "      <td>Senior Quality Data Analyst</td>\n",
       "      <td>You.\\n\\nYou bring your body, mind, heart and s...</td>\n",
       "      <td>3.4</td>\n",
       "      <td>SCL Health</td>\n",
       "      <td>Broomfield</td>\n",
       "      <td>CO</td>\n",
       "      <td>10000+ employees</td>\n",
       "      <td>1864.0</td>\n",
       "      <td>Nonprofit Organization</td>\n",
       "      <td>Health Care Services &amp; Hospitals</td>\n",
       "      <td>Health Care</td>\n",
       "      <td>$2 to $5 billion (USD)</td>\n",
       "      <td>Centura Health, HealthONE, Denver Health and H...</td>\n",
       "      <td>78</td>\n",
       "      <td>104</td>\n",
       "    </tr>\n",
       "  </tbody>\n",
       "</table>\n",
       "<p>1414 rows × 16 columns</p>\n",
       "</div>"
      ],
      "text/plain": [
       "      index                                          Job Title  \\\n",
       "0         1                               Quality Data Analyst   \n",
       "1         2  Senior Data Analyst, Insights & Analytics Team...   \n",
       "2         3                                       Data Analyst   \n",
       "3         5                                       Data Analyst   \n",
       "4         6                       Business/Data Analyst (FP&A)   \n",
       "...     ...                                                ...   \n",
       "1409   2247  Marketing/Communications - Data Analyst-Marketing   \n",
       "1410   2248  RQS - IHHA - 201900004460 -1q Data Security An...   \n",
       "1411   2249              Senior Data Analyst (Corporate Audit)   \n",
       "1412   2251                Data Analyst 3, Customer Experience   \n",
       "1413   2252                        Senior Quality Data Analyst   \n",
       "\n",
       "                                        Job Description  Rating  \\\n",
       "0     Overview\\n\\nProvides analytical and technical ...     3.8   \n",
       "1     We’re looking for a Senior Data Analyst who ha...     3.4   \n",
       "2     Requisition NumberRR-0001939\\nRemote:Yes\\nWe c...     4.1   \n",
       "3     About Cubist\\nCubist Systematic Strategies is ...     3.9   \n",
       "4     Two Sigma is a different kind of investment ma...     4.4   \n",
       "...                                                 ...     ...   \n",
       "1409  Job Description\\nJob Title: Marketing/Communic...     4.1   \n",
       "1410  Maintains systems to protect data from unautho...     2.5   \n",
       "1411  Position:\\nSenior Data Analyst (Corporate Audi...     2.9   \n",
       "1412  Summary\\n\\nResponsible for working cross-funct...     3.1   \n",
       "1413  You.\\n\\nYou bring your body, mind, heart and s...     3.4   \n",
       "\n",
       "                            Company Name        City State  \\\n",
       "0     Visiting Nurse Service of New York    New York    NY   \n",
       "1                            Squarespace    New York    NY   \n",
       "2                               Celerity    New York    NY   \n",
       "3                                Point72    New York    NY   \n",
       "4                              Two Sigma    New York    NY   \n",
       "...                                  ...         ...   ...   \n",
       "1409          APN Software Services Inc.  Broomfield    CO   \n",
       "1410                       Avacend, Inc.      Denver    CO   \n",
       "1411                   Arrow Electronics  Centennial    CO   \n",
       "1412         Contingent Network Services  Centennial    CO   \n",
       "1413                          SCL Health  Broomfield    CO   \n",
       "\n",
       "                        Size  Founded               Type of ownership  \\\n",
       "0           10000+ employees   1893.0          Nonprofit Organization   \n",
       "1     1001 to 5000 employees   2003.0               Company - Private   \n",
       "2       201 to 500 employees   2002.0  Subsidiary or Business Segment   \n",
       "3     1001 to 5000 employees   2014.0               Company - Private   \n",
       "4     1001 to 5000 employees   2001.0               Company - Private   \n",
       "...                      ...      ...                             ...   \n",
       "1409     51 to 200 employees      NaN               Company - Private   \n",
       "1410     51 to 200 employees      NaN               Company - Private   \n",
       "1411        10000+ employees   1935.0                Company - Public   \n",
       "1412    201 to 500 employees   1984.0               Company - Private   \n",
       "1413        10000+ employees   1864.0          Nonprofit Organization   \n",
       "\n",
       "                                     Industry                  Sector  \\\n",
       "0            Health Care Services & Hospitals             Health Care   \n",
       "1                                    Internet  Information Technology   \n",
       "2                                 IT Services  Information Technology   \n",
       "3       Investment Banking & Asset Management                 Finance   \n",
       "4       Investment Banking & Asset Management                 Finance   \n",
       "...                                       ...                     ...   \n",
       "1409             Computer Hardware & Software  Information Technology   \n",
       "1410                   Staffing & Outsourcing       Business Services   \n",
       "1411                                Wholesale       Business Services   \n",
       "1412  Enterprise Software & Network Solutions  Information Technology   \n",
       "1413         Health Care Services & Hospitals             Health Care   \n",
       "\n",
       "                        Revenue  \\\n",
       "0        $2 to $5 billion (USD)   \n",
       "1      Unknown / Non-Applicable   \n",
       "2     $50 to $100 million (USD)   \n",
       "3      Unknown / Non-Applicable   \n",
       "4      Unknown / Non-Applicable   \n",
       "...                         ...   \n",
       "1409   $25 to $50 million (USD)   \n",
       "1410   Unknown / Non-Applicable   \n",
       "1411         $10+ billion (USD)   \n",
       "1412   $25 to $50 million (USD)   \n",
       "1413     $2 to $5 billion (USD)   \n",
       "\n",
       "                                            Competitors  Min_Salary  \\\n",
       "0                                                   NaN          37   \n",
       "1                                               GoDaddy          37   \n",
       "2                                                   NaN          37   \n",
       "3                                                   NaN          37   \n",
       "4                                                   NaN          37   \n",
       "...                                                 ...         ...   \n",
       "1409                                                NaN          78   \n",
       "1410                                                NaN          78   \n",
       "1411                     Avnet, Ingram Micro, Tech Data          78   \n",
       "1412                                                NaN          78   \n",
       "1413  Centura Health, HealthONE, Denver Health and H...          78   \n",
       "\n",
       "      Max_Salary  \n",
       "0             66  \n",
       "1             66  \n",
       "2             66  \n",
       "3             66  \n",
       "4             66  \n",
       "...          ...  \n",
       "1409         104  \n",
       "1410         104  \n",
       "1411         104  \n",
       "1412         104  \n",
       "1413         104  \n",
       "\n",
       "[1414 rows x 16 columns]"
      ]
     },
     "execution_count": 26,
     "metadata": {},
     "output_type": "execute_result"
    }
   ],
   "source": [
    "mydata = data.loc[(data['Sector'] == 'Information Technology') | (data['Sector'] == 'Business Services')\n",
    "                  | (data['Sector'] == 'Finance') | (data['Sector'] == 'Health Care')].reset_index()\n",
    "mydata"
   ]
  },
  {
   "cell_type": "markdown",
   "metadata": {},
   "source": [
    "#### Question 5\n",
    "\n",
    "**[1 point]** You are given the range of salary for each job listing (minimum and maximum salary). Add a new variable to `mydata` to estimate the salary of the for each of the listing in the dataset. The estimate salary is the average of the given minimum and maximum salary.\n",
    "\n",
    "*Name the the new column `Est_Salary`.*"
   ]
  },
  {
   "cell_type": "code",
   "execution_count": 28,
   "metadata": {
    "ExecuteTime": {
     "end_time": "2020-09-15T19:58:23.753727Z",
     "start_time": "2020-09-15T19:58:23.713796Z"
    }
   },
   "outputs": [
    {
     "data": {
      "text/html": [
       "<div>\n",
       "<style scoped>\n",
       "    .dataframe tbody tr th:only-of-type {\n",
       "        vertical-align: middle;\n",
       "    }\n",
       "\n",
       "    .dataframe tbody tr th {\n",
       "        vertical-align: top;\n",
       "    }\n",
       "\n",
       "    .dataframe thead th {\n",
       "        text-align: right;\n",
       "    }\n",
       "</style>\n",
       "<table border=\"1\" class=\"dataframe\">\n",
       "  <thead>\n",
       "    <tr style=\"text-align: right;\">\n",
       "      <th></th>\n",
       "      <th>index</th>\n",
       "      <th>Job Title</th>\n",
       "      <th>Job Description</th>\n",
       "      <th>Rating</th>\n",
       "      <th>Company Name</th>\n",
       "      <th>City</th>\n",
       "      <th>State</th>\n",
       "      <th>Size</th>\n",
       "      <th>Founded</th>\n",
       "      <th>Type of ownership</th>\n",
       "      <th>Industry</th>\n",
       "      <th>Sector</th>\n",
       "      <th>Revenue</th>\n",
       "      <th>Competitors</th>\n",
       "      <th>Min_Salary</th>\n",
       "      <th>Max_Salary</th>\n",
       "      <th>Est_Salary</th>\n",
       "    </tr>\n",
       "  </thead>\n",
       "  <tbody>\n",
       "    <tr>\n",
       "      <th>0</th>\n",
       "      <td>1</td>\n",
       "      <td>Quality Data Analyst</td>\n",
       "      <td>Overview\\n\\nProvides analytical and technical ...</td>\n",
       "      <td>3.8</td>\n",
       "      <td>Visiting Nurse Service of New York</td>\n",
       "      <td>New York</td>\n",
       "      <td>NY</td>\n",
       "      <td>10000+ employees</td>\n",
       "      <td>1893.0</td>\n",
       "      <td>Nonprofit Organization</td>\n",
       "      <td>Health Care Services &amp; Hospitals</td>\n",
       "      <td>Health Care</td>\n",
       "      <td>$2 to $5 billion (USD)</td>\n",
       "      <td>NaN</td>\n",
       "      <td>37</td>\n",
       "      <td>66</td>\n",
       "      <td>51.5</td>\n",
       "    </tr>\n",
       "    <tr>\n",
       "      <th>1</th>\n",
       "      <td>2</td>\n",
       "      <td>Senior Data Analyst, Insights &amp; Analytics Team...</td>\n",
       "      <td>We’re looking for a Senior Data Analyst who ha...</td>\n",
       "      <td>3.4</td>\n",
       "      <td>Squarespace</td>\n",
       "      <td>New York</td>\n",
       "      <td>NY</td>\n",
       "      <td>1001 to 5000 employees</td>\n",
       "      <td>2003.0</td>\n",
       "      <td>Company - Private</td>\n",
       "      <td>Internet</td>\n",
       "      <td>Information Technology</td>\n",
       "      <td>Unknown / Non-Applicable</td>\n",
       "      <td>GoDaddy</td>\n",
       "      <td>37</td>\n",
       "      <td>66</td>\n",
       "      <td>51.5</td>\n",
       "    </tr>\n",
       "    <tr>\n",
       "      <th>2</th>\n",
       "      <td>3</td>\n",
       "      <td>Data Analyst</td>\n",
       "      <td>Requisition NumberRR-0001939\\nRemote:Yes\\nWe c...</td>\n",
       "      <td>4.1</td>\n",
       "      <td>Celerity</td>\n",
       "      <td>New York</td>\n",
       "      <td>NY</td>\n",
       "      <td>201 to 500 employees</td>\n",
       "      <td>2002.0</td>\n",
       "      <td>Subsidiary or Business Segment</td>\n",
       "      <td>IT Services</td>\n",
       "      <td>Information Technology</td>\n",
       "      <td>$50 to $100 million (USD)</td>\n",
       "      <td>NaN</td>\n",
       "      <td>37</td>\n",
       "      <td>66</td>\n",
       "      <td>51.5</td>\n",
       "    </tr>\n",
       "    <tr>\n",
       "      <th>3</th>\n",
       "      <td>5</td>\n",
       "      <td>Data Analyst</td>\n",
       "      <td>About Cubist\\nCubist Systematic Strategies is ...</td>\n",
       "      <td>3.9</td>\n",
       "      <td>Point72</td>\n",
       "      <td>New York</td>\n",
       "      <td>NY</td>\n",
       "      <td>1001 to 5000 employees</td>\n",
       "      <td>2014.0</td>\n",
       "      <td>Company - Private</td>\n",
       "      <td>Investment Banking &amp; Asset Management</td>\n",
       "      <td>Finance</td>\n",
       "      <td>Unknown / Non-Applicable</td>\n",
       "      <td>NaN</td>\n",
       "      <td>37</td>\n",
       "      <td>66</td>\n",
       "      <td>51.5</td>\n",
       "    </tr>\n",
       "    <tr>\n",
       "      <th>4</th>\n",
       "      <td>6</td>\n",
       "      <td>Business/Data Analyst (FP&amp;A)</td>\n",
       "      <td>Two Sigma is a different kind of investment ma...</td>\n",
       "      <td>4.4</td>\n",
       "      <td>Two Sigma</td>\n",
       "      <td>New York</td>\n",
       "      <td>NY</td>\n",
       "      <td>1001 to 5000 employees</td>\n",
       "      <td>2001.0</td>\n",
       "      <td>Company - Private</td>\n",
       "      <td>Investment Banking &amp; Asset Management</td>\n",
       "      <td>Finance</td>\n",
       "      <td>Unknown / Non-Applicable</td>\n",
       "      <td>NaN</td>\n",
       "      <td>37</td>\n",
       "      <td>66</td>\n",
       "      <td>51.5</td>\n",
       "    </tr>\n",
       "    <tr>\n",
       "      <th>...</th>\n",
       "      <td>...</td>\n",
       "      <td>...</td>\n",
       "      <td>...</td>\n",
       "      <td>...</td>\n",
       "      <td>...</td>\n",
       "      <td>...</td>\n",
       "      <td>...</td>\n",
       "      <td>...</td>\n",
       "      <td>...</td>\n",
       "      <td>...</td>\n",
       "      <td>...</td>\n",
       "      <td>...</td>\n",
       "      <td>...</td>\n",
       "      <td>...</td>\n",
       "      <td>...</td>\n",
       "      <td>...</td>\n",
       "      <td>...</td>\n",
       "    </tr>\n",
       "    <tr>\n",
       "      <th>1409</th>\n",
       "      <td>2247</td>\n",
       "      <td>Marketing/Communications - Data Analyst-Marketing</td>\n",
       "      <td>Job Description\\nJob Title: Marketing/Communic...</td>\n",
       "      <td>4.1</td>\n",
       "      <td>APN Software Services Inc.</td>\n",
       "      <td>Broomfield</td>\n",
       "      <td>CO</td>\n",
       "      <td>51 to 200 employees</td>\n",
       "      <td>NaN</td>\n",
       "      <td>Company - Private</td>\n",
       "      <td>Computer Hardware &amp; Software</td>\n",
       "      <td>Information Technology</td>\n",
       "      <td>$25 to $50 million (USD)</td>\n",
       "      <td>NaN</td>\n",
       "      <td>78</td>\n",
       "      <td>104</td>\n",
       "      <td>63.0</td>\n",
       "    </tr>\n",
       "    <tr>\n",
       "      <th>1410</th>\n",
       "      <td>2248</td>\n",
       "      <td>RQS - IHHA - 201900004460 -1q Data Security An...</td>\n",
       "      <td>Maintains systems to protect data from unautho...</td>\n",
       "      <td>2.5</td>\n",
       "      <td>Avacend, Inc.</td>\n",
       "      <td>Denver</td>\n",
       "      <td>CO</td>\n",
       "      <td>51 to 200 employees</td>\n",
       "      <td>NaN</td>\n",
       "      <td>Company - Private</td>\n",
       "      <td>Staffing &amp; Outsourcing</td>\n",
       "      <td>Business Services</td>\n",
       "      <td>Unknown / Non-Applicable</td>\n",
       "      <td>NaN</td>\n",
       "      <td>78</td>\n",
       "      <td>104</td>\n",
       "      <td>63.0</td>\n",
       "    </tr>\n",
       "    <tr>\n",
       "      <th>1411</th>\n",
       "      <td>2249</td>\n",
       "      <td>Senior Data Analyst (Corporate Audit)</td>\n",
       "      <td>Position:\\nSenior Data Analyst (Corporate Audi...</td>\n",
       "      <td>2.9</td>\n",
       "      <td>Arrow Electronics</td>\n",
       "      <td>Centennial</td>\n",
       "      <td>CO</td>\n",
       "      <td>10000+ employees</td>\n",
       "      <td>1935.0</td>\n",
       "      <td>Company - Public</td>\n",
       "      <td>Wholesale</td>\n",
       "      <td>Business Services</td>\n",
       "      <td>$10+ billion (USD)</td>\n",
       "      <td>Avnet, Ingram Micro, Tech Data</td>\n",
       "      <td>78</td>\n",
       "      <td>104</td>\n",
       "      <td>63.0</td>\n",
       "    </tr>\n",
       "    <tr>\n",
       "      <th>1412</th>\n",
       "      <td>2251</td>\n",
       "      <td>Data Analyst 3, Customer Experience</td>\n",
       "      <td>Summary\\n\\nResponsible for working cross-funct...</td>\n",
       "      <td>3.1</td>\n",
       "      <td>Contingent Network Services</td>\n",
       "      <td>Centennial</td>\n",
       "      <td>CO</td>\n",
       "      <td>201 to 500 employees</td>\n",
       "      <td>1984.0</td>\n",
       "      <td>Company - Private</td>\n",
       "      <td>Enterprise Software &amp; Network Solutions</td>\n",
       "      <td>Information Technology</td>\n",
       "      <td>$25 to $50 million (USD)</td>\n",
       "      <td>NaN</td>\n",
       "      <td>78</td>\n",
       "      <td>104</td>\n",
       "      <td>63.0</td>\n",
       "    </tr>\n",
       "    <tr>\n",
       "      <th>1413</th>\n",
       "      <td>2252</td>\n",
       "      <td>Senior Quality Data Analyst</td>\n",
       "      <td>You.\\n\\nYou bring your body, mind, heart and s...</td>\n",
       "      <td>3.4</td>\n",
       "      <td>SCL Health</td>\n",
       "      <td>Broomfield</td>\n",
       "      <td>CO</td>\n",
       "      <td>10000+ employees</td>\n",
       "      <td>1864.0</td>\n",
       "      <td>Nonprofit Organization</td>\n",
       "      <td>Health Care Services &amp; Hospitals</td>\n",
       "      <td>Health Care</td>\n",
       "      <td>$2 to $5 billion (USD)</td>\n",
       "      <td>Centura Health, HealthONE, Denver Health and H...</td>\n",
       "      <td>78</td>\n",
       "      <td>104</td>\n",
       "      <td>63.0</td>\n",
       "    </tr>\n",
       "  </tbody>\n",
       "</table>\n",
       "<p>1414 rows × 17 columns</p>\n",
       "</div>"
      ],
      "text/plain": [
       "      index                                          Job Title  \\\n",
       "0         1                               Quality Data Analyst   \n",
       "1         2  Senior Data Analyst, Insights & Analytics Team...   \n",
       "2         3                                       Data Analyst   \n",
       "3         5                                       Data Analyst   \n",
       "4         6                       Business/Data Analyst (FP&A)   \n",
       "...     ...                                                ...   \n",
       "1409   2247  Marketing/Communications - Data Analyst-Marketing   \n",
       "1410   2248  RQS - IHHA - 201900004460 -1q Data Security An...   \n",
       "1411   2249              Senior Data Analyst (Corporate Audit)   \n",
       "1412   2251                Data Analyst 3, Customer Experience   \n",
       "1413   2252                        Senior Quality Data Analyst   \n",
       "\n",
       "                                        Job Description  Rating  \\\n",
       "0     Overview\\n\\nProvides analytical and technical ...     3.8   \n",
       "1     We’re looking for a Senior Data Analyst who ha...     3.4   \n",
       "2     Requisition NumberRR-0001939\\nRemote:Yes\\nWe c...     4.1   \n",
       "3     About Cubist\\nCubist Systematic Strategies is ...     3.9   \n",
       "4     Two Sigma is a different kind of investment ma...     4.4   \n",
       "...                                                 ...     ...   \n",
       "1409  Job Description\\nJob Title: Marketing/Communic...     4.1   \n",
       "1410  Maintains systems to protect data from unautho...     2.5   \n",
       "1411  Position:\\nSenior Data Analyst (Corporate Audi...     2.9   \n",
       "1412  Summary\\n\\nResponsible for working cross-funct...     3.1   \n",
       "1413  You.\\n\\nYou bring your body, mind, heart and s...     3.4   \n",
       "\n",
       "                            Company Name        City State  \\\n",
       "0     Visiting Nurse Service of New York    New York    NY   \n",
       "1                            Squarespace    New York    NY   \n",
       "2                               Celerity    New York    NY   \n",
       "3                                Point72    New York    NY   \n",
       "4                              Two Sigma    New York    NY   \n",
       "...                                  ...         ...   ...   \n",
       "1409          APN Software Services Inc.  Broomfield    CO   \n",
       "1410                       Avacend, Inc.      Denver    CO   \n",
       "1411                   Arrow Electronics  Centennial    CO   \n",
       "1412         Contingent Network Services  Centennial    CO   \n",
       "1413                          SCL Health  Broomfield    CO   \n",
       "\n",
       "                        Size  Founded               Type of ownership  \\\n",
       "0           10000+ employees   1893.0          Nonprofit Organization   \n",
       "1     1001 to 5000 employees   2003.0               Company - Private   \n",
       "2       201 to 500 employees   2002.0  Subsidiary or Business Segment   \n",
       "3     1001 to 5000 employees   2014.0               Company - Private   \n",
       "4     1001 to 5000 employees   2001.0               Company - Private   \n",
       "...                      ...      ...                             ...   \n",
       "1409     51 to 200 employees      NaN               Company - Private   \n",
       "1410     51 to 200 employees      NaN               Company - Private   \n",
       "1411        10000+ employees   1935.0                Company - Public   \n",
       "1412    201 to 500 employees   1984.0               Company - Private   \n",
       "1413        10000+ employees   1864.0          Nonprofit Organization   \n",
       "\n",
       "                                     Industry                  Sector  \\\n",
       "0            Health Care Services & Hospitals             Health Care   \n",
       "1                                    Internet  Information Technology   \n",
       "2                                 IT Services  Information Technology   \n",
       "3       Investment Banking & Asset Management                 Finance   \n",
       "4       Investment Banking & Asset Management                 Finance   \n",
       "...                                       ...                     ...   \n",
       "1409             Computer Hardware & Software  Information Technology   \n",
       "1410                   Staffing & Outsourcing       Business Services   \n",
       "1411                                Wholesale       Business Services   \n",
       "1412  Enterprise Software & Network Solutions  Information Technology   \n",
       "1413         Health Care Services & Hospitals             Health Care   \n",
       "\n",
       "                        Revenue  \\\n",
       "0        $2 to $5 billion (USD)   \n",
       "1      Unknown / Non-Applicable   \n",
       "2     $50 to $100 million (USD)   \n",
       "3      Unknown / Non-Applicable   \n",
       "4      Unknown / Non-Applicable   \n",
       "...                         ...   \n",
       "1409   $25 to $50 million (USD)   \n",
       "1410   Unknown / Non-Applicable   \n",
       "1411         $10+ billion (USD)   \n",
       "1412   $25 to $50 million (USD)   \n",
       "1413     $2 to $5 billion (USD)   \n",
       "\n",
       "                                            Competitors  Min_Salary  \\\n",
       "0                                                   NaN          37   \n",
       "1                                               GoDaddy          37   \n",
       "2                                                   NaN          37   \n",
       "3                                                   NaN          37   \n",
       "4                                                   NaN          37   \n",
       "...                                                 ...         ...   \n",
       "1409                                                NaN          78   \n",
       "1410                                                NaN          78   \n",
       "1411                     Avnet, Ingram Micro, Tech Data          78   \n",
       "1412                                                NaN          78   \n",
       "1413  Centura Health, HealthONE, Denver Health and H...          78   \n",
       "\n",
       "      Max_Salary  Est_Salary  \n",
       "0             66        51.5  \n",
       "1             66        51.5  \n",
       "2             66        51.5  \n",
       "3             66        51.5  \n",
       "4             66        51.5  \n",
       "...          ...         ...  \n",
       "1409         104        63.0  \n",
       "1410         104        63.0  \n",
       "1411         104        63.0  \n",
       "1412         104        63.0  \n",
       "1413         104        63.0  \n",
       "\n",
       "[1414 rows x 17 columns]"
      ]
     },
     "execution_count": 28,
     "metadata": {},
     "output_type": "execute_result"
    }
   ],
   "source": [
    "mydata = mydata.\\\n",
    "    assign(Est_Salary = (data['Max_Salary']+data['Min_Salary'])/2)\n",
    "mydata"
   ]
  },
  {
   "cell_type": "markdown",
   "metadata": {},
   "source": [
    "#### Question 6\n",
    "\n",
    "**[1 point]** What is the average, and standard deviation for the estimated salary among the top 4 sectors in `mydata` dataframe?\n",
    "\n",
    "*Use `groupby()` operation to solve this question*."
   ]
  },
  {
   "cell_type": "code",
   "execution_count": 29,
   "metadata": {
    "ExecuteTime": {
     "end_time": "2020-09-15T19:58:26.374317Z",
     "start_time": "2020-09-15T19:58:26.359372Z"
    }
   },
   "outputs": [
    {
     "data": {
      "text/html": [
       "<div>\n",
       "<style scoped>\n",
       "    .dataframe tbody tr th:only-of-type {\n",
       "        vertical-align: middle;\n",
       "    }\n",
       "\n",
       "    .dataframe tbody tr th {\n",
       "        vertical-align: top;\n",
       "    }\n",
       "\n",
       "    .dataframe thead tr th {\n",
       "        text-align: left;\n",
       "    }\n",
       "\n",
       "    .dataframe thead tr:last-of-type th {\n",
       "        text-align: right;\n",
       "    }\n",
       "</style>\n",
       "<table border=\"1\" class=\"dataframe\">\n",
       "  <thead>\n",
       "    <tr>\n",
       "      <th></th>\n",
       "      <th colspan=\"2\" halign=\"left\">Est_Salary</th>\n",
       "    </tr>\n",
       "    <tr>\n",
       "      <th></th>\n",
       "      <th>mean</th>\n",
       "      <th>std</th>\n",
       "    </tr>\n",
       "    <tr>\n",
       "      <th>Sector</th>\n",
       "      <th></th>\n",
       "      <th></th>\n",
       "    </tr>\n",
       "  </thead>\n",
       "  <tbody>\n",
       "    <tr>\n",
       "      <th>Business Services</th>\n",
       "      <td>68.876908</td>\n",
       "      <td>21.916311</td>\n",
       "    </tr>\n",
       "    <tr>\n",
       "      <th>Finance</th>\n",
       "      <td>71.511834</td>\n",
       "      <td>20.614009</td>\n",
       "    </tr>\n",
       "    <tr>\n",
       "      <th>Health Care</th>\n",
       "      <td>70.807947</td>\n",
       "      <td>19.326998</td>\n",
       "    </tr>\n",
       "    <tr>\n",
       "      <th>Information Technology</th>\n",
       "      <td>67.407895</td>\n",
       "      <td>20.127119</td>\n",
       "    </tr>\n",
       "  </tbody>\n",
       "</table>\n",
       "</div>"
      ],
      "text/plain": [
       "                       Est_Salary           \n",
       "                             mean        std\n",
       "Sector                                      \n",
       "Business Services       68.876908  21.916311\n",
       "Finance                 71.511834  20.614009\n",
       "Health Care             70.807947  19.326998\n",
       "Information Technology  67.407895  20.127119"
      ]
     },
     "execution_count": 29,
     "metadata": {},
     "output_type": "execute_result"
    }
   ],
   "source": [
    "mydata.\\\n",
    "    groupby('Sector').\\\n",
    "    agg({'Est_Salary':['mean','std']})"
   ]
  },
  {
   "cell_type": "markdown",
   "metadata": {},
   "source": [
    "#### Question 7\n",
    "\n",
    "**(a)** **[1 point]** Create a side-by-side boxplot to show the distribution of salaries among the top four paying sectors. \n",
    "\n",
    "**(b)** **[0.5 points]** What does the boxplot tell you about the salaries in these industries for data analysts?"
   ]
  },
  {
   "cell_type": "code",
   "execution_count": 30,
   "metadata": {
    "ExecuteTime": {
     "end_time": "2020-09-15T19:58:30.057022Z",
     "start_time": "2020-09-15T19:58:29.865147Z"
    }
   },
   "outputs": [
    {
     "data": {
      "text/plain": [
       "<matplotlib.axes._subplots.AxesSubplot at 0x117b9bb50>"
      ]
     },
     "execution_count": 30,
     "metadata": {},
     "output_type": "execute_result"
    },
    {
     "data": {
      "image/png": "[encoded data removed]",
      "text/plain": [
       "<Figure size 432x288 with 1 Axes>"
      ]
     },
     "metadata": {},
     "output_type": "display_data"
    }
   ],
   "source": [
    "# Qa\n",
    "sns.boxplot(data = mydata, x = 'Sector', y = 'Est_Salary')\n",
    "\n",
    "#Qb\n",
    "# The distributions of estimated salaries in these industries are similar\n",
    "# The median is around 70.\n",
    "# Overall, 50% of estimated salaries for the top four sectors are between 55 and 80.\n",
    "# 25% of estimated salaries are below 55\n",
    "# 25% of estimated salaries are above 80.\n",
    "# There are several outliers (those whose estimated salaries are above 110)"
   ]
  },
  {
   "cell_type": "markdown",
   "metadata": {},
   "source": [
    "#### Question 8\n",
    "\n",
    "**[1 point]** Which companies in the **Information Technology** sector has job postings with estimated salaries above 100K dollars?"
   ]
  },
  {
   "cell_type": "code",
   "execution_count": 31,
   "metadata": {
    "ExecuteTime": {
     "end_time": "2020-09-15T19:58:33.402423Z",
     "start_time": "2020-09-15T19:58:33.394685Z"
    },
    "scrolled": true
   },
   "outputs": [
    {
     "data": {
      "text/plain": [
       "341           Eleven Recruiting - CHURN\n",
       "344                          DatamanUSA\n",
       "348                           Lucky Day\n",
       "351                         iSpace, Inc\n",
       "353                             System1\n",
       "360                           Lucky Day\n",
       "363    Staffigo Technical Services, LLC\n",
       "369                            Tillster\n",
       "371                       Netflix, Inc.\n",
       "374                     Internet Brands\n",
       "378                             System1\n",
       "379    Staffigo Technical Services, LLC\n",
       "385               Internet Brands, Inc.\n",
       "388                                 IBM\n",
       "390                              TikTok\n",
       "392                              Prosum\n",
       "393              Saicon Consultants Inc\n",
       "687             Micro-Data Systems Inc.\n",
       "696                        Diverse Lynx\n",
       "702            Trillium Solutions Group\n",
       "704    Staffigo Technical Services, LLC\n",
       "709        Zachary Piper Solutions, LLC\n",
       "712                  Technocrafts, Inc.\n",
       "713                             Ionidea\n",
       "714                       CYNET SYSTEMS\n",
       "844                            Mindteck\n",
       "849                       silverXis inc\n",
       "854                     PeopleNTech LLC\n",
       "856                      Ava Consulting\n",
       "858             ClientSolv Technologies\n",
       "860                        Diverse Lynx\n",
       "Name: Company Name, dtype: object"
      ]
     },
     "execution_count": 31,
     "metadata": {},
     "output_type": "execute_result"
    }
   ],
   "source": [
    "mydata.loc[(mydata['Sector'] == 'Information Technology') & (mydata['Est_Salary'] > 100),'Company Name']"
   ]
  },
  {
   "cell_type": "markdown",
   "metadata": {},
   "source": [
    "### Hires and Salary Estimates by Job Location State (Top 20)\n",
    "\n",
    "For question 9, 10, 11, and 12:\n",
    "\n",
    "*Use `mydata` dataframe to analyze salaries for the top 4 sectors*"
   ]
  },
  {
   "cell_type": "markdown",
   "metadata": {},
   "source": [
    "#### Question 9\n",
    "\n",
    "**(a)** **[1 point]** Which 20 states that has the highest number of data related jobs?\n",
    "\n",
    "**(b)** **[0.5 points]** Create a barplot the shows the number of job listings for the top 20 states.\n",
    "\n",
    "*Name the dataframe `top20states`*\n",
    "\n",
    "*The resulting dataframe should have two columns (`State`, `Hires`), where `Hires` is the number of job opening in the corresponding `State`*"
   ]
  },
  {
   "cell_type": "code",
   "execution_count": 15,
   "metadata": {
    "ExecuteTime": {
     "end_time": "2020-09-15T19:42:22.867708Z",
     "start_time": "2020-09-15T19:42:22.850608Z"
    }
   },
   "outputs": [
    {
     "data": {
      "text/html": [
       "<div>\n",
       "<style scoped>\n",
       "    .dataframe tbody tr th:only-of-type {\n",
       "        vertical-align: middle;\n",
       "    }\n",
       "\n",
       "    .dataframe tbody tr th {\n",
       "        vertical-align: top;\n",
       "    }\n",
       "\n",
       "    .dataframe thead th {\n",
       "        text-align: right;\n",
       "    }\n",
       "</style>\n",
       "<table border=\"1\" class=\"dataframe\">\n",
       "  <thead>\n",
       "    <tr style=\"text-align: right;\">\n",
       "      <th></th>\n",
       "      <th>State</th>\n",
       "      <th>Hire</th>\n",
       "    </tr>\n",
       "  </thead>\n",
       "  <tbody>\n",
       "    <tr>\n",
       "      <th>1</th>\n",
       "      <td>CA</td>\n",
       "      <td>373</td>\n",
       "    </tr>\n",
       "    <tr>\n",
       "      <th>15</th>\n",
       "      <td>TX</td>\n",
       "      <td>251</td>\n",
       "    </tr>\n",
       "    <tr>\n",
       "      <th>11</th>\n",
       "      <td>NY</td>\n",
       "      <td>226</td>\n",
       "    </tr>\n",
       "    <tr>\n",
       "      <th>6</th>\n",
       "      <td>IL</td>\n",
       "      <td>90</td>\n",
       "    </tr>\n",
       "    <tr>\n",
       "      <th>2</th>\n",
       "      <td>CO</td>\n",
       "      <td>70</td>\n",
       "    </tr>\n",
       "    <tr>\n",
       "      <th>13</th>\n",
       "      <td>PA</td>\n",
       "      <td>68</td>\n",
       "    </tr>\n",
       "    <tr>\n",
       "      <th>9</th>\n",
       "      <td>NC</td>\n",
       "      <td>63</td>\n",
       "    </tr>\n",
       "    <tr>\n",
       "      <th>10</th>\n",
       "      <td>NJ</td>\n",
       "      <td>60</td>\n",
       "    </tr>\n",
       "    <tr>\n",
       "      <th>0</th>\n",
       "      <td>AZ</td>\n",
       "      <td>59</td>\n",
       "    </tr>\n",
       "    <tr>\n",
       "      <th>18</th>\n",
       "      <td>WA</td>\n",
       "      <td>33</td>\n",
       "    </tr>\n",
       "    <tr>\n",
       "      <th>17</th>\n",
       "      <td>VA</td>\n",
       "      <td>27</td>\n",
       "    </tr>\n",
       "    <tr>\n",
       "      <th>12</th>\n",
       "      <td>OH</td>\n",
       "      <td>25</td>\n",
       "    </tr>\n",
       "    <tr>\n",
       "      <th>4</th>\n",
       "      <td>FL</td>\n",
       "      <td>21</td>\n",
       "    </tr>\n",
       "    <tr>\n",
       "      <th>7</th>\n",
       "      <td>IN</td>\n",
       "      <td>16</td>\n",
       "    </tr>\n",
       "    <tr>\n",
       "      <th>16</th>\n",
       "      <td>UT</td>\n",
       "      <td>16</td>\n",
       "    </tr>\n",
       "    <tr>\n",
       "      <th>3</th>\n",
       "      <td>DE</td>\n",
       "      <td>9</td>\n",
       "    </tr>\n",
       "    <tr>\n",
       "      <th>5</th>\n",
       "      <td>GA</td>\n",
       "      <td>3</td>\n",
       "    </tr>\n",
       "    <tr>\n",
       "      <th>8</th>\n",
       "      <td>KS</td>\n",
       "      <td>2</td>\n",
       "    </tr>\n",
       "    <tr>\n",
       "      <th>14</th>\n",
       "      <td>SC</td>\n",
       "      <td>2</td>\n",
       "    </tr>\n",
       "  </tbody>\n",
       "</table>\n",
       "</div>"
      ],
      "text/plain": [
       "   State  Hire\n",
       "1     CA   373\n",
       "15    TX   251\n",
       "11    NY   226\n",
       "6     IL    90\n",
       "2     CO    70\n",
       "13    PA    68\n",
       "9     NC    63\n",
       "10    NJ    60\n",
       "0     AZ    59\n",
       "18    WA    33\n",
       "17    VA    27\n",
       "12    OH    25\n",
       "4     FL    21\n",
       "7     IN    16\n",
       "16    UT    16\n",
       "3     DE     9\n",
       "5     GA     3\n",
       "8     KS     2\n",
       "14    SC     2"
      ]
     },
     "execution_count": 15,
     "metadata": {},
     "output_type": "execute_result"
    }
   ],
   "source": [
    "#Question a\n",
    "top20states = mydata.groupby('State').agg({'Sector':'count'}).reset_index().sort_values(by = 'Sector',ascending = False).\\\n",
    "                rename(columns = {'Sector':'Hire'})\n",
    "top20states"
   ]
  },
  {
   "cell_type": "code",
   "execution_count": 16,
   "metadata": {
    "ExecuteTime": {
     "end_time": "2020-09-15T19:42:41.093248Z",
     "start_time": "2020-09-15T19:42:40.754877Z"
    }
   },
   "outputs": [
    {
     "data": {
      "text/plain": [
       "<matplotlib.axes._subplots.AxesSubplot at 0x11699b9d0>"
      ]
     },
     "execution_count": 16,
     "metadata": {},
     "output_type": "execute_result"
    },
    {
     "data": {
      "image/png": "[encoded data removed]",
      "text/plain": [
       "<Figure size 432x288 with 1 Axes>"
      ]
     },
     "metadata": {},
     "output_type": "display_data"
    }
   ],
   "source": [
    "sns.barplot(data = top20states, x = 'State',y = 'Hire')"
   ]
  },
  {
   "cell_type": "markdown",
   "metadata": {},
   "source": [
    "#### Question 10\n",
    "\n",
    "**(a)** **[1.5 point]** Which 20 states have the highest average salaries?\n",
    "\n",
    "**(b)** **[0.5 points]** Create a barplot the shows the average estimated salary for the top 20 states.\n",
    "\n",
    "*Name the dataframe `top20salaries`*\n",
    "\n",
    "*The resulting dataframe should have two columns (`State`, `Est_Salary`), where `Est_Salary` is average salary for data analysts in the corresponding `State`*"
   ]
  },
  {
   "cell_type": "code",
   "execution_count": 18,
   "metadata": {
    "ExecuteTime": {
     "end_time": "2020-09-15T19:43:35.855985Z",
     "start_time": "2020-09-15T19:43:35.841366Z"
    }
   },
   "outputs": [
    {
     "data": {
      "text/html": [
       "<div>\n",
       "<style scoped>\n",
       "    .dataframe tbody tr th:only-of-type {\n",
       "        vertical-align: middle;\n",
       "    }\n",
       "\n",
       "    .dataframe tbody tr th {\n",
       "        vertical-align: top;\n",
       "    }\n",
       "\n",
       "    .dataframe thead th {\n",
       "        text-align: right;\n",
       "    }\n",
       "</style>\n",
       "<table border=\"1\" class=\"dataframe\">\n",
       "  <thead>\n",
       "    <tr style=\"text-align: right;\">\n",
       "      <th></th>\n",
       "      <th>State</th>\n",
       "      <th>Est_Salary</th>\n",
       "    </tr>\n",
       "  </thead>\n",
       "  <tbody>\n",
       "    <tr>\n",
       "      <th>0</th>\n",
       "      <td>CA</td>\n",
       "      <td>90.986595</td>\n",
       "    </tr>\n",
       "    <tr>\n",
       "      <th>1</th>\n",
       "      <td>IL</td>\n",
       "      <td>78.027778</td>\n",
       "    </tr>\n",
       "    <tr>\n",
       "      <th>2</th>\n",
       "      <td>NJ</td>\n",
       "      <td>73.925000</td>\n",
       "    </tr>\n",
       "    <tr>\n",
       "      <th>3</th>\n",
       "      <td>CO</td>\n",
       "      <td>73.100000</td>\n",
       "    </tr>\n",
       "    <tr>\n",
       "      <th>4</th>\n",
       "      <td>NY</td>\n",
       "      <td>71.856195</td>\n",
       "    </tr>\n",
       "    <tr>\n",
       "      <th>5</th>\n",
       "      <td>AZ</td>\n",
       "      <td>70.771186</td>\n",
       "    </tr>\n",
       "    <tr>\n",
       "      <th>6</th>\n",
       "      <td>SC</td>\n",
       "      <td>70.250000</td>\n",
       "    </tr>\n",
       "    <tr>\n",
       "      <th>7</th>\n",
       "      <td>NC</td>\n",
       "      <td>67.849206</td>\n",
       "    </tr>\n",
       "    <tr>\n",
       "      <th>8</th>\n",
       "      <td>VA</td>\n",
       "      <td>65.074074</td>\n",
       "    </tr>\n",
       "    <tr>\n",
       "      <th>9</th>\n",
       "      <td>WA</td>\n",
       "      <td>62.545455</td>\n",
       "    </tr>\n",
       "    <tr>\n",
       "      <th>10</th>\n",
       "      <td>PA</td>\n",
       "      <td>60.801471</td>\n",
       "    </tr>\n",
       "    <tr>\n",
       "      <th>11</th>\n",
       "      <td>TX</td>\n",
       "      <td>59.454183</td>\n",
       "    </tr>\n",
       "    <tr>\n",
       "      <th>12</th>\n",
       "      <td>DE</td>\n",
       "      <td>59.166667</td>\n",
       "    </tr>\n",
       "    <tr>\n",
       "      <th>13</th>\n",
       "      <td>FL</td>\n",
       "      <td>52.000000</td>\n",
       "    </tr>\n",
       "    <tr>\n",
       "      <th>14</th>\n",
       "      <td>KS</td>\n",
       "      <td>51.500000</td>\n",
       "    </tr>\n",
       "    <tr>\n",
       "      <th>15</th>\n",
       "      <td>IN</td>\n",
       "      <td>47.500000</td>\n",
       "    </tr>\n",
       "    <tr>\n",
       "      <th>16</th>\n",
       "      <td>OH</td>\n",
       "      <td>44.160000</td>\n",
       "    </tr>\n",
       "    <tr>\n",
       "      <th>17</th>\n",
       "      <td>GA</td>\n",
       "      <td>44.000000</td>\n",
       "    </tr>\n",
       "    <tr>\n",
       "      <th>18</th>\n",
       "      <td>UT</td>\n",
       "      <td>37.562500</td>\n",
       "    </tr>\n",
       "  </tbody>\n",
       "</table>\n",
       "</div>"
      ],
      "text/plain": [
       "   State  Est_Salary\n",
       "0     CA   90.986595\n",
       "1     IL   78.027778\n",
       "2     NJ   73.925000\n",
       "3     CO   73.100000\n",
       "4     NY   71.856195\n",
       "5     AZ   70.771186\n",
       "6     SC   70.250000\n",
       "7     NC   67.849206\n",
       "8     VA   65.074074\n",
       "9     WA   62.545455\n",
       "10    PA   60.801471\n",
       "11    TX   59.454183\n",
       "12    DE   59.166667\n",
       "13    FL   52.000000\n",
       "14    KS   51.500000\n",
       "15    IN   47.500000\n",
       "16    OH   44.160000\n",
       "17    GA   44.000000\n",
       "18    UT   37.562500"
      ]
     },
     "execution_count": 18,
     "metadata": {},
     "output_type": "execute_result"
    }
   ],
   "source": [
    "# Question a\n",
    "top20salaries = mydata.groupby('State').agg({'Est_Salary':'mean'}).sort_values(by = 'Est_Salary',ascending = False).reset_index()\n",
    "top20salaries\n"
   ]
  },
  {
   "cell_type": "code",
   "execution_count": 19,
   "metadata": {
    "ExecuteTime": {
     "end_time": "2020-09-15T19:43:37.985375Z",
     "start_time": "2020-09-15T19:43:37.759953Z"
    }
   },
   "outputs": [
    {
     "data": {
      "text/plain": [
       "<matplotlib.axes._subplots.AxesSubplot at 0x11689c3d0>"
      ]
     },
     "execution_count": 19,
     "metadata": {},
     "output_type": "execute_result"
    },
    {
     "data": {
      "image/png": "[encoded data removed]",
      "text/plain": [
       "<Figure size 432x288 with 1 Axes>"
      ]
     },
     "metadata": {},
     "output_type": "display_data"
    }
   ],
   "source": [
    "# Question b\n",
    "sns.barplot(data = top20salaries, x = 'State', y = 'Est_Salary', ci = None)"
   ]
  },
  {
   "cell_type": "markdown",
   "metadata": {},
   "source": [
    "#### Question 11\n",
    "\n",
    "**[1 point]** Among the top hiring 20 states, how many are on the list of states with the highest salaries? \n"
   ]
  },
  {
   "cell_type": "code",
   "execution_count": 20,
   "metadata": {
    "ExecuteTime": {
     "end_time": "2020-09-15T19:43:40.963896Z",
     "start_time": "2020-09-15T19:43:40.958427Z"
    }
   },
   "outputs": [
    {
     "data": {
      "text/plain": [
       "['Slack', 'Tesla', 'Apple']"
      ]
     },
     "execution_count": 20,
     "metadata": {},
     "output_type": "execute_result"
    }
   ],
   "source": [
    " ########\n",
    "# Hint #\n",
    "#######\n",
    "\n",
    "# The following chunck of code returns the common elements in two lists\n",
    "\n",
    "a = ['Tesla', 'Apple', 'Teledoc', 'Slack']\n",
    "b = ['Microsoft', 'Apple', 'Alphabet', 'Slack','Amazon', 'Tesla']\n",
    "list(set(a) & set(b))"
   ]
  },
  {
   "cell_type": "code",
   "execution_count": 21,
   "metadata": {
    "ExecuteTime": {
     "end_time": "2020-09-15T19:43:43.120419Z",
     "start_time": "2020-09-15T19:43:43.114882Z"
    }
   },
   "outputs": [
    {
     "data": {
      "text/plain": [
       "['CA',\n",
       " 'CO',\n",
       " 'NY',\n",
       " 'IL',\n",
       " 'GA',\n",
       " 'KS',\n",
       " 'TX',\n",
       " 'UT',\n",
       " 'OH',\n",
       " 'AZ',\n",
       " 'PA',\n",
       " 'DE',\n",
       " 'FL',\n",
       " 'IN',\n",
       " 'NC',\n",
       " 'VA',\n",
       " 'WA',\n",
       " 'NJ',\n",
       " 'SC']"
      ]
     },
     "execution_count": 21,
     "metadata": {},
     "output_type": "execute_result"
    }
   ],
   "source": [
    "list(set(top20states['State']) & set(top20salaries['State']))"
   ]
  },
  {
   "cell_type": "markdown",
   "metadata": {},
   "source": [
    "#### Question 12\n",
    "\n",
    "**[1 point]** What do you conclude about the relationship between the salaries and the demand for data analysts by states?"
   ]
  },
  {
   "cell_type": "markdown",
   "metadata": {},
   "source": [
    "There seems to be a positive relationship between salaries and the demand"
   ]
  }
 ],
 "metadata": {
  "kernelspec": {
   "display_name": "Python 3",
   "language": "python",
   "name": "python3"
  },
  "language_info": {
   "codemirror_mode": {
    "name": "ipython",
    "version": 3
   },
   "file_extension": ".py",
   "mimetype": "text/x-python",
   "name": "python",
   "nbconvert_exporter": "python",
   "pygments_lexer": "ipython3",
   "version": "3.8.3"
  },
  "varInspector": {
   "cols": {
    "lenName": 16,
    "lenType": 16,
    "lenVar": 40
   },
   "kernels_config": {
    "python": {
     "delete_cmd_postfix": "",
     "delete_cmd_prefix": "del ",
     "library": "var_list.py",
     "varRefreshCmd": "print(var_dic_list())"
    },
    "r": {
     "delete_cmd_postfix": ") ",
     "delete_cmd_prefix": "rm(",
     "library": "var_list.r",
     "varRefreshCmd": "cat(var_dic_list()) "
    }
   },
   "types_to_exclude": [
    "module",
    "function",
    "builtin_function_or_method",
    "instance",
    "_Feature"
   ],
   "window_display": false
  }
 },
 "nbformat": 4,
 "nbformat_minor": 4
}
