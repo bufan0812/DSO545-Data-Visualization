{
 "cells": [
  {
   "cell_type": "markdown",
   "metadata": {
    "ExecuteTime": {
     "end_time": "2020-09-15T15:56:52.996246Z",
     "start_time": "2020-09-15T15:56:52.990874Z"
    }
   },
   "source": [
    "<p style=\"text-align: center;\"> <span style=\"color:firebrick\"> <font size=\"5\"> <b> USC Marshall School of Business </b> </font> </p> </span> \n",
    "\n",
    "<p style=\"text-align: center;\"> <b> <font font size=\"4\"> DSO 545- Quiz 2 </p> </b></font>\n",
    "\n",
    "<p style=\"text-align: center;\"> <b> Fall 2020 </b> </p>\n",
    "<p style=\"text-align: center;\"> <b> <span style=\"color:firebrick\"> Deadline: </span> Sunday, Oct 25 (EOD) </b> </p>"
   ]
  },
  {
   "cell_type": "markdown",
   "metadata": {},
   "source": [
    "# Quiz Rules"
   ]
  },
  {
   "cell_type": "markdown",
   "metadata": {},
   "source": [
    "- This quiz is open notes and open book (including the Internet)\n",
    "\n",
    "- This quiz does not have a time limit. You can start it anytime during this week and finish it anytime as long as you submit it by the deadline on Sunday Oct 225, 2020 (End of Day). \n",
    "\n",
    "- You are not allowed to interact with any person except your DSO 545 final project group. If you have any questions related to the quiz, you can only discuss with your DSO 545 final project group only with the following two conditions:\n",
    "    \n",
    "    - You are expected to work on all the problems on your own first (before you reach out to your group), and submit a first version of the quiz on blackboard. This first submission is to show that you have done the work on your own before you reach out to the group.\n",
    "\n",
    "    - Once you submit your work to blackboard, then you can meet with your group and ask them questions related to the quiz. If you want to change anything to your initial submission, then you can do so, and submit a second version to blackboard using the same submission link before the deadline (Oct 25 EOD)\n",
    "\n"
   ]
  },
  {
   "cell_type": "markdown",
   "metadata": {},
   "source": [
    "# Important"
   ]
  },
  {
   "cell_type": "markdown",
   "metadata": {},
   "source": [
    " Please sign here (type your name) to indicate that you have adhered to university policies regarding ethical behavior in preparing for and completing this test:\n",
    " \n",
    " <span style=\"color:black\"> **I hereby certify that I have adhered to the USC's policies regarding ethical behavior in preparing for and completing this quiz. I certify that I will also adhere to the rules in the section above (Quiz Rules)** </span>"
   ]
  },
  {
   "cell_type": "markdown",
   "metadata": {},
   "source": [
    "## <span style=\"color:black\">  Sign your name here </span>: Bufan Wang"
   ]
  },
  {
   "cell_type": "markdown",
   "metadata": {},
   "source": [
    "# <span style=\"color:black\"> Case Study: </span>  <span style=\"color:firebrick\"> Trojan Paper </span>"
   ]
  },
  {
   "cell_type": "markdown",
   "metadata": {},
   "source": [
    "**Trojan Paper** manufactures paper products and sells them to newspapers, magazines, and other print industry businesses.  Recently, there have been growing concerns that customers are dissatisfied with their services, so **Trojan Paper** decided to hire a consulting company called **Research Analytics** to survey their customers, and analyze the data.  \n",
    "\n",
    "**Trojan Paper** hopes to use the results of the survey for formulating a long-term plan to improve their business, and better serve their customers.  \n"
   ]
  },
  {
   "cell_type": "markdown",
   "metadata": {},
   "source": [
    "### <span style=\"color:black\"> Dataset: </span>  <span style=\"color:firebrick\"> Trojan Paper </span>"
   ]
  },
  {
   "cell_type": "markdown",
   "metadata": {},
   "source": [
    "The suvery was sent to all their customers (newspapers, magazines, etc.). Among the customers surveyed, **Research Analytics** collected a total of 100 responses. The data is saved in the file `trojanpaper_survey.csv`:\n",
    "\n",
    "|**Variables**    |**Explanation**|\n",
    "|:-----------------|:--------------|\n",
    "|`Newspaper` | A binary indicating if the customer is a newspaper (1 = Yes, 0=No) \n",
    "|`Firm size`| A binary variable indicating if the customer has more than 500 employees (1=Yes, 0=No) \n",
    "\n",
    "\n",
    "**Research Analytics** then asked each respondent to rate **Trojan Paper**’s services on a scale from 1 to 10 (10 being the best) on 5 different attributes:\n",
    "\n",
    "|**Variables**    |**Explanation**|\n",
    "|:-----------------|:--------------|\n",
    "|`Product quality` | Perceived quality Trojan Paper’s paper products\n",
    "|`Technical support` | Ability of technical support to help resolve product and service issues\n",
    "|`Salesforce` | Overall professionalism and helpfulness of Trojan Paper’s sales force\n",
    "|`New Product Development` | Ability of Trojan Paper to design new, custom products to meet customer specifications\n",
    "|`Delivery` | Extent to which Trojan Paper delivers orders on time. \n",
    "\n"
   ]
  },
  {
   "cell_type": "markdown",
   "metadata": {},
   "source": [
    "### <span style=\"color:black\"> Questions: </span>  <span style=\"color:firebrick\"> Trojan Paper </span>"
   ]
  },
  {
   "cell_type": "code",
   "execution_count": 1,
   "metadata": {
    "ExecuteTime": {
     "end_time": "2020-10-25T17:43:57.628858Z",
     "start_time": "2020-10-25T17:43:55.149417Z"
    }
   },
   "outputs": [],
   "source": [
    "# import all necessary python packages here\n",
    "import pandas as pd\n",
    "import seaborn as sns\n",
    "import matplotlib.pyplot as plt\n",
    "import numpy as np\n",
    "from sklearn.preprocessing import StandardScaler\n",
    "from sklearn.decomposition import PCA\n",
    "from sklearn import cluster\n",
    "from scipy import stats"
   ]
  },
  {
   "cell_type": "markdown",
   "metadata": {},
   "source": [
    "#### Read data"
   ]
  },
  {
   "cell_type": "code",
   "execution_count": 2,
   "metadata": {
    "ExecuteTime": {
     "end_time": "2020-10-25T17:43:57.670463Z",
     "start_time": "2020-10-25T17:43:57.637019Z"
    }
   },
   "outputs": [
    {
     "data": {
      "text/html": [
       "<div>\n",
       "<style scoped>\n",
       "    .dataframe tbody tr th:only-of-type {\n",
       "        vertical-align: middle;\n",
       "    }\n",
       "\n",
       "    .dataframe tbody tr th {\n",
       "        vertical-align: top;\n",
       "    }\n",
       "\n",
       "    .dataframe thead th {\n",
       "        text-align: right;\n",
       "    }\n",
       "</style>\n",
       "<table border=\"1\" class=\"dataframe\">\n",
       "  <thead>\n",
       "    <tr style=\"text-align: right;\">\n",
       "      <th></th>\n",
       "      <th>Newspaper</th>\n",
       "      <th>Firm size</th>\n",
       "      <th>Product quality</th>\n",
       "      <th>Technical support</th>\n",
       "      <th>Sales force</th>\n",
       "      <th>New product development</th>\n",
       "      <th>Delivery</th>\n",
       "    </tr>\n",
       "  </thead>\n",
       "  <tbody>\n",
       "    <tr>\n",
       "      <th>0</th>\n",
       "      <td>0</td>\n",
       "      <td>1</td>\n",
       "      <td>8.5</td>\n",
       "      <td>2.5</td>\n",
       "      <td>6.0</td>\n",
       "      <td>4.3</td>\n",
       "      <td>3.7</td>\n",
       "    </tr>\n",
       "    <tr>\n",
       "      <th>1</th>\n",
       "      <td>1</td>\n",
       "      <td>0</td>\n",
       "      <td>8.2</td>\n",
       "      <td>5.1</td>\n",
       "      <td>3.1</td>\n",
       "      <td>4.0</td>\n",
       "      <td>4.9</td>\n",
       "    </tr>\n",
       "    <tr>\n",
       "      <th>2</th>\n",
       "      <td>0</td>\n",
       "      <td>1</td>\n",
       "      <td>9.2</td>\n",
       "      <td>5.6</td>\n",
       "      <td>5.8</td>\n",
       "      <td>4.6</td>\n",
       "      <td>4.5</td>\n",
       "    </tr>\n",
       "    <tr>\n",
       "      <th>3</th>\n",
       "      <td>1</td>\n",
       "      <td>1</td>\n",
       "      <td>6.4</td>\n",
       "      <td>7.0</td>\n",
       "      <td>4.5</td>\n",
       "      <td>3.6</td>\n",
       "      <td>3.0</td>\n",
       "    </tr>\n",
       "    <tr>\n",
       "      <th>4</th>\n",
       "      <td>0</td>\n",
       "      <td>1</td>\n",
       "      <td>9.0</td>\n",
       "      <td>5.2</td>\n",
       "      <td>4.5</td>\n",
       "      <td>4.5</td>\n",
       "      <td>3.5</td>\n",
       "    </tr>\n",
       "  </tbody>\n",
       "</table>\n",
       "</div>"
      ],
      "text/plain": [
       "   Newspaper  Firm size  Product quality  Technical support  Sales force  \\\n",
       "0          0          1              8.5                2.5          6.0   \n",
       "1          1          0              8.2                5.1          3.1   \n",
       "2          0          1              9.2                5.6          5.8   \n",
       "3          1          1              6.4                7.0          4.5   \n",
       "4          0          1              9.0                5.2          4.5   \n",
       "\n",
       "   New product development  Delivery  \n",
       "0                      4.3       3.7  \n",
       "1                      4.0       4.9  \n",
       "2                      4.6       4.5  \n",
       "3                      3.6       3.0  \n",
       "4                      4.5       3.5  "
      ]
     },
     "execution_count": 2,
     "metadata": {},
     "output_type": "execute_result"
    }
   ],
   "source": [
    "# read the data here, and save it in a dataframe called 'paper'\n",
    "paper = pd.read_csv('trojanpaper_survey.csv')\n",
    "paper.head()"
   ]
  },
  {
   "cell_type": "markdown",
   "metadata": {},
   "source": [
    "#### Question 1\n",
    "\n",
    "Standardize all columns of data so that each column has mean 0 and std 1. Save the standardized data in pandas DataFrame called `z_paper`."
   ]
  },
  {
   "cell_type": "code",
   "execution_count": 3,
   "metadata": {
    "ExecuteTime": {
     "end_time": "2020-10-25T17:43:57.698136Z",
     "start_time": "2020-10-25T17:43:57.674833Z"
    }
   },
   "outputs": [
    {
     "data": {
      "text/html": [
       "<div>\n",
       "<style scoped>\n",
       "    .dataframe tbody tr th:only-of-type {\n",
       "        vertical-align: middle;\n",
       "    }\n",
       "\n",
       "    .dataframe tbody tr th {\n",
       "        vertical-align: top;\n",
       "    }\n",
       "\n",
       "    .dataframe thead th {\n",
       "        text-align: right;\n",
       "    }\n",
       "</style>\n",
       "<table border=\"1\" class=\"dataframe\">\n",
       "  <thead>\n",
       "    <tr style=\"text-align: right;\">\n",
       "      <th></th>\n",
       "      <th>Newspaper</th>\n",
       "      <th>Firm size</th>\n",
       "      <th>Product quality</th>\n",
       "      <th>Technical support</th>\n",
       "      <th>Sales force</th>\n",
       "      <th>New product development</th>\n",
       "      <th>Delivery</th>\n",
       "    </tr>\n",
       "  </thead>\n",
       "  <tbody>\n",
       "    <tr>\n",
       "      <th>0</th>\n",
       "      <td>-0.960769</td>\n",
       "      <td>0.980196</td>\n",
       "      <td>0.496660</td>\n",
       "      <td>-1.881421</td>\n",
       "      <td>0.821973</td>\n",
       "      <td>-0.572173</td>\n",
       "      <td>-0.254531</td>\n",
       "    </tr>\n",
       "    <tr>\n",
       "      <th>1</th>\n",
       "      <td>1.040833</td>\n",
       "      <td>-1.020204</td>\n",
       "      <td>0.280721</td>\n",
       "      <td>-0.174023</td>\n",
       "      <td>-1.896068</td>\n",
       "      <td>-0.774117</td>\n",
       "      <td>1.387605</td>\n",
       "    </tr>\n",
       "    <tr>\n",
       "      <th>2</th>\n",
       "      <td>-0.960769</td>\n",
       "      <td>0.980196</td>\n",
       "      <td>1.000518</td>\n",
       "      <td>0.154322</td>\n",
       "      <td>0.634522</td>\n",
       "      <td>-0.370230</td>\n",
       "      <td>0.840226</td>\n",
       "    </tr>\n",
       "    <tr>\n",
       "      <th>3</th>\n",
       "      <td>1.040833</td>\n",
       "      <td>0.980196</td>\n",
       "      <td>-1.014914</td>\n",
       "      <td>1.073690</td>\n",
       "      <td>-0.583910</td>\n",
       "      <td>-1.043375</td>\n",
       "      <td>-1.212443</td>\n",
       "    </tr>\n",
       "    <tr>\n",
       "      <th>4</th>\n",
       "      <td>-0.960769</td>\n",
       "      <td>0.980196</td>\n",
       "      <td>0.856559</td>\n",
       "      <td>-0.108354</td>\n",
       "      <td>-0.583910</td>\n",
       "      <td>-0.437544</td>\n",
       "      <td>-0.528220</td>\n",
       "    </tr>\n",
       "  </tbody>\n",
       "</table>\n",
       "</div>"
      ],
      "text/plain": [
       "   Newspaper  Firm size  Product quality  Technical support  Sales force  \\\n",
       "0  -0.960769   0.980196         0.496660          -1.881421     0.821973   \n",
       "1   1.040833  -1.020204         0.280721          -0.174023    -1.896068   \n",
       "2  -0.960769   0.980196         1.000518           0.154322     0.634522   \n",
       "3   1.040833   0.980196        -1.014914           1.073690    -0.583910   \n",
       "4  -0.960769   0.980196         0.856559          -0.108354    -0.583910   \n",
       "\n",
       "   New product development  Delivery  \n",
       "0                -0.572173 -0.254531  \n",
       "1                -0.774117  1.387605  \n",
       "2                -0.370230  0.840226  \n",
       "3                -1.043375 -1.212443  \n",
       "4                -0.437544 -0.528220  "
      ]
     },
     "execution_count": 3,
     "metadata": {},
     "output_type": "execute_result"
    }
   ],
   "source": [
    "scaler = StandardScaler()\n",
    "z_paper = scaler.fit_transform(paper)\n",
    "z_paper = pd.DataFrame(z_paper ,columns = paper.columns)\n",
    "z_paper.head()"
   ]
  },
  {
   "cell_type": "markdown",
   "metadata": {},
   "source": [
    "#### Question 2\n",
    "\n",
    "We will first use visual inspection to figure out the number of clusters among our customers. Since the number of variables in our dataset is larger than 2, then we won't be able to visualize all the data unless if we perform a PCA decomposition on our data to reduce the dimensionality in our dataset. \n",
    "\n",
    "Perform `PCA` decomposition on the standardized survey data into 2 Principle Components (n_component = 2). Save the two Principle Components (PC's)in a dataframe called `pca_data`. "
   ]
  },
  {
   "cell_type": "code",
   "execution_count": 4,
   "metadata": {
    "ExecuteTime": {
     "end_time": "2020-10-25T17:43:57.726995Z",
     "start_time": "2020-10-25T17:43:57.700420Z"
    }
   },
   "outputs": [
    {
     "data": {
      "text/html": [
       "<div>\n",
       "<style scoped>\n",
       "    .dataframe tbody tr th:only-of-type {\n",
       "        vertical-align: middle;\n",
       "    }\n",
       "\n",
       "    .dataframe tbody tr th {\n",
       "        vertical-align: top;\n",
       "    }\n",
       "\n",
       "    .dataframe thead th {\n",
       "        text-align: right;\n",
       "    }\n",
       "</style>\n",
       "<table border=\"1\" class=\"dataframe\">\n",
       "  <thead>\n",
       "    <tr style=\"text-align: right;\">\n",
       "      <th></th>\n",
       "      <th>PCA1</th>\n",
       "      <th>PCA2</th>\n",
       "    </tr>\n",
       "  </thead>\n",
       "  <tbody>\n",
       "    <tr>\n",
       "      <th>0</th>\n",
       "      <td>1.239308</td>\n",
       "      <td>0.009731</td>\n",
       "    </tr>\n",
       "    <tr>\n",
       "      <th>1</th>\n",
       "      <td>-1.430879</td>\n",
       "      <td>-0.351388</td>\n",
       "    </tr>\n",
       "    <tr>\n",
       "      <th>2</th>\n",
       "      <td>1.124728</td>\n",
       "      <td>0.714626</td>\n",
       "    </tr>\n",
       "    <tr>\n",
       "      <th>3</th>\n",
       "      <td>-0.745247</td>\n",
       "      <td>-1.825271</td>\n",
       "    </tr>\n",
       "    <tr>\n",
       "      <th>4</th>\n",
       "      <td>-0.116982</td>\n",
       "      <td>0.600109</td>\n",
       "    </tr>\n",
       "  </tbody>\n",
       "</table>\n",
       "</div>"
      ],
      "text/plain": [
       "       PCA1      PCA2\n",
       "0  1.239308  0.009731\n",
       "1 -1.430879 -0.351388\n",
       "2  1.124728  0.714626\n",
       "3 -0.745247 -1.825271\n",
       "4 -0.116982  0.600109"
      ]
     },
     "execution_count": 4,
     "metadata": {},
     "output_type": "execute_result"
    }
   ],
   "source": [
    "pca = PCA(n_components = 2)\n",
    "pc = pca.fit_transform(z_paper)\n",
    "pca_data = pd.DataFrame(data = pc, columns = ['PCA1','PCA2'])\n",
    "pca_data.head()"
   ]
  },
  {
   "cell_type": "markdown",
   "metadata": {},
   "source": [
    "#### Question 3\n",
    "\n",
    "What is the % of variation explained by the 2 PCs combined? "
   ]
  },
  {
   "cell_type": "code",
   "execution_count": 5,
   "metadata": {
    "ExecuteTime": {
     "end_time": "2020-10-25T17:43:57.742597Z",
     "start_time": "2020-10-25T17:43:57.729399Z"
    }
   },
   "outputs": [
    {
     "data": {
      "text/plain": [
       "array([0.22069266, 0.18508285])"
      ]
     },
     "execution_count": 5,
     "metadata": {},
     "output_type": "execute_result"
    }
   ],
   "source": [
    "# 2 PCs combined to explain around 41% of variation\n",
    "pca.explained_variance_ratio_"
   ]
  },
  {
   "cell_type": "markdown",
   "metadata": {},
   "source": [
    "#### Question 4\n",
    "\n",
    "Create a 2-D scatter plot to visualize the 2 PCs on one graph. Is it easy to see a clear separation among clusters?"
   ]
  },
  {
   "cell_type": "code",
   "execution_count": 6,
   "metadata": {
    "ExecuteTime": {
     "end_time": "2020-10-25T17:43:57.988720Z",
     "start_time": "2020-10-25T17:43:57.744951Z"
    }
   },
   "outputs": [
    {
     "data": {
      "text/plain": [
       "<matplotlib.axes._subplots.AxesSubplot at 0x118235ee0>"
      ]
     },
     "execution_count": 6,
     "metadata": {},
     "output_type": "execute_result"
    },
    {
     "data": {
      "image/png": "[encoded data removed]",
      "text/plain": [
       "<Figure size 432x288 with 1 Axes>"
      ]
     },
     "metadata": {
      "needs_background": "light"
     },
     "output_type": "display_data"
    }
   ],
   "source": [
    "# No, there is no clear separation among clusters.\n",
    "sns.scatterplot(data = pca_data, x = 'PCA1',y = 'PCA2')"
   ]
  },
  {
   "cell_type": "markdown",
   "metadata": {},
   "source": [
    "#### Question 5\n",
    "\n",
    "Sometimes it is hard to inspect the number of clusters even after we perform dimensionality reduction using PCA. \n",
    "\n",
    "Another method to find out the number of clusters (k) for `k-means` clustering algorithm is to create an Elbow plot. \n",
    "\n",
    "- Create an Elbow plot with k between 2 and 10. \n",
    "- What does the plot say about the optimal number of clusters? **Why?** (Elbow interpretation is very subjective. As long as your logic is fine, then you will get full credit.)\n",
    "\n",
    "For the `KMeans` method, use `random_state = 1000`. "
   ]
  },
  {
   "cell_type": "code",
   "execution_count": 7,
   "metadata": {
    "ExecuteTime": {
     "end_time": "2020-10-25T17:43:58.696509Z",
     "start_time": "2020-10-25T17:43:57.992964Z"
    }
   },
   "outputs": [
    {
     "name": "stdout",
     "output_type": "stream",
     "text": [
      "[584.2316780680015, 515.3371857227285, 469.753394771243, 434.1168130833128, 397.03676279513445, 364.56023522201394, 334.8024984171213, 313.1354864180292, 292.84851391184725]\n"
     ]
    },
    {
     "data": {
      "text/plain": [
       "Text(0.5, 1.0, 'Elbow Plot')"
      ]
     },
     "execution_count": 7,
     "metadata": {},
     "output_type": "execute_result"
    },
    {
     "data": {
      "image/png": "[encoded data removed]",
      "text/plain": [
       "<Figure size 432x288 with 1 Axes>"
      ]
     },
     "metadata": {
      "needs_background": "light"
     },
     "output_type": "display_data"
    }
   ],
   "source": [
    "# There is no clear elbow in the elbow plot. I would say four is the optimal number of clusters because it results\n",
    "# a low and acceptable sum of square without causing too much confusions (too many clusters can cause confusion.)\n",
    "ss = []\n",
    "for i in range(2,11):\n",
    "    model = cluster.KMeans(n_clusters = i, random_state = 1000)\n",
    "    model.fit(z_paper)\n",
    "    ss.append(model.inertia_)\n",
    "print(ss)\n",
    "elbow = pd.DataFrame({'K':range(2,11),'Sum of Square': ss})\n",
    "sns.lineplot(data = elbow, x = 'K',y = 'Sum of Square')\n",
    "plt.title('Elbow Plot')"
   ]
  },
  {
   "cell_type": "markdown",
   "metadata": {},
   "source": [
    "#### Question 6\n",
    "\n",
    "Choose `k = 4`, and run k-means on the customer responses. Add a `cluster` column to the `pca_data` dataframe created in question 2.\n",
    "\n",
    "For the `KMeans` method, use `random_state = 1000`. "
   ]
  },
  {
   "cell_type": "code",
   "execution_count": 8,
   "metadata": {
    "ExecuteTime": {
     "end_time": "2020-10-25T17:43:58.762423Z",
     "start_time": "2020-10-25T17:43:58.699539Z"
    }
   },
   "outputs": [
    {
     "data": {
      "text/html": [
       "<div>\n",
       "<style scoped>\n",
       "    .dataframe tbody tr th:only-of-type {\n",
       "        vertical-align: middle;\n",
       "    }\n",
       "\n",
       "    .dataframe tbody tr th {\n",
       "        vertical-align: top;\n",
       "    }\n",
       "\n",
       "    .dataframe thead th {\n",
       "        text-align: right;\n",
       "    }\n",
       "</style>\n",
       "<table border=\"1\" class=\"dataframe\">\n",
       "  <thead>\n",
       "    <tr style=\"text-align: right;\">\n",
       "      <th></th>\n",
       "      <th>PCA1</th>\n",
       "      <th>PCA2</th>\n",
       "      <th>cluster</th>\n",
       "    </tr>\n",
       "  </thead>\n",
       "  <tbody>\n",
       "    <tr>\n",
       "      <th>0</th>\n",
       "      <td>1.239308</td>\n",
       "      <td>0.009731</td>\n",
       "      <td>3</td>\n",
       "    </tr>\n",
       "    <tr>\n",
       "      <th>1</th>\n",
       "      <td>-1.430879</td>\n",
       "      <td>-0.351388</td>\n",
       "      <td>1</td>\n",
       "    </tr>\n",
       "    <tr>\n",
       "      <th>2</th>\n",
       "      <td>1.124728</td>\n",
       "      <td>0.714626</td>\n",
       "      <td>3</td>\n",
       "    </tr>\n",
       "    <tr>\n",
       "      <th>3</th>\n",
       "      <td>-0.745247</td>\n",
       "      <td>-1.825271</td>\n",
       "      <td>1</td>\n",
       "    </tr>\n",
       "    <tr>\n",
       "      <th>4</th>\n",
       "      <td>-0.116982</td>\n",
       "      <td>0.600109</td>\n",
       "      <td>3</td>\n",
       "    </tr>\n",
       "  </tbody>\n",
       "</table>\n",
       "</div>"
      ],
      "text/plain": [
       "       PCA1      PCA2  cluster\n",
       "0  1.239308  0.009731        3\n",
       "1 -1.430879 -0.351388        1\n",
       "2  1.124728  0.714626        3\n",
       "3 -0.745247 -1.825271        1\n",
       "4 -0.116982  0.600109        3"
      ]
     },
     "execution_count": 8,
     "metadata": {},
     "output_type": "execute_result"
    }
   ],
   "source": [
    "model = cluster.KMeans(n_clusters = 4, random_state = 1000)\n",
    "pca_data['cluster'] = model.fit_predict(z_paper)\n",
    "pca_data.head()"
   ]
  },
  {
   "cell_type": "code",
   "execution_count": 9,
   "metadata": {
    "ExecuteTime": {
     "end_time": "2020-10-25T17:43:58.777976Z",
     "start_time": "2020-10-25T17:43:58.764759Z"
    }
   },
   "outputs": [
    {
     "data": {
      "text/html": [
       "<div>\n",
       "<style scoped>\n",
       "    .dataframe tbody tr th:only-of-type {\n",
       "        vertical-align: middle;\n",
       "    }\n",
       "\n",
       "    .dataframe tbody tr th {\n",
       "        vertical-align: top;\n",
       "    }\n",
       "\n",
       "    .dataframe thead th {\n",
       "        text-align: right;\n",
       "    }\n",
       "</style>\n",
       "<table border=\"1\" class=\"dataframe\">\n",
       "  <thead>\n",
       "    <tr style=\"text-align: right;\">\n",
       "      <th></th>\n",
       "      <th>Newspaper</th>\n",
       "      <th>Firm size</th>\n",
       "      <th>Product quality</th>\n",
       "      <th>Technical support</th>\n",
       "      <th>Sales force</th>\n",
       "      <th>New product development</th>\n",
       "      <th>Delivery</th>\n",
       "    </tr>\n",
       "  </thead>\n",
       "  <tbody>\n",
       "    <tr>\n",
       "      <th>0</th>\n",
       "      <td>-0.960769</td>\n",
       "      <td>0.980196</td>\n",
       "      <td>0.496660</td>\n",
       "      <td>-1.881421</td>\n",
       "      <td>0.821973</td>\n",
       "      <td>-0.572173</td>\n",
       "      <td>-0.254531</td>\n",
       "    </tr>\n",
       "    <tr>\n",
       "      <th>1</th>\n",
       "      <td>1.040833</td>\n",
       "      <td>-1.020204</td>\n",
       "      <td>0.280721</td>\n",
       "      <td>-0.174023</td>\n",
       "      <td>-1.896068</td>\n",
       "      <td>-0.774117</td>\n",
       "      <td>1.387605</td>\n",
       "    </tr>\n",
       "    <tr>\n",
       "      <th>2</th>\n",
       "      <td>-0.960769</td>\n",
       "      <td>0.980196</td>\n",
       "      <td>1.000518</td>\n",
       "      <td>0.154322</td>\n",
       "      <td>0.634522</td>\n",
       "      <td>-0.370230</td>\n",
       "      <td>0.840226</td>\n",
       "    </tr>\n",
       "    <tr>\n",
       "      <th>3</th>\n",
       "      <td>1.040833</td>\n",
       "      <td>0.980196</td>\n",
       "      <td>-1.014914</td>\n",
       "      <td>1.073690</td>\n",
       "      <td>-0.583910</td>\n",
       "      <td>-1.043375</td>\n",
       "      <td>-1.212443</td>\n",
       "    </tr>\n",
       "    <tr>\n",
       "      <th>4</th>\n",
       "      <td>-0.960769</td>\n",
       "      <td>0.980196</td>\n",
       "      <td>0.856559</td>\n",
       "      <td>-0.108354</td>\n",
       "      <td>-0.583910</td>\n",
       "      <td>-0.437544</td>\n",
       "      <td>-0.528220</td>\n",
       "    </tr>\n",
       "  </tbody>\n",
       "</table>\n",
       "</div>"
      ],
      "text/plain": [
       "   Newspaper  Firm size  Product quality  Technical support  Sales force  \\\n",
       "0  -0.960769   0.980196         0.496660          -1.881421     0.821973   \n",
       "1   1.040833  -1.020204         0.280721          -0.174023    -1.896068   \n",
       "2  -0.960769   0.980196         1.000518           0.154322     0.634522   \n",
       "3   1.040833   0.980196        -1.014914           1.073690    -0.583910   \n",
       "4  -0.960769   0.980196         0.856559          -0.108354    -0.583910   \n",
       "\n",
       "   New product development  Delivery  \n",
       "0                -0.572173 -0.254531  \n",
       "1                -0.774117  1.387605  \n",
       "2                -0.370230  0.840226  \n",
       "3                -1.043375 -1.212443  \n",
       "4                -0.437544 -0.528220  "
      ]
     },
     "execution_count": 9,
     "metadata": {},
     "output_type": "execute_result"
    }
   ],
   "source": [
    "z_paper.head()"
   ]
  },
  {
   "cell_type": "markdown",
   "metadata": {},
   "source": [
    "#### Question 7\n",
    "\n",
    "Create 2-D Scatter plot to visualize 2 PCs like you did in Q4 but color them based on the cluster labels added in Q6."
   ]
  },
  {
   "cell_type": "code",
   "execution_count": 10,
   "metadata": {
    "ExecuteTime": {
     "end_time": "2020-10-25T17:43:59.010255Z",
     "start_time": "2020-10-25T17:43:58.780826Z"
    }
   },
   "outputs": [
    {
     "data": {
      "text/plain": [
       "<matplotlib.legend.Legend at 0x1188516d0>"
      ]
     },
     "execution_count": 10,
     "metadata": {},
     "output_type": "execute_result"
    },
    {
     "data": {
      "image/png": "[encoded data removed]",
      "text/plain": [
       "<Figure size 432x288 with 1 Axes>"
      ]
     },
     "metadata": {
      "needs_background": "light"
     },
     "output_type": "display_data"
    }
   ],
   "source": [
    "sns.scatterplot(data = pca_data,x = 'PCA1',y = 'PCA2',hue = 'cluster', palette = 'bright')\n",
    "plt.legend(bbox_to_anchor = [1, 1],loc = 2)"
   ]
  },
  {
   "cell_type": "markdown",
   "metadata": {},
   "source": [
    "#### Question 8\n",
    "\n",
    "Repeat question 6 and 7, but now use `k=3` and `k=5`. Based on the visual results, which is better `k=3`, `k=4`, or `k=5`? **What was the reasoning for your choice**? \n",
    "\n",
    "- I will choose k=3. From my perspective, when k=3, the pattern of clusters is the clearest, with the least amount of overlaps between clusters. When k=4 and k=5, there are a lot of overlaps between clusters so that it is relatively more difficult to idenfity each cluster."
   ]
  },
  {
   "cell_type": "code",
   "execution_count": 11,
   "metadata": {
    "ExecuteTime": {
     "end_time": "2020-10-25T17:43:59.268107Z",
     "start_time": "2020-10-25T17:43:59.012236Z"
    }
   },
   "outputs": [
    {
     "data": {
      "text/plain": [
       "<matplotlib.legend.Legend at 0x11887ff70>"
      ]
     },
     "execution_count": 11,
     "metadata": {},
     "output_type": "execute_result"
    },
    {
     "data": {
      "image/png": "[encoded data removed]",
      "text/plain": [
       "<Figure size 432x288 with 1 Axes>"
      ]
     },
     "metadata": {
      "needs_background": "light"
     },
     "output_type": "display_data"
    }
   ],
   "source": [
    "# k = 3\n",
    "model = cluster.KMeans(n_clusters = 3, random_state = 1000)\n",
    "pca_data['cluster'] = model.fit_predict(z_paper)\n",
    "sns.scatterplot(data = pca_data,x = 'PCA1',y = 'PCA2',hue = 'cluster', palette = 'bright')\n",
    "plt.legend(bbox_to_anchor = [1, 1],loc = 2)"
   ]
  },
  {
   "cell_type": "code",
   "execution_count": 12,
   "metadata": {
    "ExecuteTime": {
     "end_time": "2020-10-25T17:43:59.546253Z",
     "start_time": "2020-10-25T17:43:59.270644Z"
    }
   },
   "outputs": [
    {
     "data": {
      "text/plain": [
       "<matplotlib.legend.Legend at 0x1188511c0>"
      ]
     },
     "execution_count": 12,
     "metadata": {},
     "output_type": "execute_result"
    },
    {
     "data": {
      "image/png": "[encoded data removed]",
      "text/plain": [
       "<Figure size 432x288 with 1 Axes>"
      ]
     },
     "metadata": {
      "needs_background": "light"
     },
     "output_type": "display_data"
    }
   ],
   "source": [
    "# k = 5\n",
    "model = cluster.KMeans(n_clusters = 5, random_state = 1000)\n",
    "pca_data['cluster'] = model.fit_predict(z_paper)\n",
    "sns.scatterplot(data = pca_data,x = 'PCA1',y = 'PCA2',hue = 'cluster', palette = 'bright')\n",
    "plt.legend(bbox_to_anchor = [1, 1],loc = 2)"
   ]
  },
  {
   "cell_type": "code",
   "execution_count": 13,
   "metadata": {
    "ExecuteTime": {
     "end_time": "2020-10-25T17:43:59.560412Z",
     "start_time": "2020-10-25T17:43:59.548490Z"
    }
   },
   "outputs": [
    {
     "data": {
      "text/html": [
       "<div>\n",
       "<style scoped>\n",
       "    .dataframe tbody tr th:only-of-type {\n",
       "        vertical-align: middle;\n",
       "    }\n",
       "\n",
       "    .dataframe tbody tr th {\n",
       "        vertical-align: top;\n",
       "    }\n",
       "\n",
       "    .dataframe thead th {\n",
       "        text-align: right;\n",
       "    }\n",
       "</style>\n",
       "<table border=\"1\" class=\"dataframe\">\n",
       "  <thead>\n",
       "    <tr style=\"text-align: right;\">\n",
       "      <th></th>\n",
       "      <th>Newspaper</th>\n",
       "      <th>Firm size</th>\n",
       "      <th>Product quality</th>\n",
       "      <th>Technical support</th>\n",
       "      <th>Sales force</th>\n",
       "      <th>New product development</th>\n",
       "      <th>Delivery</th>\n",
       "    </tr>\n",
       "  </thead>\n",
       "  <tbody>\n",
       "    <tr>\n",
       "      <th>0</th>\n",
       "      <td>-0.960769</td>\n",
       "      <td>0.980196</td>\n",
       "      <td>0.496660</td>\n",
       "      <td>-1.881421</td>\n",
       "      <td>0.821973</td>\n",
       "      <td>-0.572173</td>\n",
       "      <td>-0.254531</td>\n",
       "    </tr>\n",
       "    <tr>\n",
       "      <th>1</th>\n",
       "      <td>1.040833</td>\n",
       "      <td>-1.020204</td>\n",
       "      <td>0.280721</td>\n",
       "      <td>-0.174023</td>\n",
       "      <td>-1.896068</td>\n",
       "      <td>-0.774117</td>\n",
       "      <td>1.387605</td>\n",
       "    </tr>\n",
       "    <tr>\n",
       "      <th>2</th>\n",
       "      <td>-0.960769</td>\n",
       "      <td>0.980196</td>\n",
       "      <td>1.000518</td>\n",
       "      <td>0.154322</td>\n",
       "      <td>0.634522</td>\n",
       "      <td>-0.370230</td>\n",
       "      <td>0.840226</td>\n",
       "    </tr>\n",
       "    <tr>\n",
       "      <th>3</th>\n",
       "      <td>1.040833</td>\n",
       "      <td>0.980196</td>\n",
       "      <td>-1.014914</td>\n",
       "      <td>1.073690</td>\n",
       "      <td>-0.583910</td>\n",
       "      <td>-1.043375</td>\n",
       "      <td>-1.212443</td>\n",
       "    </tr>\n",
       "    <tr>\n",
       "      <th>4</th>\n",
       "      <td>-0.960769</td>\n",
       "      <td>0.980196</td>\n",
       "      <td>0.856559</td>\n",
       "      <td>-0.108354</td>\n",
       "      <td>-0.583910</td>\n",
       "      <td>-0.437544</td>\n",
       "      <td>-0.528220</td>\n",
       "    </tr>\n",
       "  </tbody>\n",
       "</table>\n",
       "</div>"
      ],
      "text/plain": [
       "   Newspaper  Firm size  Product quality  Technical support  Sales force  \\\n",
       "0  -0.960769   0.980196         0.496660          -1.881421     0.821973   \n",
       "1   1.040833  -1.020204         0.280721          -0.174023    -1.896068   \n",
       "2  -0.960769   0.980196         1.000518           0.154322     0.634522   \n",
       "3   1.040833   0.980196        -1.014914           1.073690    -0.583910   \n",
       "4  -0.960769   0.980196         0.856559          -0.108354    -0.583910   \n",
       "\n",
       "   New product development  Delivery  \n",
       "0                -0.572173 -0.254531  \n",
       "1                -0.774117  1.387605  \n",
       "2                -0.370230  0.840226  \n",
       "3                -1.043375 -1.212443  \n",
       "4                -0.437544 -0.528220  "
      ]
     },
     "execution_count": 13,
     "metadata": {},
     "output_type": "execute_result"
    }
   ],
   "source": [
    "z_paper.head()"
   ]
  },
  {
   "cell_type": "markdown",
   "metadata": {},
   "source": [
    "#### Question 9\n",
    "\n",
    "Going forward (**questions 9-11**), we will choose `k=3` for our clusters. Which of the customer clusters have the most number of customers in it? "
   ]
  },
  {
   "cell_type": "code",
   "execution_count": 14,
   "metadata": {
    "ExecuteTime": {
     "end_time": "2020-10-25T17:43:59.625449Z",
     "start_time": "2020-10-25T17:43:59.563097Z"
    }
   },
   "outputs": [
    {
     "data": {
      "text/plain": [
       "1    37\n",
       "2    32\n",
       "0    31\n",
       "Name: cluster, dtype: int64"
      ]
     },
     "execution_count": 14,
     "metadata": {},
     "output_type": "execute_result"
    }
   ],
   "source": [
    "# Cluster 1 has the most number of customers.\n",
    "model = cluster.KMeans(n_clusters = 3, random_state = 1000)\n",
    "z_paper['cluster'] = model.fit_predict(z_paper)\n",
    "z_paper['cluster'].value_counts()"
   ]
  },
  {
   "cell_type": "markdown",
   "metadata": {},
   "source": [
    "#### Question 10\n",
    "\n",
    "How would you describe the **average** customer in the largest customer cluster (question 9) to your boss/client in words?  (Hint:  Describe the customers in the cluster with respect to their type (are they mostly newspapers or not?) and size of business but not their perceptions about Trojan Paper)."
   ]
  },
  {
   "cell_type": "code",
   "execution_count": 15,
   "metadata": {
    "ExecuteTime": {
     "end_time": "2020-10-25T17:43:59.643332Z",
     "start_time": "2020-10-25T17:43:59.627739Z"
    }
   },
   "outputs": [
    {
     "data": {
      "text/plain": [
       "Newspaper    1.000000\n",
       "Firm size    0.351351\n",
       "dtype: float64"
      ]
     },
     "execution_count": 15,
     "metadata": {},
     "output_type": "execute_result"
    }
   ],
   "source": [
    "# In the largest cluster, all customers are newspaper, and around 35% of then have large firm size (> 500)\n",
    "# have large firm size.\n",
    "paper['cluster'] = z_paper['cluster']\n",
    "paper.loc[paper['cluster'] == 1, ['Newspaper','Firm size']].mean()"
   ]
  },
  {
   "cell_type": "markdown",
   "metadata": {},
   "source": [
    "#### Question 11\n",
    "\n",
    "**Trojan Paper** leadership believes that retaining large firm customers is a high priority. \n",
    "\n",
    "- On average, what perception do the large firm customers have on **Trojan Paper**: product quality, technical support, sales force, new product development, and delivery?\n",
    "- Based on your analysis, which areas should **Trojan Paper** improve upon to satisfy their large customers."
   ]
  },
  {
   "cell_type": "code",
   "execution_count": 16,
   "metadata": {
    "ExecuteTime": {
     "end_time": "2020-10-25T17:43:59.658173Z",
     "start_time": "2020-10-25T17:43:59.645868Z"
    }
   },
   "outputs": [
    {
     "data": {
      "text/plain": [
       "Newspaper                  0.431373\n",
       "Firm size                  1.000000\n",
       "Product quality            7.672549\n",
       "Technical support          5.101961\n",
       "Sales force                5.425490\n",
       "New product development    5.117647\n",
       "Delivery                   3.972549\n",
       "cluster                    1.392157\n",
       "dtype: float64"
      ]
     },
     "execution_count": 16,
     "metadata": {},
     "output_type": "execute_result"
    }
   ],
   "source": [
    "# Overall, large firms are satisified with product quality (7.67/10), but there is still space for improvement in product quality. \n",
    "# Trojan paper should focus on improving delivery, which has a poor score(3.97/10). \n",
    "# Also, Trojan paper should pay attention on Technical support, Sales force,\n",
    "# and New product development because these services all have a score around 5, which is not a decent score.\n",
    "paper.loc[paper['Firm size'] == 1].mean()"
   ]
  },
  {
   "cell_type": "markdown",
   "metadata": {},
   "source": [
    "# <span style=\"color:black\"> Case Study 2: </span>  <span style=\"color:firebrick\"> Trojan Electronics </span>"
   ]
  },
  {
   "cell_type": "markdown",
   "metadata": {},
   "source": [
    "**Trojan Electronics** is an electronics distributor, who is looking for your analytics support as an analytics expert. The shipping manager of **Trojan Electronics** is considering a new route from the warehouse to a retail store using an inner-city route. The new route uses freeways that bypass the city with the hope that the mean time to make the trip on this new route will be less than the mean time to make the trip on the current route."
   ]
  },
  {
   "cell_type": "markdown",
   "metadata": {},
   "source": [
    "### <span style=\"color:black\"> Dataset: </span>  <span style=\"color:firebrick\"> Trojan Electronics </span>"
   ]
  },
  {
   "cell_type": "markdown",
   "metadata": {},
   "source": [
    "A random sample of 25 delivery times for each route is collected. The data is saved in the file `delivery_routes.csv`:\n",
    "\n",
    "|**Variables**    |**Explanation**|\n",
    "|:-----------------|:--------------|\n",
    "|`Delivery ID`| delivery id|\n",
    "|`Route`|route type (current, old)|\n",
    "|`Time`|amount of time (minutes) to make the delivery from the warehouse to the retail store|\n"
   ]
  },
  {
   "cell_type": "markdown",
   "metadata": {},
   "source": [
    "### <span style=\"color:black\"> Questions: </span>  <span style=\"color:firebrick\"> Trojan Electronics </span>"
   ]
  },
  {
   "cell_type": "markdown",
   "metadata": {},
   "source": [
    "#### Read data"
   ]
  },
  {
   "cell_type": "code",
   "execution_count": 17,
   "metadata": {
    "ExecuteTime": {
     "end_time": "2020-10-25T17:43:59.686258Z",
     "start_time": "2020-10-25T17:43:59.660629Z"
    }
   },
   "outputs": [
    {
     "data": {
      "text/html": [
       "<div>\n",
       "<style scoped>\n",
       "    .dataframe tbody tr th:only-of-type {\n",
       "        vertical-align: middle;\n",
       "    }\n",
       "\n",
       "    .dataframe tbody tr th {\n",
       "        vertical-align: top;\n",
       "    }\n",
       "\n",
       "    .dataframe thead th {\n",
       "        text-align: right;\n",
       "    }\n",
       "</style>\n",
       "<table border=\"1\" class=\"dataframe\">\n",
       "  <thead>\n",
       "    <tr style=\"text-align: right;\">\n",
       "      <th></th>\n",
       "      <th>Delivery ID</th>\n",
       "      <th>Route</th>\n",
       "      <th>Time</th>\n",
       "    </tr>\n",
       "  </thead>\n",
       "  <tbody>\n",
       "    <tr>\n",
       "      <th>0</th>\n",
       "      <td>1816</td>\n",
       "      <td>new</td>\n",
       "      <td>37</td>\n",
       "    </tr>\n",
       "    <tr>\n",
       "      <th>1</th>\n",
       "      <td>3980</td>\n",
       "      <td>new</td>\n",
       "      <td>42</td>\n",
       "    </tr>\n",
       "    <tr>\n",
       "      <th>2</th>\n",
       "      <td>1867</td>\n",
       "      <td>current</td>\n",
       "      <td>41</td>\n",
       "    </tr>\n",
       "    <tr>\n",
       "      <th>3</th>\n",
       "      <td>3036</td>\n",
       "      <td>current</td>\n",
       "      <td>49</td>\n",
       "    </tr>\n",
       "    <tr>\n",
       "      <th>4</th>\n",
       "      <td>2659</td>\n",
       "      <td>new</td>\n",
       "      <td>39</td>\n",
       "    </tr>\n",
       "  </tbody>\n",
       "</table>\n",
       "</div>"
      ],
      "text/plain": [
       "   Delivery ID    Route  Time\n",
       "0         1816      new    37\n",
       "1         3980      new    42\n",
       "2         1867  current    41\n",
       "3         3036  current    49\n",
       "4         2659      new    39"
      ]
     },
     "execution_count": 17,
     "metadata": {},
     "output_type": "execute_result"
    }
   ],
   "source": [
    "delivery = pd.read_csv('delivery_routes.csv')\n",
    "delivery.head()"
   ]
  },
  {
   "cell_type": "markdown",
   "metadata": {},
   "source": [
    "#### Question 12\n",
    "\n",
    "Describe the delivery time for the two routes to the shipping manager by stating the mean, standard deviation, and range of delivery times for both the current and new route."
   ]
  },
  {
   "cell_type": "code",
   "execution_count": 18,
   "metadata": {
    "ExecuteTime": {
     "end_time": "2020-10-25T17:43:59.717355Z",
     "start_time": "2020-10-25T17:43:59.690918Z"
    }
   },
   "outputs": [
    {
     "data": {
      "text/html": [
       "<div>\n",
       "<style scoped>\n",
       "    .dataframe tbody tr th:only-of-type {\n",
       "        vertical-align: middle;\n",
       "    }\n",
       "\n",
       "    .dataframe tbody tr th {\n",
       "        vertical-align: top;\n",
       "    }\n",
       "\n",
       "    .dataframe thead tr th {\n",
       "        text-align: left;\n",
       "    }\n",
       "\n",
       "    .dataframe thead tr:last-of-type th {\n",
       "        text-align: right;\n",
       "    }\n",
       "</style>\n",
       "<table border=\"1\" class=\"dataframe\">\n",
       "  <thead>\n",
       "    <tr>\n",
       "      <th></th>\n",
       "      <th colspan=\"3\" halign=\"left\">Time</th>\n",
       "    </tr>\n",
       "    <tr>\n",
       "      <th></th>\n",
       "      <th>mean</th>\n",
       "      <th>std</th>\n",
       "      <th>&lt;lambda_0&gt;</th>\n",
       "    </tr>\n",
       "    <tr>\n",
       "      <th>Route</th>\n",
       "      <th></th>\n",
       "      <th></th>\n",
       "      <th></th>\n",
       "    </tr>\n",
       "  </thead>\n",
       "  <tbody>\n",
       "    <tr>\n",
       "      <th>current</th>\n",
       "      <td>51.36</td>\n",
       "      <td>5.779850</td>\n",
       "      <td>18</td>\n",
       "    </tr>\n",
       "    <tr>\n",
       "      <th>new</th>\n",
       "      <td>40.60</td>\n",
       "      <td>4.062019</td>\n",
       "      <td>15</td>\n",
       "    </tr>\n",
       "  </tbody>\n",
       "</table>\n",
       "</div>"
      ],
      "text/plain": [
       "          Time                     \n",
       "          mean       std <lambda_0>\n",
       "Route                              \n",
       "current  51.36  5.779850         18\n",
       "new      40.60  4.062019         15"
      ]
     },
     "execution_count": 18,
     "metadata": {},
     "output_type": "execute_result"
    }
   ],
   "source": [
    "# Current route has mean delivery time of 51.36, standard deviation of 5.78, and range of 18.\n",
    "# New route has mean delivery time of 40.6, standard deviation of 4.06, and range of 15.\n",
    "delivery.groupby('Route').agg({'Time':['mean','std',lambda x: x.max()-x.min()]})"
   ]
  },
  {
   "cell_type": "markdown",
   "metadata": {},
   "source": [
    "#### Question 13\n",
    "\n",
    "Create a side-by-side box plot to compare the distribution of delivery times for the current and new route. **What information can you get from this graph regarding the delivery times for the new and current route?**"
   ]
  },
  {
   "cell_type": "code",
   "execution_count": 19,
   "metadata": {
    "ExecuteTime": {
     "end_time": "2020-10-25T17:43:59.894750Z",
     "start_time": "2020-10-25T17:43:59.725168Z"
    }
   },
   "outputs": [
    {
     "data": {
      "text/plain": [
       "<matplotlib.axes._subplots.AxesSubplot at 0x118b14220>"
      ]
     },
     "execution_count": 19,
     "metadata": {},
     "output_type": "execute_result"
    },
    {
     "data": {
      "image/png": "[encoded data removed]",
      "text/plain": [
       "<Figure size 432x288 with 1 Axes>"
      ]
     },
     "metadata": {
      "needs_background": "light"
     },
     "output_type": "display_data"
    }
   ],
   "source": [
    "sns.boxplot(data = delivery, x = 'Route', y = 'Time')\n",
    "# Overall, new route has smaller delivery time than that of current route.\n",
    "# The minimum delivery time of current route is equal to the median delivery time of new route.\n",
    "# The maximum delivery time of new route is equal to the 25 percentile of delivery time of current route.\n",
    "# 50% of delivery time of new route is between 37.5 and 42.5\n",
    "# 50% of delivery time of current route is between 47.5 and 56."
   ]
  },
  {
   "cell_type": "markdown",
   "metadata": {},
   "source": [
    "#### Question 15\n",
    "\n",
    "This shipping manger believes that the new route is faster than the current route used to deliver from the warehouse to the retail store. \n",
    "\n",
    "Use the A/B testing approach to determine whether or not the shipping manager is right in her assumption. \n",
    "\n",
    "**(a)** State your $H_0$ and $H_A$.\n",
    "\n",
    "**(b)** What is the p-value associated with the observed value of the test statistic you have used in the A/B testing process? You can assume equal variance for the current and new delivery times.\n",
    "\n",
    "**(c)** Would you recommend the shipping manager to make the change to the new route (you can assume the new route involves no additional costs)? **Why?**\n"
   ]
  },
  {
   "cell_type": "markdown",
   "metadata": {},
   "source": [
    "#### (a)\n",
    "- $H_0$: current route and new route have similar delivery time\n",
    "- $H_A$: current route has higher delivery time than that of new route"
   ]
  },
  {
   "cell_type": "markdown",
   "metadata": {},
   "source": [
    "#### (b)"
   ]
  },
  {
   "cell_type": "code",
   "execution_count": 20,
   "metadata": {
    "ExecuteTime": {
     "end_time": "2020-10-25T17:43:59.909156Z",
     "start_time": "2020-10-25T17:43:59.897258Z"
    }
   },
   "outputs": [
    {
     "data": {
      "text/plain": [
       "8.429760762923315e-10"
      ]
     },
     "execution_count": 20,
     "metadata": {},
     "output_type": "execute_result"
    }
   ],
   "source": [
    "t,p = stats.ttest_ind(delivery.loc[delivery['Route'] == 'current', 'Time'].values,\n",
    "                     delivery.loc[delivery['Route'] == 'new', 'Time'].values,\n",
    "                     equal_var = True)\n",
    "p"
   ]
  },
  {
   "cell_type": "markdown",
   "metadata": {},
   "source": [
    "#### (c)\n",
    "- Yes, I would recommend the shipping manager to change to new route because the p-value is less than 0.05, which means that I have significant evidence to reject $H_0$ and conclude that current route has higher delivery time than that of new route."
   ]
  }
 ],
 "metadata": {
  "kernelspec": {
   "display_name": "Python 3",
   "language": "python",
   "name": "python3"
  },
  "language_info": {
   "codemirror_mode": {
    "name": "ipython",
    "version": 3
   },
   "file_extension": ".py",
   "mimetype": "text/x-python",
   "name": "python",
   "nbconvert_exporter": "python",
   "pygments_lexer": "ipython3",
   "version": "3.8.3"
  },
  "varInspector": {
   "cols": {
    "lenName": 16,
    "lenType": 16,
    "lenVar": 40
   },
   "kernels_config": {
    "python": {
     "delete_cmd_postfix": "",
     "delete_cmd_prefix": "del ",
     "library": "var_list.py",
     "varRefreshCmd": "print(var_dic_list())"
    },
    "r": {
     "delete_cmd_postfix": ") ",
     "delete_cmd_prefix": "rm(",
     "library": "var_list.r",
     "varRefreshCmd": "cat(var_dic_list()) "
    }
   },
   "types_to_exclude": [
    "module",
    "function",
    "builtin_function_or_method",
    "instance",
    "_Feature"
   ],
   "window_display": false
  }
 },
 "nbformat": 4,
 "nbformat_minor": 4
}
